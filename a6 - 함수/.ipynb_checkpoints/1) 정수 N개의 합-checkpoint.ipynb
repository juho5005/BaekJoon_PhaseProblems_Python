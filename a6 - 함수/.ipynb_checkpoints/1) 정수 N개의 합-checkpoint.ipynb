{
 "cells": [
  {
   "cell_type": "markdown",
   "id": "6ab069f3",
   "metadata": {},
   "source": [
    "# 정수 N개의 합"
   ]
  },
  {
   "cell_type": "markdown",
   "id": "097317a3",
   "metadata": {},
   "source": [
    "문제에서는 그냥 함수에 관한 부분만 작성해서 제출하면 된다.\n",
    "굳이 입력값 칸 이런거 만들면 오히려 틀림."
   ]
  },
  {
   "cell_type": "markdown",
   "id": "0f217b40",
   "metadata": {},
   "source": [
    "반복문, 리스트 a의 인덱스를 이용하여 구하는 방법"
   ]
  },
  {
   "cell_type": "code",
   "execution_count": 1,
   "id": "5acb56f4",
   "metadata": {},
   "outputs": [
    {
     "name": "stdout",
     "output_type": "stream",
     "text": [
      "1 2 3 4 5\n",
      "15\n"
     ]
    }
   ],
   "source": [
    "def solve(a) :\n",
    "    sum = 0\n",
    "    for i in range(len(a)) :\n",
    "        sum += a[i]\n",
    "    return sum\n",
    "\n",
    "\n",
    "a = list(map(int, input().split())) # 정수 n개 입력\n",
    "print(solve(a))"
   ]
  },
  {
   "cell_type": "markdown",
   "id": "0fb4a820",
   "metadata": {},
   "source": [
    "반복문, 리스트 그 자체에 접근해서 구하는 방법"
   ]
  },
  {
   "cell_type": "code",
   "execution_count": 3,
   "id": "21fb25e3",
   "metadata": {},
   "outputs": [
    {
     "name": "stdout",
     "output_type": "stream",
     "text": [
      "1 2 3 4 5 \n",
      "15\n"
     ]
    }
   ],
   "source": [
    "def solve(a) :\n",
    "    sum = 0\n",
    "    for i in a :\n",
    "        sum += i\n",
    "    return sum\n",
    "\n",
    "\n",
    "a = list(map(int, input().split())) # 정수 n개 입력\n",
    "print(solve(a))"
   ]
  },
  {
   "cell_type": "markdown",
   "id": "6168a016",
   "metadata": {},
   "source": [
    "리스트 a에 대한 것 이므로 sum 함수를 사용해서 구해주기"
   ]
  },
  {
   "cell_type": "code",
   "execution_count": 4,
   "id": "b7d79f2f",
   "metadata": {},
   "outputs": [
    {
     "name": "stdout",
     "output_type": "stream",
     "text": [
      "1 2 3 4 5\n",
      "15\n"
     ]
    }
   ],
   "source": [
    "def solve(a) :\n",
    "    b = 0\n",
    "    b = sum(a)\n",
    "    return b\n",
    "\n",
    "\n",
    "a = list(map(int, input().split())) # 정수 n개 입력\n",
    "print(solve(a))"
   ]
  }
 ],
 "metadata": {
  "kernelspec": {
   "display_name": "Python 3",
   "language": "python",
   "name": "python3"
  },
  "language_info": {
   "codemirror_mode": {
    "name": "ipython",
    "version": 3
   },
   "file_extension": ".py",
   "mimetype": "text/x-python",
   "name": "python",
   "nbconvert_exporter": "python",
   "pygments_lexer": "ipython3",
   "version": "3.8.8"
  }
 },
 "nbformat": 4,
 "nbformat_minor": 5
}
