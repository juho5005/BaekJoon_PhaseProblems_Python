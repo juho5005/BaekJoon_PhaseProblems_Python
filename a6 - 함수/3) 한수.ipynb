{
 "cells": [
  {
   "cell_type": "markdown",
   "id": "5f55509d",
   "metadata": {},
   "source": [
    "# 한수"
   ]
  },
  {
   "cell_type": "markdown",
   "id": "c51b4a46",
   "metadata": {},
   "source": [
    "양의 정수 X의 각 자리가 등차수열을 이룰때, 그 수를 한수라고 한다.\n",
    "\n",
    "입력) \n",
    "1,000보다 작은 자연수 N 입력\n",
    "\n",
    "출력)\n",
    "1 <= hansu <= n 의 hansu의 개수는?"
   ]
  },
  {
   "cell_type": "code",
   "execution_count": 12,
   "id": "9e401bc9",
   "metadata": {},
   "outputs": [
    {
     "name": "stdout",
     "output_type": "stream",
     "text": [
      "1000\n",
      "144\n"
     ]
    }
   ],
   "source": [
    "n = int(input()) # 1000보다 작거나 같은 자연수 N 입력\n",
    "\n",
    "count = 0 # 한수의 개수를 저장할 변수 count 지정\n",
    "for i in range(1, n+1) :\n",
    "    if i<100 : \n",
    "        count += 1\n",
    "    elif i == 1000 :\n",
    "        pass\n",
    "    else :\n",
    "        a = i // 100 # 100의 자리\n",
    "        b = (i//10) % 10 # 10의 자리\n",
    "        c = (i) % 10 # 1의 자리\n",
    "        \n",
    "        if b-a == c-b :\n",
    "            count += 1\n",
    "print(count)\n",
    "        "
   ]
  },
  {
   "cell_type": "markdown",
   "id": "c58c4867",
   "metadata": {},
   "source": [
    "\"각 자리의 숫자를 더하는 고찰\" - Notion에서 기술한 것 처럼\n",
    "여기서도 이용할 수 있다.\n",
    "\n",
    "특히 map()과 str()를 이용해서 구하면 위에 처럼 a,b,c 따로 안나눠도 된다."
   ]
  },
  {
   "cell_type": "code",
   "execution_count": 14,
   "id": "aa5ffea2",
   "metadata": {},
   "outputs": [
    {
     "name": "stdout",
     "output_type": "stream",
     "text": [
      "1\n",
      "2\n",
      "3\n"
     ]
    }
   ],
   "source": [
    "i= 123\n",
    "\n",
    "i_list = list(map(int, str(i)))\n",
    "\n",
    "print(i_list[0])\n",
    "print(i_list[1])\n",
    "print(i_list[2])"
   ]
  },
  {
   "cell_type": "markdown",
   "id": "90d7a148",
   "metadata": {},
   "source": [
    "위의 코드처럼 list(map(int, str(i)))로 받아주면,\n",
    "인덱스 0,1,2,3,4,5는 차례로 앞에 숫자부터 지정된다."
   ]
  },
  {
   "cell_type": "code",
   "execution_count": 16,
   "id": "31c726b9",
   "metadata": {},
   "outputs": [
    {
     "name": "stdout",
     "output_type": "stream",
     "text": [
      "210\n",
      "105\n"
     ]
    }
   ],
   "source": [
    "n = int(input())\n",
    "\n",
    "count = 0\n",
    "\n",
    "for i in range(1, n+1):\n",
    "    num_list = list(map(int, str(i)))\n",
    "    \n",
    "    if i < 100 :\n",
    "        count +=1\n",
    "    elif i == 1000 :\n",
    "        pass\n",
    "    else :\n",
    "        if num_list[1] - num_list[0] == num_list[2] - num_list[1] :\n",
    "            count += 1\n",
    "print(count)"
   ]
  },
  {
   "cell_type": "markdown",
   "id": "d2a70833",
   "metadata": {},
   "source": [
    "근데 밑에서 푼 식으로 하면 오히려 시간의 효율성이 떨어졌었음\n",
    "일단 알아는 두기, 굉장히 편하게 풀 수 있는듯 파이썬에서 각자리의 숫자를 이용한 문제에서는!"
   ]
  },
  {
   "cell_type": "code",
   "execution_count": null,
   "id": "fc182c86",
   "metadata": {},
   "outputs": [],
   "source": []
  }
 ],
 "metadata": {
  "kernelspec": {
   "display_name": "Python 3",
   "language": "python",
   "name": "python3"
  },
  "language_info": {
   "codemirror_mode": {
    "name": "ipython",
    "version": 3
   },
   "file_extension": ".py",
   "mimetype": "text/x-python",
   "name": "python",
   "nbconvert_exporter": "python",
   "pygments_lexer": "ipython3",
   "version": "3.8.8"
  }
 },
 "nbformat": 4,
 "nbformat_minor": 5
}
