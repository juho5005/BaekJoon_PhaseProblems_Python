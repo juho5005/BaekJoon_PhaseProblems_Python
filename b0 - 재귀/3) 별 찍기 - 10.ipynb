{
 "cells": [
  {
   "cell_type": "markdown",
   "id": "db9f7d84",
   "metadata": {},
   "source": [
    "# 별 찍기 "
   ]
  },
  {
   "cell_type": "markdown",
   "id": "5df26c2e",
   "metadata": {},
   "source": [
    "- 재귀적인 패턴으로 별 찍기\n",
    "\n",
    "N이 3의 거듭제곱(3, 9 , 27..) N의 패턴은 N X N 정사각형 모양이다.\n",
    "\n",
    "\n",
    "\n",
    "입력) \n",
    "N은 3의 거듭제곱이다. 어떤 정수 k에 대해 N = 3^k  이떄, 1 <= k <= 8이다.\n",
    "\n",
    "출력)\n",
    "첫째 줄부터 N번째 줄까지 별을 출력한다.\n",
    "\n",
    "https://yeol2.tistory.com/38"
   ]
  },
  {
   "cell_type": "markdown",
   "id": "d5f6b84f",
   "metadata": {},
   "source": [
    "### n이 3일때 별을 만드는 식"
   ]
  },
  {
   "cell_type": "code",
   "execution_count": 27,
   "id": "8b9138b9",
   "metadata": {},
   "outputs": [
    {
     "name": "stdout",
     "output_type": "stream",
     "text": [
      "***\n",
      "* *\n",
      "***\n"
     ]
    }
   ],
   "source": [
    "star = [\"***\", \"* *\", \"***\"]\n",
    "for i  in star :\n",
    "    print(i)"
   ]
  },
  {
   "cell_type": "markdown",
   "id": "f9312e84",
   "metadata": {},
   "source": [
    "### n이 3의 거듭제곱이므로\n",
    "### 재귀함수를 돌릴때 몇번 돌려야 하는지 알아내기."
   ]
  },
  {
   "cell_type": "code",
   "execution_count": 29,
   "id": "68a72d85",
   "metadata": {},
   "outputs": [
    {
     "name": "stdout",
     "output_type": "stream",
     "text": [
      "9\n",
      "1\n"
     ]
    }
   ],
   "source": [
    "n = int(input())\n",
    "k = 0 # 3이 될때까지 몇번 3으로 나눠야 하는지 저장할 변수\n",
    "while n != 3 :\n",
    "    n = n // 3\n",
    "    k += 1\n",
    "print(k) \n",
    "\n",
    "# 즉) 예를들어 n이 9라면, 3으로 1번만 나눠주면 3이 된다."
   ]
  },
  {
   "cell_type": "markdown",
   "id": "3d4116c3",
   "metadata": {},
   "source": [
    "### 이제 별을 만드는 함수를 설정"
   ]
  },
  {
   "cell_type": "code",
   "execution_count": 30,
   "id": "65a191a1",
   "metadata": {},
   "outputs": [],
   "source": [
    "def stars(s) : # star을 변수로 불러오는데 줄여서 s라고 쓰겠음\n",
    "    board = []\n",
    "    for i in range(3 * len(s)) :\n",
    "        if i // len(s) == 1 :\n",
    "            board.append(s[i % len(s)] + \" \" * 3 + s[i% len(s)])\n",
    "        else :\n",
    "            board.append(s[i % len(s)] * 3)\n",
    "\n",
    "star = [\"***\", \"**\", \"***\"] # n이 3일때의 별 모양 생성\n",
    "\n",
    "star = stars(star) # star를 구할 때 stars() 함수안에 star를 변수로 사용한다."
   ]
  },
  {
   "cell_type": "markdown",
   "id": "7138801e",
   "metadata": {},
   "source": [
    "### 최종 코드 짜기"
   ]
  },
  {
   "cell_type": "code",
   "execution_count": 36,
   "id": "fc0de465",
   "metadata": {},
   "outputs": [
    {
     "name": "stdout",
     "output_type": "stream",
     "text": [
      "27\n",
      "***************************\n",
      "* ** ** ** ** ** ** ** ** *\n",
      "***************************\n",
      "***   ******   ******   ***\n",
      "* *   * ** *   * ** *   * *\n",
      "***   ******   ******   ***\n",
      "***************************\n",
      "* ** ** ** ** ** ** ** ** *\n",
      "***************************\n",
      "*********         *********\n",
      "* ** ** *         * ** ** *\n",
      "*********         *********\n",
      "***   ***         ***   ***\n",
      "* *   * *         * *   * *\n",
      "***   ***         ***   ***\n",
      "*********         *********\n",
      "* ** ** *         * ** ** *\n",
      "*********         *********\n",
      "***************************\n",
      "* ** ** ** ** ** ** ** ** *\n",
      "***************************\n",
      "***   ******   ******   ***\n",
      "* *   * ** *   * ** *   * *\n",
      "***   ******   ******   ***\n",
      "***************************\n",
      "* ** ** ** ** ** ** ** ** *\n",
      "***************************\n"
     ]
    }
   ],
   "source": [
    "def stars(s) :\n",
    "    board = []\n",
    "    for i in range(3 * len(s)) :\n",
    "        if i // len(s) == 1: \n",
    "            board.append(s[i % len(s)] + \" \" * len(s) + s[i % len(s)])\n",
    "        else :\n",
    "            board.append(s[i % len(s)] * 3)\n",
    "    return board\n",
    "    \n",
    "    \n",
    "\n",
    "n = int(input()) # n은 3의 거듭제곱\n",
    "k = 0 # 함수를 몇 번 사용하면 되는지 판별하기 위해서 정의\n",
    "\n",
    "while n != 3 :\n",
    "    n = n // 3\n",
    "    k += 1\n",
    "\n",
    "star = [\"***\", \"* *\", \"***\"]\n",
    "\n",
    "# 함수를 총 몇번 사용해야 하는지 구해서 star에 stars(star)를 대입\n",
    "for i in range(k) :\n",
    "    star = stars(star)\n",
    "\n",
    "# 최종 별의 모양 출력\n",
    "for j in star :\n",
    "    print(j)"
   ]
  },
  {
   "cell_type": "code",
   "execution_count": null,
   "id": "0e9a33a1",
   "metadata": {},
   "outputs": [],
   "source": []
  },
  {
   "cell_type": "code",
   "execution_count": null,
   "id": "f3ac0ab5",
   "metadata": {},
   "outputs": [],
   "source": []
  }
 ],
 "metadata": {
  "kernelspec": {
   "display_name": "Python 3",
   "language": "python",
   "name": "python3"
  },
  "language_info": {
   "codemirror_mode": {
    "name": "ipython",
    "version": 3
   },
   "file_extension": ".py",
   "mimetype": "text/x-python",
   "name": "python",
   "nbconvert_exporter": "python",
   "pygments_lexer": "ipython3",
   "version": "3.8.8"
  }
 },
 "nbformat": 4,
 "nbformat_minor": 5
}
