{
 "cells": [
  {
   "cell_type": "markdown",
   "id": "2ba35970",
   "metadata": {},
   "source": [
    "# 피보나치의 수 "
   ]
  },
  {
   "cell_type": "markdown",
   "id": "f2a48a81",
   "metadata": {},
   "source": [
    "피보나치의 수는 0과 1로 시작하고 \n",
    "F(n) = F(n-1) + F(n-2)  단) (n >= 2)일때\n",
    "\n",
    "n이 주어졌을 때, n번째 피보나치 수를 구하는 프로그램작성\n",
    "idx는 0부터 세준다.\n",
    "\n",
    "입력)\n",
    "n 입력 , 0 <= n <= 20 자연수 +) 0도 됨!\n",
    "\n",
    "출력)\n",
    "n번째 피보나치 수 출력\n",
    "\n",
    "재귀로 풀어보았다.\n"
   ]
  },
  {
   "cell_type": "code",
   "execution_count": 2,
   "id": "09faf830",
   "metadata": {},
   "outputs": [
    {
     "name": "stdout",
     "output_type": "stream",
     "text": [
      "10\n",
      "55\n"
     ]
    }
   ],
   "source": [
    "n = int(input())\n",
    "\n",
    "def Fibonacci(n) :\n",
    "    if n == 0 :\n",
    "        return 0\n",
    "    elif n == 1 :\n",
    "        return 1\n",
    "    else :\n",
    "        return Fibonacci(n-1) + Fibonacci(n-2)\n",
    "    \n",
    "print(Fibonacci(n)) # 재귀 사용한 피보나치 함수"
   ]
  },
  {
   "cell_type": "markdown",
   "id": "652d4a11",
   "metadata": {},
   "source": [
    "위에 내가 푼것과 원리는 같은데 센스있게 푼 부분이 있어서 배껴서 작성해보았다."
   ]
  },
  {
   "cell_type": "code",
   "execution_count": 3,
   "id": "3676735d",
   "metadata": {},
   "outputs": [
    {
     "name": "stdout",
     "output_type": "stream",
     "text": [
      "10\n",
      "55\n"
     ]
    }
   ],
   "source": [
    "def Fibonacci(n) :\n",
    "    if n <= 1 :\n",
    "        return n\n",
    "    return Fibonacci(n-1) + Fibonacci(n-2)\n",
    "\n",
    "n = int(input())\n",
    "print(Fibonacci(n))"
   ]
  },
  {
   "cell_type": "markdown",
   "id": "2f0820bc",
   "metadata": {},
   "source": [
    "## for문으로 풀어본 피보나치 수열\n",
    "\n",
    "for문으로 푸는 코드도 보았는데 리스트를 이용해서 푼것을 보고 가져와봤다."
   ]
  },
  {
   "cell_type": "code",
   "execution_count": 8,
   "id": "a94bf081",
   "metadata": {},
   "outputs": [
    {
     "name": "stdout",
     "output_type": "stream",
     "text": [
      "10\n",
      "55\n"
     ]
    }
   ],
   "source": [
    "n = int(input())\n",
    "\n",
    "Fibonacci = [0, 1]\n",
    "\n",
    "for i in range(2, n+1) :\n",
    "    num = Fibonacci[i-1] + Fibonacci[i-2]\n",
    "    Fibonacci.append(num)\n",
    "print(Fibonacci[n])"
   ]
  },
  {
   "cell_type": "code",
   "execution_count": null,
   "id": "1d8ad935",
   "metadata": {},
   "outputs": [],
   "source": []
  }
 ],
 "metadata": {
  "kernelspec": {
   "display_name": "Python 3",
   "language": "python",
   "name": "python3"
  },
  "language_info": {
   "codemirror_mode": {
    "name": "ipython",
    "version": 3
   },
   "file_extension": ".py",
   "mimetype": "text/x-python",
   "name": "python",
   "nbconvert_exporter": "python",
   "pygments_lexer": "ipython3",
   "version": "3.8.8"
  }
 },
 "nbformat": 4,
 "nbformat_minor": 5
}
