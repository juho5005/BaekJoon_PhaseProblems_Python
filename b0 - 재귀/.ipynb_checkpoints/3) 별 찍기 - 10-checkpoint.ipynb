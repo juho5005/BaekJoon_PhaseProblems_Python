{
 "cells": [
  {
   "cell_type": "markdown",
   "id": "db9f7d84",
   "metadata": {},
   "source": [
    "# 별 찍기 "
   ]
  },
  {
   "cell_type": "markdown",
   "id": "5df26c2e",
   "metadata": {},
   "source": [
    "- 재귀적인 패턴으로 별 찍기\n",
    "\n",
    "N이 3의 거듭제곱(3, 9 , 27..) N의 패턴은 N X N 정사각형 모양이다.\n",
    "\n",
    "\n",
    "\n",
    "입력) \n",
    "N은 3의 거듭제곱이다. 어떤 정수 k에 대해 N = 3^k  이떄, 1 <= k <= 8이다.\n",
    "\n",
    "출력)\n",
    "첫째 줄부터 N번째 줄까지 별을 출력한다.\n",
    "\n",
    "https://yeol2.tistory.com/38"
   ]
  },
  {
   "cell_type": "code",
   "execution_count": 11,
   "id": "a4295928",
   "metadata": {},
   "outputs": [
    {
     "name": "stdout",
     "output_type": "stream",
     "text": [
      "***\n",
      "* *\n",
      "***\n",
      "3\n"
     ]
    }
   ],
   "source": [
    "# N이 3일때 기본적으로 나오는 형태\n",
    "# 초창기 이해\n",
    "\n",
    "star = [\"***\", \"* *\", \"***\"]\n",
    "\n",
    "for i in star :\n",
    "    print(i)\n",
    "print(len(star))"
   ]
  },
  {
   "cell_type": "code",
   "execution_count": 10,
   "id": "7bcda1e0",
   "metadata": {},
   "outputs": [
    {
     "name": "stdout",
     "output_type": "stream",
     "text": [
      "3\n"
     ]
    }
   ],
   "source": [
    "n = int(input())\n",
    "\n",
    "while n != 3 :\n",
    "    n = n // 3\n",
    "    k += 1\n",
    "\n",
    "# 재귀를 사용해서 별의 모양을 반복해줘야 하는데,\n",
    "# n은 3의 거듭제곱이므로 n이 3의 몇승인가 구해줘서 몇번 반복해줘야 할 지 구하는 과정이다."
   ]
  },
  {
   "cell_type": "code",
   "execution_count": 12,
   "id": "a2ea7732",
   "metadata": {},
   "outputs": [],
   "source": [
    "# 별의 모양을 만들어주는 stars 함수 생성\n",
    "def stars(star) :\n",
    "    matrix = []\n",
    "    for i in range(3 * len(star)) :\n",
    "        if i // len(star) == 1 :\n",
    "            matrix.append(star[i % len(star)] + \" \" * len(star) + star[i & len(star)])\n",
    "        else :\n",
    "            matrix.append(n[i % len(n)] * 3)\n",
    "    return list(matrix)\n",
    "            "
   ]
  },
  {
   "cell_type": "code",
   "execution_count": 25,
   "id": "54fc02c6",
   "metadata": {},
   "outputs": [
    {
     "name": "stdout",
     "output_type": "stream",
     "text": [
      "27\n",
      "***************************\n",
      "* ** ** ** ** ** ** ** ** *\n",
      "***************************\n",
      "***   ******   ******   ***\n",
      "* *   * ** *   * ** *   * *\n",
      "***   ******   ******   ***\n",
      "***************************\n",
      "* ** ** ** ** ** ** ** ** *\n",
      "***************************\n",
      "*********         *********\n",
      "* ** ** *         * ** ** *\n",
      "*********         *********\n",
      "***   ***         ***   ***\n",
      "* *   * *         * *   * *\n",
      "***   ***         ***   ***\n",
      "*********         *********\n",
      "* ** ** *         * ** ** *\n",
      "*********         *********\n",
      "***************************\n",
      "* ** ** ** ** ** ** ** ** *\n",
      "***************************\n",
      "***   ******   ******   ***\n",
      "* *   * ** *   * ** *   * *\n",
      "***   ******   ******   ***\n",
      "***************************\n",
      "* ** ** ** ** ** ** ** ** *\n",
      "***************************\n"
     ]
    }
   ],
   "source": [
    "def stars(s) :\n",
    "    board = []\n",
    "    for i in range(3 * len(s)) :\n",
    "        if i // len(s) == 1 :\n",
    "            board.append(s[i % len(s)] + \" \" * len(s) + s[i % len(s)])\n",
    "        else :\n",
    "            board.append(s[i % len(s)] * 3)\n",
    "    return board\n",
    "    \n",
    "n = int(input()) # n은 3의 거듭제곱이다.\n",
    "k = 0 # n이 3의 몇 k제곱인지 알아내기 위하여 변수생성\n",
    "\n",
    "# 아래 과정을 통해 n이 3의 k임을 알아냄 \n",
    "# k를 통해 재귀(반복)를 몇번 하면 될지 정할 수 있음.\n",
    "while n != 3 :\n",
    "    n = n // 3\n",
    "    k += 1 \n",
    "\n",
    "star = [\"***\", \"* *\", \"***\"]\n",
    "\n",
    "# n에 따라 재귀를 몇번 할 지 정해준다.\n",
    "for i in range(k) :\n",
    "    star = stars(star)\n",
    "\n",
    "\n",
    "# 최종 별을 출력\n",
    "for j in star :\n",
    "    print(j)\n"
   ]
  },
  {
   "cell_type": "code",
   "execution_count": null,
   "id": "bd0e7c54",
   "metadata": {},
   "outputs": [],
   "source": []
  }
 ],
 "metadata": {
  "kernelspec": {
   "display_name": "Python 3",
   "language": "python",
   "name": "python3"
  },
  "language_info": {
   "codemirror_mode": {
    "name": "ipython",
    "version": 3
   },
   "file_extension": ".py",
   "mimetype": "text/x-python",
   "name": "python",
   "nbconvert_exporter": "python",
   "pygments_lexer": "ipython3",
   "version": "3.8.8"
  }
 },
 "nbformat": 4,
 "nbformat_minor": 5
}
