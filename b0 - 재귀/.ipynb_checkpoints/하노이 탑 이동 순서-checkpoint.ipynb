{
 "cells": [
  {
   "cell_type": "markdown",
   "id": "07ff7157",
   "metadata": {},
   "source": [
    "# 하노이 탑 이동 순서"
   ]
  },
  {
   "cell_type": "markdown",
   "id": "b943f58f",
   "metadata": {},
   "source": [
    "문제 풀이 : https://www.notion.so/11729-3986a0567c974a2781d7cf307138e0d4"
   ]
  },
  {
   "cell_type": "markdown",
   "id": "d4313fb3",
   "metadata": {},
   "source": [
    "세개의 장대가 있고 첫 번째 장대에는 반경이 서로 다른 n개의 원판이 쌓여 있따.\n",
    "각 원판은 반경이 큰 순서대로 쌓여있다.\n",
    "\n",
    "(규칙)\n",
    "1. 한 번에 한 개의 원판만을 다른 탑으로 옮길 수 있다.\n",
    "2. 쌓아 놓은 원판은 항상 위의 것이 아래의 것보다 작아야 한다.\n",
    "\n",
    "이 작업을 수행하는데 필요한 이동 순서를 출력하는 프로그램을 작성하라.\n",
    "단() 이동 횟수는 최소가 되어야 한다."
   ]
  },
  {
   "cell_type": "markdown",
   "id": "93bf1f42",
   "metadata": {},
   "source": [
    "C언어 자료구조 재귀에서 배운 하노이 함수를 응용해서 풀이 하였다 \n",
    "구글링해서 푼 사람들을 보니, 개수를 구할때 2**n -1개로 간략히 해서\n",
    "굳이 함수를 2개 만들필요 없이 했다."
   ]
  },
  {
   "cell_type": "code",
   "execution_count": 7,
   "id": "209302ab",
   "metadata": {},
   "outputs": [
    {
     "name": "stdout",
     "output_type": "stream",
     "text": [
      "3\n",
      "7\n",
      "1 3\n",
      "1 2\n",
      "3 2\n",
      "1 3\n",
      "2 1\n",
      "2 3\n",
      "1 3\n"
     ]
    }
   ],
   "source": [
    "cnt = 0 \n",
    "def HanoiTowelMove1(num, a,b,c) :\n",
    "    global cnt\n",
    "    if num == 1 :\n",
    "        cnt += 1\n",
    "    else :\n",
    "        cnt += 1\n",
    "        HanoiTowelMove1(num-1, a, c, b)\n",
    "        HanoiTowelMove1(num-1, b, a, c)\n",
    "\n",
    "def HanoiTowelMove2(num, a,b,c) : # num = 원판의 개수 / a,b,c == 1,2,3번째 막대\n",
    "    if num == 1 :\n",
    "        print(\"%c %c\" % (a, c))\n",
    "    else :\n",
    "        HanoiTowelMove2(num-1, a, c, b)\n",
    "        print(\"%c %c\" % (a, c))\n",
    "        HanoiTowelMove2(num-1, b, a, c)\n",
    "    \n",
    "    \n",
    "\n",
    "n = int(input()) # 첫 번째 장대에 쌓인 원판의 개수 (1 <= N <= 20)\n",
    "HanoiTowelMove1(n, '1', '2', '3')\n",
    "print(cnt)\n",
    "HanoiTowelMove2(n, '1', '2', '3')\n"
   ]
  },
  {
   "cell_type": "markdown",
   "id": "f1937524",
   "metadata": {},
   "source": [
    "하노이 타워 문제에서 원판의 이동 횟수가 2^n -1 인걸 안다면 코드가 더 짧아질 수 있다."
   ]
  },
  {
   "cell_type": "code",
   "execution_count": 8,
   "id": "826bceb3",
   "metadata": {},
   "outputs": [
    {
     "name": "stdout",
     "output_type": "stream",
     "text": [
      "3\n",
      "7\n",
      "1 3\n",
      "1 2\n",
      "3 2\n",
      "1 3\n",
      "2 1\n",
      "2 3\n",
      "1 3\n"
     ]
    }
   ],
   "source": [
    "def HanoiTowelMove(num, a,b,c) : # num = 원판의 개수 / a,b,c == 1,2,3번째 막대\n",
    "    if num == 1 :\n",
    "        print(\"%c %c\" % (a, c))\n",
    "    else :\n",
    "        HanoiTowelMove(num-1, a, c, b)\n",
    "        print(\"%c %c\" % (a, c))\n",
    "        HanoiTowelMove(num-1, b, a, c)\n",
    "\n",
    "n = int(input()) # 첫 번째 장대에 쌓인 원판의 개수 (1 <= N <= 20)\n",
    "print(2**n - 1)\n",
    "HanoiTowelMove(n, '1', '2', '3')\n",
    "\n",
    "\n"
   ]
  },
  {
   "cell_type": "markdown",
   "id": "e7e8613b",
   "metadata": {},
   "source": [
    "## 움직임을 리스트에 따로 저장하고 cnt를 각각 더해주는 방식"
   ]
  },
  {
   "cell_type": "code",
   "execution_count": null,
   "id": "6ca13b8b",
   "metadata": {},
   "outputs": [],
   "source": [
    "# 하노이 탑 이동 순서\n",
    "\n",
    "# 세 개의 장대,\n",
    "# 첫 번째 장대에는 반경이 서로 다른 n개의 원판이 쌓여 있다.\n",
    "# 각 원판은 반경이 큰 순서대로 쌓여있다.\n",
    "# 규칙에 따라 첫 번째 장대에서 세 번째 장대로 옮기려 한다.\n",
    "\n",
    "# 한 번에 한 개의 원판만을 다른 탑으로 옮길 수 있다.\n",
    "# 쌓아 놓은 원판은 항상 위의 것이 아래의 것보다 작아야 한다.\n",
    "\n",
    "# 이동 횟수는 최소가 되어야 한다.\n",
    "\n",
    "import sys \n",
    "n = int(sys.stdin.readline())\n",
    "\n",
    "move = []\n",
    "cnt = 0\n",
    "def hanoi(n, start, by, end) :\n",
    "    global cnt\n",
    "    if n == 1 :\n",
    "        cnt += 1\n",
    "        move.append((start, end))\n",
    "    \n",
    "    else :\n",
    "        hanoi(n-1, start, end, by)\n",
    "        move.append((start, end))\n",
    "        cnt += 1\n",
    "        hanoi(n-1, by, start, end)\n",
    "\n",
    "hanoi(n, '1', '2', '3')\n",
    "print(cnt)\n",
    "\n",
    "for elem in move :\n",
    "    print(\" \".join(elem))"
   ]
  }
 ],
 "metadata": {
  "kernelspec": {
   "display_name": "Python 3",
   "language": "python",
   "name": "python3"
  },
  "language_info": {
   "codemirror_mode": {
    "name": "ipython",
    "version": 3
   },
   "file_extension": ".py",
   "mimetype": "text/x-python",
   "name": "python",
   "nbconvert_exporter": "python",
   "pygments_lexer": "ipython3",
   "version": "3.8.8"
  }
 },
 "nbformat": 4,
 "nbformat_minor": 5
}
