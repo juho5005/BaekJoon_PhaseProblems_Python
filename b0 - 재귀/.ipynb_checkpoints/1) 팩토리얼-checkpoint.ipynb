{
 "cells": [
  {
   "cell_type": "markdown",
   "id": "10245397",
   "metadata": {},
   "source": [
    "# 팩토리얼"
   ]
  },
  {
   "cell_type": "markdown",
   "id": "289716fc",
   "metadata": {},
   "source": [
    "0<=N (정수) N이 주어졌을때, N!을 구하시오\n",
    "\n",
    "입력)\n",
    "정수 0 <= N <= 12 입력\n",
    "\n",
    "출력) \n",
    "N! 출력\n",
    "\n",
    "단) 재귀 사용"
   ]
  },
  {
   "cell_type": "markdown",
   "id": "78ae1aed",
   "metadata": {},
   "source": [
    "1_ 반복문을 사용하여 팩토리얼 구하기"
   ]
  },
  {
   "cell_type": "code",
   "execution_count": 2,
   "id": "bed5bd12",
   "metadata": {},
   "outputs": [
    {
     "name": "stdout",
     "output_type": "stream",
     "text": [
      "0\n",
      "1\n"
     ]
    }
   ],
   "source": [
    "n = int(input())\n",
    "\n",
    "if n == 0 :\n",
    "    print(1)\n",
    "else :\n",
    "    result = 1\n",
    "    for i in range(1, n+1) :\n",
    "        result *= i\n",
    "    print(result)"
   ]
  },
  {
   "cell_type": "markdown",
   "id": "6c2bc857",
   "metadata": {},
   "source": [
    "2_ 재귀를 이용하여 팩토리얼 구하기"
   ]
  },
  {
   "cell_type": "code",
   "execution_count": 5,
   "id": "4ed60cd9",
   "metadata": {},
   "outputs": [
    {
     "name": "stdout",
     "output_type": "stream",
     "text": [
      "10\n",
      "3628800\n"
     ]
    }
   ],
   "source": [
    "n = int(input()) # n 입력\n",
    "\n",
    "def factorial(n) : # 팩토리얼 함수 정의 \n",
    "    if n==1 :\n",
    "        return 1 # n이 1이면 1! = 1이므로 1로 리턴해준다.\n",
    "    else :\n",
    "        return n * factorial(n-1) # n이 1이 아닐경우 n * factorial(n-1) 해서 재귀한다.\n",
    "\n",
    "if n == 0 : \n",
    "    print(1)\n",
    "else :\n",
    "    print(factorial(n))\n",
    "    "
   ]
  },
  {
   "cell_type": "code",
   "execution_count": 1,
   "id": "e8256ae6",
   "metadata": {},
   "outputs": [
    {
     "name": "stdout",
     "output_type": "stream",
     "text": [
      "10\n",
      "3628800\n"
     ]
    }
   ],
   "source": [
    "n = int(input())\n",
    "\n",
    "def facto(n) :\n",
    "    if n<=1 :\n",
    "        return 1\n",
    "    else :\n",
    "        return n * facto(n-1)\n",
    "    \n",
    "    \n",
    "print(facto(n))"
   ]
  },
  {
   "cell_type": "code",
   "execution_count": null,
   "id": "0a4e1fcf",
   "metadata": {},
   "outputs": [],
   "source": []
  }
 ],
 "metadata": {
  "kernelspec": {
   "display_name": "Python 3",
   "language": "python",
   "name": "python3"
  },
  "language_info": {
   "codemirror_mode": {
    "name": "ipython",
    "version": 3
   },
   "file_extension": ".py",
   "mimetype": "text/x-python",
   "name": "python",
   "nbconvert_exporter": "python",
   "pygments_lexer": "ipython3",
   "version": "3.8.8"
  }
 },
 "nbformat": 4,
 "nbformat_minor": 5
}
