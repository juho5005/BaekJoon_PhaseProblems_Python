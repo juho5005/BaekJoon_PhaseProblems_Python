{
 "cells": [
  {
   "cell_type": "markdown",
   "id": "8e7be9ae",
   "metadata": {},
   "source": [
    "# 최소, 최대"
   ]
  },
  {
   "cell_type": "markdown",
   "id": "9ab557c4",
   "metadata": {},
   "source": [
    "n개의 정수가 주어질때, 최솟값, 최댓값 구하는 프로그램 작성"
   ]
  },
  {
   "cell_type": "code",
   "execution_count": null,
   "id": "7bdc652a",
   "metadata": {},
   "outputs": [],
   "source": [
    "import sys\n",
    "\n",
    "n = int(sys.stdin.readline())\n",
    "\n",
    "lst = list(map(int, sys.stdin.readline().split()))\n",
    "lst.sort()\n",
    "print(lst[0], lst[-1])"
   ]
  }
 ],
 "metadata": {
  "kernelspec": {
   "display_name": "Python 3",
   "language": "python",
   "name": "python3"
  },
  "language_info": {
   "codemirror_mode": {
    "name": "ipython",
    "version": 3
   },
   "file_extension": ".py",
   "mimetype": "text/x-python",
   "name": "python",
   "nbconvert_exporter": "python",
   "pygments_lexer": "ipython3",
   "version": "3.8.8"
  }
 },
 "nbformat": 4,
 "nbformat_minor": 5
}
