{
 "cells": [
  {
   "cell_type": "markdown",
   "id": "11e609ff",
   "metadata": {},
   "source": [
    "# 나머지"
   ]
  },
  {
   "cell_type": "markdown",
   "id": "4cc2bf40",
   "metadata": {},
   "source": [
    "수 10개를 입력 받은 후, 42로 나눈 나머지를 구하는 문제\n",
    "서로 다른 값이 몇 개 있는지 출력하는 프로그램"
   ]
  },
  {
   "cell_type": "code",
   "execution_count": 3,
   "id": "e7f15218",
   "metadata": {},
   "outputs": [
    {
     "name": "stdout",
     "output_type": "stream",
     "text": [
      "42\n",
      "84\n",
      "252\n",
      "420\n",
      "840\n",
      "126\n",
      "42\n",
      "84\n",
      "420\n",
      "126\n",
      "1\n"
     ]
    }
   ],
   "source": [
    "lst = []\n",
    "for _ in range(10) :\n",
    "    lst.append(int(input()))\n",
    "    \n",
    "check_lst = [0] * 42 # 0 ~ 41까지 값이 0 인 리스트 생성\n",
    "\n",
    "for i in range(10) :\n",
    "    check_lst[lst[i] % 42] += 1\n",
    "\n",
    "    \n",
    "cnt = 0\n",
    "for j in range(42) :\n",
    "    if check_lst[j] != 0 :\n",
    "        cnt += 1\n",
    "        \n",
    "print(cnt)\n"
   ]
  },
  {
   "cell_type": "markdown",
   "id": "368b3f98",
   "metadata": {},
   "source": [
    "set 함수를 사용하여 구하는 방법"
   ]
  },
  {
   "cell_type": "code",
   "execution_count": 4,
   "id": "d9a330a0",
   "metadata": {},
   "outputs": [
    {
     "name": "stdout",
     "output_type": "stream",
     "text": [
      "42\n",
      "84\n",
      "252\n",
      "429\n",
      "840\n",
      "126\n",
      "42\n",
      "84\n",
      "420\n",
      "126\n",
      "2\n"
     ]
    }
   ],
   "source": [
    "arr = []\n",
    "\n",
    "for _ in range(10) :\n",
    "    num = int(input())\n",
    "    arr.append(num % 42)\n",
    "\n",
    "arr = list(set(arr))\n",
    "print(len(arr))"
   ]
  },
  {
   "cell_type": "code",
   "execution_count": null,
   "id": "4ff12f96",
   "metadata": {},
   "outputs": [],
   "source": []
  }
 ],
 "metadata": {
  "kernelspec": {
   "display_name": "Python 3",
   "language": "python",
   "name": "python3"
  },
  "language_info": {
   "codemirror_mode": {
    "name": "ipython",
    "version": 3
   },
   "file_extension": ".py",
   "mimetype": "text/x-python",
   "name": "python",
   "nbconvert_exporter": "python",
   "pygments_lexer": "ipython3",
   "version": "3.8.8"
  }
 },
 "nbformat": 4,
 "nbformat_minor": 5
}
