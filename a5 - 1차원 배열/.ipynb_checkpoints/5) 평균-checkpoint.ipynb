{
 "cells": [
  {
   "cell_type": "markdown",
   "id": "919da3ff",
   "metadata": {},
   "source": [
    "# 평균"
   ]
  },
  {
   "cell_type": "markdown",
   "id": "13bbe376",
   "metadata": {},
   "source": [
    "점수 중 최댓값 (M)을 골라서\n",
    "모든 점수를 점수 / M * 100 으로 고친다.\n",
    "\n",
    "위 방법대로 새로 계산했을 때, 새로운 평균을 구하는 프로그램 작성"
   ]
  },
  {
   "cell_type": "code",
   "execution_count": 10,
   "id": "be228aab",
   "metadata": {},
   "outputs": [
    {
     "name": "stdout",
     "output_type": "stream",
     "text": [
      "3\n",
      "40 80 60\n",
      "75.0\n"
     ]
    }
   ],
   "source": [
    "n = int(input())\n",
    "\n",
    "scores = list(map(int, input().split()))\n",
    "\n",
    "m = max(scores) # 최댓값\n",
    "\n",
    "change = []\n",
    "for i in range(n) :\n",
    "    change.append(scores[i] / m * 100)\n",
    "    \n",
    "print(sum(change) / n)"
   ]
  },
  {
   "cell_type": "code",
   "execution_count": null,
   "id": "88fe3541",
   "metadata": {},
   "outputs": [],
   "source": []
  }
 ],
 "metadata": {
  "kernelspec": {
   "display_name": "Python 3",
   "language": "python",
   "name": "python3"
  },
  "language_info": {
   "codemirror_mode": {
    "name": "ipython",
    "version": 3
   },
   "file_extension": ".py",
   "mimetype": "text/x-python",
   "name": "python",
   "nbconvert_exporter": "python",
   "pygments_lexer": "ipython3",
   "version": "3.8.8"
  }
 },
 "nbformat": 4,
 "nbformat_minor": 5
}
