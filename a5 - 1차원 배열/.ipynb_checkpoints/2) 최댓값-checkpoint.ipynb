{
 "cells": [
  {
   "cell_type": "markdown",
   "id": "94831df0",
   "metadata": {},
   "source": [
    "# 최댓값"
   ]
  },
  {
   "cell_type": "markdown",
   "id": "82af987a",
   "metadata": {},
   "source": [
    "1~9번째 줄까지 한 줄에 하나의 자연수 입력 / 자연수는 100보다 작음\n",
    "\n",
    "출력)\n",
    "첫째 줄 : 최댓값 출력\n",
    "둘째 줄 : 몇 번째 수인지"
   ]
  },
  {
   "cell_type": "code",
   "execution_count": 6,
   "id": "acecc4f6",
   "metadata": {},
   "outputs": [
    {
     "name": "stdout",
     "output_type": "stream",
     "text": [
      "3\n",
      "29\n",
      "38\n",
      "12\n",
      "47\n",
      "73\n",
      "30\n",
      "85\n",
      "61\n",
      "85\n",
      "8\n"
     ]
    }
   ],
   "source": [
    "lst = []\n",
    "\n",
    "for _ in range(9) :\n",
    "    lst.append(int(input()))\n",
    "    \n",
    "idx = 0\n",
    "seq = 0\n",
    "for i in range(9) :\n",
    "    if max(lst) == lst[i] :\n",
    "        seq = idx\n",
    "        break\n",
    "    idx += 1\n",
    "    \n",
    "print(max(lst))\n",
    "print(seq+1)"
   ]
  }
 ],
 "metadata": {
  "kernelspec": {
   "display_name": "Python 3",
   "language": "python",
   "name": "python3"
  },
  "language_info": {
   "codemirror_mode": {
    "name": "ipython",
    "version": 3
   },
   "file_extension": ".py",
   "mimetype": "text/x-python",
   "name": "python",
   "nbconvert_exporter": "python",
   "pygments_lexer": "ipython3",
   "version": "3.8.8"
  }
 },
 "nbformat": 4,
 "nbformat_minor": 5
}
