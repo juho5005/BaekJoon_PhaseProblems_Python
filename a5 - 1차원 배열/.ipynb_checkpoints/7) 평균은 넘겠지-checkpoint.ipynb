{
 "cells": [
  {
   "cell_type": "markdown",
   "id": "6d27b8e7",
   "metadata": {},
   "source": [
    "# 평균은 넘겠지"
   ]
  },
  {
   "cell_type": "markdown",
   "id": "cd7ac1bf",
   "metadata": {},
   "source": []
  },
  {
   "cell_type": "code",
   "execution_count": 4,
   "id": "4d8544d5",
   "metadata": {},
   "outputs": [
    {
     "name": "stdout",
     "output_type": "stream",
     "text": [
      "5\n",
      "5 50 50 70 80 100\n",
      "7 100 95 90 80 70 60 50\n",
      "3 70 90 80\n",
      "3 70 90 81\n",
      "9 100 99 98 97 96 95 94 93 91\n",
      "40.000%\n",
      "57.143%\n",
      "33.333%\n",
      "66.667%\n",
      "55.556%\n"
     ]
    }
   ],
   "source": [
    "t = int(input()) # 테스트 케이스의 개수 \n",
    "\n",
    "lst = []\n",
    "for _ in range(t) :\n",
    "    lst.append(list(map(int, input().split())))\n",
    "    \n",
    "for i in range(t) :\n",
    "    n = lst[i][0] # 학생의 수\n",
    "    l = len(lst[i]) # 반복할 개수 (1~l)\n",
    "    \n",
    "    s = 0\n",
    "    for j in range(1, l) :\n",
    "        s += lst[i][j]\n",
    "    \n",
    "    avg = s/n # 평균\n",
    "    \n",
    "    cnt = 0\n",
    "    for k in range(1, l) :\n",
    "        if lst[i][k] > avg :\n",
    "            cnt += 1\n",
    "    \n",
    "    rate = cnt / n * 100\n",
    "    \n",
    "    print(\"%.3f\" % rate + \"%\")\n",
    "    \n",
    "    "
   ]
  },
  {
   "cell_type": "code",
   "execution_count": null,
   "id": "8f03cbdb",
   "metadata": {},
   "outputs": [],
   "source": []
  }
 ],
 "metadata": {
  "kernelspec": {
   "display_name": "Python 3",
   "language": "python",
   "name": "python3"
  },
  "language_info": {
   "codemirror_mode": {
    "name": "ipython",
    "version": 3
   },
   "file_extension": ".py",
   "mimetype": "text/x-python",
   "name": "python",
   "nbconvert_exporter": "python",
   "pygments_lexer": "ipython3",
   "version": "3.8.8"
  }
 },
 "nbformat": 4,
 "nbformat_minor": 5
}
