{
 "cells": [
  {
   "cell_type": "markdown",
   "id": "133e8e6b",
   "metadata": {},
   "source": [
    "# OX 퀴즈"
   ]
  },
  {
   "cell_type": "markdown",
   "id": "d239845b",
   "metadata": {},
   "source": [
    "OX 퀴즈의 결과가 주어졌을 때, 점수를 구하는 프로그램 작성"
   ]
  },
  {
   "cell_type": "code",
   "execution_count": 1,
   "id": "5785e5cd",
   "metadata": {},
   "outputs": [
    {
     "name": "stdout",
     "output_type": "stream",
     "text": [
      "5\n",
      "OOXXOXXOOO\n",
      "OOXXOOXXOO\n",
      "OXOXOXOXOXOXOX\n",
      "OOOOOOOOOO\n",
      "OOOOXOOOOXOOOOX\n",
      "10\n",
      "9\n",
      "7\n",
      "55\n",
      "30\n"
     ]
    }
   ],
   "source": [
    "t = int(input()) # 테스트 케이스의 개수 입력\n",
    "\n",
    "OX = []\n",
    "for _ in range(t) :\n",
    "    OX.append(input())\n",
    "    \n",
    "for i in range(t) :\n",
    "    l = len(OX[i])\n",
    "    cnt = 0 \n",
    "    score = 0\n",
    "    \n",
    "    for j in range(l) :\n",
    "        if OX[i][j] == 'O' :\n",
    "            cnt += 1\n",
    "            score += cnt\n",
    "        else :\n",
    "            cnt = 0\n",
    "    print(score)"
   ]
  },
  {
   "cell_type": "code",
   "execution_count": null,
   "id": "25dc7f4f",
   "metadata": {},
   "outputs": [],
   "source": []
  }
 ],
 "metadata": {
  "kernelspec": {
   "display_name": "Python 3",
   "language": "python",
   "name": "python3"
  },
  "language_info": {
   "codemirror_mode": {
    "name": "ipython",
    "version": 3
   },
   "file_extension": ".py",
   "mimetype": "text/x-python",
   "name": "python",
   "nbconvert_exporter": "python",
   "pygments_lexer": "ipython3",
   "version": "3.8.8"
  }
 },
 "nbformat": 4,
 "nbformat_minor": 5
}
