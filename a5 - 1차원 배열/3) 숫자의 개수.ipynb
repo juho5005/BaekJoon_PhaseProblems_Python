{
 "cells": [
  {
   "cell_type": "markdown",
   "id": "aa091183",
   "metadata": {},
   "source": [
    "# 숫자의 개수"
   ]
  },
  {
   "cell_type": "markdown",
   "id": "5eb844bd",
   "metadata": {},
   "source": [
    "새 개의 자연수 A,B,C \n",
    "\n",
    "A x B x C 의 결과에 0부터 9까지의 수가 몇 번씩 쓰였는지 구하는 프로그램"
   ]
  },
  {
   "cell_type": "markdown",
   "id": "668982cc",
   "metadata": {},
   "source": [
    "1) 0~9의 리스트를 만들어서, 각각의 값이 나올 때 마다 +1 해서 구해주는 방식"
   ]
  },
  {
   "cell_type": "code",
   "execution_count": 10,
   "id": "83cbb10d",
   "metadata": {},
   "outputs": [
    {
     "name": "stdout",
     "output_type": "stream",
     "text": [
      "150\n",
      "266\n",
      "427\n",
      "3\n",
      "1\n",
      "0\n",
      "2\n",
      "0\n",
      "0\n",
      "0\n",
      "2\n",
      "0\n",
      "0\n"
     ]
    }
   ],
   "source": [
    "a = int(input())\n",
    "b = int(input())\n",
    "c = int(input())\n",
    "\n",
    "result = a*b*c\n",
    "\n",
    "lst = [0] * 10\n",
    "for i in str(result) :\n",
    "    lst[int(i)] += 1\n",
    "    \n",
    "for j in lst :\n",
    "    print(j)"
   ]
  },
  {
   "cell_type": "markdown",
   "id": "60fc7099",
   "metadata": {},
   "source": [
    "비슷한 맥락이긴한데, 각 자리의 숫자를 더해줌 (C, JAVA에서도 가능)"
   ]
  },
  {
   "cell_type": "code",
   "execution_count": 12,
   "id": "e466359a",
   "metadata": {},
   "outputs": [
    {
     "name": "stdout",
     "output_type": "stream",
     "text": [
      "150\n",
      "266\n",
      "427\n",
      "3\n",
      "1\n",
      "0\n",
      "2\n",
      "0\n",
      "0\n",
      "0\n",
      "2\n",
      "0\n",
      "0\n"
     ]
    }
   ],
   "source": [
    "a = int(input())\n",
    "b = int(input())\n",
    "c = int(input())\n",
    "\n",
    "result = a*b*c\n",
    "\n",
    "lst = [0] * 10\n",
    "\n",
    "while result > 0 :\n",
    "    lst[result%10] += 1\n",
    "    result = result // 10\n",
    "\n",
    "for i in range(10) :\n",
    "    print(lst[i])\n"
   ]
  },
  {
   "cell_type": "markdown",
   "id": "cffbc7db",
   "metadata": {},
   "source": [
    "# 파이썬 collections모듈의 Counter 함수 사용"
   ]
  },
  {
   "cell_type": "code",
   "execution_count": 16,
   "id": "529af199",
   "metadata": {},
   "outputs": [
    {
     "name": "stdout",
     "output_type": "stream",
     "text": [
      "150\n",
      "266\n",
      "427\n",
      "3\n",
      "1\n",
      "0\n",
      "2\n",
      "0\n",
      "0\n",
      "0\n",
      "2\n",
      "0\n",
      "0\n"
     ]
    }
   ],
   "source": [
    "from collections import Counter\n",
    "a = int(input())\n",
    "b = int(input())\n",
    "c = int(input())\n",
    "\n",
    "result = str(a*b*c)\n",
    "\n",
    "count = Counter(result)\n",
    "\n",
    "for i in range(10) :\n",
    "    if str(i) not in count.keys() :\n",
    "        print(0)\n",
    "    else :\n",
    "        print(count[str(i)])"
   ]
  }
 ],
 "metadata": {
  "kernelspec": {
   "display_name": "Python 3",
   "language": "python",
   "name": "python3"
  },
  "language_info": {
   "codemirror_mode": {
    "name": "ipython",
    "version": 3
   },
   "file_extension": ".py",
   "mimetype": "text/x-python",
   "name": "python",
   "nbconvert_exporter": "python",
   "pygments_lexer": "ipython3",
   "version": "3.8.8"
  }
 },
 "nbformat": 4,
 "nbformat_minor": 5
}
