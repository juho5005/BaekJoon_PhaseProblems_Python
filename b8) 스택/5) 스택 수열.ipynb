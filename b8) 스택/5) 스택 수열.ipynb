{
 "cells": [
  {
   "cell_type": "markdown",
   "id": "b2711c34",
   "metadata": {},
   "source": [
    "### 스택의 속성을 이용하여 해결할 수 있다."
   ]
  },
  {
   "cell_type": "markdown",
   "id": "f10fba85",
   "metadata": {},
   "source": [
    "문제 풀이 : https://raspy-turnip-f8d.notion.site/1874-d08a3c5b24ff44a281f7316212c601c1"
   ]
  },
  {
   "cell_type": "code",
   "execution_count": null,
   "id": "ead47c02",
   "metadata": {},
   "outputs": [],
   "source": [
    "import sys\n",
    "n = int(sys.stdin.readline())\n",
    "# 1 <= n <= 100,000\n",
    "# O(N), O(NlogN), O(logN), O(1)\n",
    "\n",
    "# 수열을 이루는 1이상 n이하의 정수가 하나씩 순서대로 입력\n",
    "nums = [\n",
    "    int(sys.stdin.readline())\n",
    "    for _ in range(n)\n",
    "]\n",
    "\n",
    "stack = []\n",
    "result = []\n",
    "start = 1\n",
    "\n",
    "for num in nums:\n",
    "    while start <= num:\n",
    "        stack.append(start)\n",
    "        result.append('+')\n",
    "        start += 1\n",
    "\n",
    "    if stack[-1] == num:\n",
    "        stack.pop()\n",
    "        result.append('-')\n",
    "    else:\n",
    "        print(\"NO\")\n",
    "        sys.exit()\n",
    "\n",
    "for elem in result:\n",
    "    print(elem)"
   ]
  },
  {
   "cell_type": "code",
   "execution_count": null,
   "id": "9f283366",
   "metadata": {},
   "outputs": [],
   "source": []
  }
 ],
 "metadata": {
  "kernelspec": {
   "display_name": "Python 3",
   "language": "python",
   "name": "python3"
  },
  "language_info": {
   "codemirror_mode": {
    "name": "ipython",
    "version": 3
   },
   "file_extension": ".py",
   "mimetype": "text/x-python",
   "name": "python",
   "nbconvert_exporter": "python",
   "pygments_lexer": "ipython3",
   "version": "3.8.8"
  }
 },
 "nbformat": 4,
 "nbformat_minor": 5
}
