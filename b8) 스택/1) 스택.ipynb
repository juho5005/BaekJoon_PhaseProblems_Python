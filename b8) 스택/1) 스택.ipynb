{
 "cells": [
  {
   "cell_type": "markdown",
   "id": "31a77514",
   "metadata": {},
   "source": [
    "### class 객체를 이용하여 Stack을 구현 후 스택을 사용한 경우"
   ]
  },
  {
   "cell_type": "code",
   "execution_count": null,
   "id": "39e274d2",
   "metadata": {},
   "outputs": [],
   "source": [
    "# 스택\n",
    "# push, pop, size, empty, top\n",
    "\n",
    "import sys\n",
    "n = int(sys.stdin.readline())\n",
    "\n",
    "orders = [\n",
    "    sys.stdin.readline().rstrip().split()\n",
    "    for _ in range(n)\n",
    "]\n",
    "\n",
    "class Stack:\n",
    "    def __init__(self):  # 빈 스택 하나를 생성\n",
    "        self.items = []\n",
    "\n",
    "    def push(self, item):  # 스택에 데이터를 추가\n",
    "        self.items.append(item)\n",
    "\n",
    "    def pop(self):\n",
    "        if self.items:\n",
    "            return self.items.pop()\n",
    "        else:\n",
    "            return -1\n",
    "\n",
    "    def size(self):\n",
    "        return len(self.items)\n",
    "\n",
    "    def empty(self):\n",
    "        if self.items:\n",
    "            return 0\n",
    "        else:\n",
    "            return 1\n",
    "\n",
    "    def top(self):\n",
    "        if self.items:\n",
    "            return self.items[-1]\n",
    "        else:\n",
    "            return -1\n",
    "\n",
    "stack = Stack()\n",
    "\n",
    "for order in orders:\n",
    "    if order[0] == \"push\":\n",
    "        stack.push(int(order[1]))\n",
    "    elif order[0] == 'pop':\n",
    "        print(stack.pop())\n",
    "    elif order[0] == 'size':\n",
    "        print(stack.size())\n",
    "    elif order[0] == 'empty':\n",
    "        print(stack.empty())\n",
    "    else:\n",
    "        print(stack.top())"
   ]
  },
  {
   "cell_type": "markdown",
   "id": "463a6d9a",
   "metadata": {},
   "source": [
    "### 파이썬은 리스트가 스택의 속성을 가지므로 리스트로 스택을 구현한 경우"
   ]
  },
  {
   "cell_type": "code",
   "execution_count": null,
   "id": "19bc7920",
   "metadata": {},
   "outputs": [],
   "source": [
    "# 스택\n",
    "# push, pop, size, empty, top\n",
    "\n",
    "import sys\n",
    "n = int(sys.stdin.readline())\n",
    "\n",
    "orders = [\n",
    "    sys.stdin.readline().rstrip().split()\n",
    "    for _ in range(n)\n",
    "]\n",
    "\n",
    "stack = []\n",
    "\n",
    "for order in orders:\n",
    "    if order[0] == 'push':\n",
    "        stack.append(int(order[1]))\n",
    "\n",
    "    elif order[0] == 'top':\n",
    "        if stack:\n",
    "            print(stack[-1])\n",
    "        else:\n",
    "            print(-1)\n",
    "\n",
    "    elif order[0] == 'pop':\n",
    "        if stack:\n",
    "            print(stack.pop())\n",
    "        else:\n",
    "            print(-1)\n",
    "\n",
    "    elif order[0] == 'size':\n",
    "        print(len(stack))\n",
    "\n",
    "    else:\n",
    "        if stack:\n",
    "            print(0)\n",
    "        else:\n",
    "            print(1)"
   ]
  }
 ],
 "metadata": {
  "kernelspec": {
   "display_name": "Python 3",
   "language": "python",
   "name": "python3"
  },
  "language_info": {
   "codemirror_mode": {
    "name": "ipython",
    "version": 3
   },
   "file_extension": ".py",
   "mimetype": "text/x-python",
   "name": "python",
   "nbconvert_exporter": "python",
   "pygments_lexer": "ipython3",
   "version": "3.8.8"
  }
 },
 "nbformat": 4,
 "nbformat_minor": 5
}
