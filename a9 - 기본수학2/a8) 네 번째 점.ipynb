{
 "cells": [
  {
   "cell_type": "markdown",
   "id": "40945c4a",
   "metadata": {},
   "source": [
    "# 네 번째 점"
   ]
  },
  {
   "cell_type": "markdown",
   "id": "dea213a7",
   "metadata": {},
   "source": [
    "너무 생각이 많아져서 조건이 너무 많아져서 답지를 봤다\n",
    "\n",
    "직사각형의 특징은 4개의 (x,y)좌표가 나올때 x1,x2,x3,x4 / y1,y2,y3,y4의 값은 적어도 한개의\n",
    "쌍이 있다는 것이다.\n",
    "\n",
    "3개의 좌표를 리스트 x_nums, y_nums에 각각 appned해서 넣어주고\n",
    "\n",
    "반복문을 돌렸을때 값이 하나인 것을 찾으면 그것이 4번째 좌표가 되므로 입력해주면 된다."
   ]
  },
  {
   "cell_type": "code",
   "execution_count": 2,
   "id": "b7601608",
   "metadata": {},
   "outputs": [
    {
     "name": "stdout",
     "output_type": "stream",
     "text": [
      "5 5\n",
      "5 7\n",
      "7 5\n",
      "7 7\n"
     ]
    }
   ],
   "source": [
    "x_nums = []\n",
    "y_nums = []\n",
    "\n",
    "for _ in range(3) :\n",
    "    x,y = map(int, input().split())\n",
    "    x_nums.append(x)\n",
    "    y_nums.append(y)\n",
    "\n",
    "for i in range(3) :\n",
    "    if x_nums.count(x_nums[i]) == 1 :\n",
    "        x4 = x_nums[i]\n",
    "    if y_nums.count(y_nums[i]) == 1 :\n",
    "        y4 = y_nums[i]\n",
    "print(x4, y4)"
   ]
  },
  {
   "cell_type": "code",
   "execution_count": null,
   "id": "89850109",
   "metadata": {},
   "outputs": [],
   "source": []
  }
 ],
 "metadata": {
  "kernelspec": {
   "display_name": "Python 3",
   "language": "python",
   "name": "python3"
  },
  "language_info": {
   "codemirror_mode": {
    "name": "ipython",
    "version": 3
   },
   "file_extension": ".py",
   "mimetype": "text/x-python",
   "name": "python",
   "nbconvert_exporter": "python",
   "pygments_lexer": "ipython3",
   "version": "3.8.8"
  }
 },
 "nbformat": 4,
 "nbformat_minor": 5
}
