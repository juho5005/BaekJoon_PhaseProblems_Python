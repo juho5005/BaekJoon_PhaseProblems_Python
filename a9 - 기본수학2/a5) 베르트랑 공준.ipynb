{
 "cells": [
  {
   "cell_type": "markdown",
   "id": "4ce313df",
   "metadata": {},
   "source": [
    "# 베르트랑 공준"
   ]
  },
  {
   "cell_type": "code",
   "execution_count": null,
   "id": "ab64621d",
   "metadata": {},
   "outputs": [],
   "source": [
    "베르트랑 공준 : 임의의 자연수 n에 대하여 \n",
    "    n <= 소수(최소 1개) <= 2n\n",
    "\n",
    "답은 나오지만 시간초과로 인해서 다시 생각해보아야한다.."
   ]
  },
  {
   "cell_type": "code",
   "execution_count": 3,
   "id": "bf233705",
   "metadata": {},
   "outputs": [
    {
     "name": "stdout",
     "output_type": "stream",
     "text": [
      "1\n",
      "1\n",
      "10\n",
      "4\n",
      "13\n",
      "3\n",
      "100\n",
      "21\n",
      "1000\n",
      "135\n",
      "10000\n",
      "1033\n",
      "100000\n",
      "8392\n",
      "0\n"
     ]
    }
   ],
   "source": [
    "# 소수개수를 구해주는 함수\n",
    "def prime_count(a, b) : # a = start, b = end\n",
    "    count = 0\n",
    "    for i in range(a + 1, b + 1) :\n",
    "        count += 1\n",
    "        for j in range(2, i) : \n",
    "            if i % j == 0 : # 소수가 아닌경우임\n",
    "                count -= 1\n",
    "                break\n",
    "    return count\n",
    "\n",
    "n = 1 \n",
    "while n >= 1 :\n",
    "    n = int(input())\n",
    "    start = n   # 시작점\n",
    "    end = 2 * n # 끝점\n",
    "    \n",
    "    if n == 0 :\n",
    "        break\n",
    "    print(prime_count(start, end))\n",
    "    "
   ]
  },
  {
   "cell_type": "markdown",
   "id": "2a2ff3d8",
   "metadata": {},
   "source": [
    "일단 1차적으로 앞의 문제에서 배운 에라토스테네스의 체 알고리즘을 떠올렸다.\n",
    "\n",
    "소수 문제를 풀땐 에로토스테네스의 체 알고리즘을 사용하자.. 함수 이용하면 더 좋고!"
   ]
  },
  {
   "cell_type": "code",
   "execution_count": 3,
   "id": "3e522867",
   "metadata": {},
   "outputs": [
    {
     "name": "stdout",
     "output_type": "stream",
     "text": [
      "1\n",
      "1\n",
      "10\n",
      "4\n",
      "13\n",
      "3\n",
      "100\n",
      "21\n",
      "1000\n",
      "135\n",
      "1000\n",
      "135\n",
      "10000\n",
      "1033\n",
      "100000\n",
      "8392\n",
      "0\n"
     ]
    }
   ],
   "source": [
    "import math\n",
    "# 소수개수를 구해주는 함수\n",
    "def prime_count(a, b) : # a = start, b = end\n",
    "    count = 0 # 소수 개수 세주기\n",
    "    is_prime = [True for _ in range(b+1)] # 일단 모두 True로 설정\n",
    "    \n",
    "    for i in range(2, int(math.sqrt(b)) + 1) :\n",
    "        if is_prime[i] == True :\n",
    "            j = 2\n",
    "            \n",
    "            while i*j <= b :\n",
    "                is_prime[i*j] = False\n",
    "                j += 1\n",
    "        \n",
    "    for k in range(a+1, b+1) :\n",
    "        if is_prime[k] == True:\n",
    "            count += 1\n",
    "    return count\n",
    "    \n",
    "        \n",
    "        \n",
    "n = 1 \n",
    "while n >= 1 :\n",
    "    n = int(input())\n",
    "    start = n   # 시작점\n",
    "    end = 2 * n # 끝점\n",
    "    \n",
    "    if n == 0 :\n",
    "        break\n",
    "    print(prime_count(start, end))\n",
    "    "
   ]
  },
  {
   "cell_type": "code",
   "execution_count": null,
   "id": "bacc4c78",
   "metadata": {},
   "outputs": [],
   "source": []
  }
 ],
 "metadata": {
  "kernelspec": {
   "display_name": "Python 3",
   "language": "python",
   "name": "python3"
  },
  "language_info": {
   "codemirror_mode": {
    "name": "ipython",
    "version": 3
   },
   "file_extension": ".py",
   "mimetype": "text/x-python",
   "name": "python",
   "nbconvert_exporter": "python",
   "pygments_lexer": "ipython3",
   "version": "3.8.8"
  }
 },
 "nbformat": 4,
 "nbformat_minor": 5
}
