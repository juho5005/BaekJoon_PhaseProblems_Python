{
 "cells": [
  {
   "cell_type": "markdown",
   "id": "d5eaf27c",
   "metadata": {},
   "source": [
    "# 직각삼각형"
   ]
  },
  {
   "cell_type": "code",
   "execution_count": null,
   "id": "b542ee7c",
   "metadata": {},
   "outputs": [],
   "source": [
    "각 변들의 길이가 3, 4, 5인 삼각형이 직각삼각형\n",
    "3^2 + 4^2 = 5^2\n",
    "\n",
    "입력\n",
    "여러개의 테스트 케이스, 단) 마지막에는 0 0 0 입력 -> 종료\n",
    "테스트 케이스는 30,000보다 작은 양의 정수\n",
    "각 입력은 변의 길이를 의미\n",
    "\n",
    "출력\n",
    "직각삼각형이 맞으면 -> right\n",
    "직각삼각형이 아니면 -> wrong"
   ]
  },
  {
   "cell_type": "code",
   "execution_count": 4,
   "id": "821e0cf4",
   "metadata": {},
   "outputs": [
    {
     "name": "stdout",
     "output_type": "stream",
     "text": [
      "6 8 10\n",
      "right\n",
      "25 52 60\n",
      "wrong\n",
      "5 12 13\n",
      "right\n",
      "0 0 0\n"
     ]
    }
   ],
   "source": [
    "while 1 :\n",
    "    side= list(map(int, input().split()))\n",
    "    \n",
    "    if side[0] == 0 and side[1] == 0 and side[2] == 0 :\n",
    "        break\n",
    "    \n",
    "    side.sort()\n",
    "    \n",
    "    if (side[0] * side[0]) + (side[1] * side[1]) == side[2] * side[2] :\n",
    "        print(\"right\")\n",
    "    else :\n",
    "        print(\"wrong\")\n",
    "        \n",
    "    \n",
    "    "
   ]
  },
  {
   "cell_type": "markdown",
   "id": "0792e32e",
   "metadata": {},
   "source": [
    "문제 해결방법은 좋았는데 파이썬에서 제곱을 나타낼땐 '**'을 쓰면 훨씬 쉽게 표현이 가능하다"
   ]
  },
  {
   "cell_type": "code",
   "execution_count": 8,
   "id": "8e6e858e",
   "metadata": {},
   "outputs": [
    {
     "name": "stdout",
     "output_type": "stream",
     "text": [
      "6 8 10\n",
      "right\n",
      "25 52 60\n",
      "wrong\n",
      "5 12 13\n",
      "right\n",
      "0 0 0\n"
     ]
    }
   ],
   "source": [
    "while 1 :\n",
    "    side= list(map(int, input().split()))\n",
    "    \n",
    "    # 센스로 side리스트의 합이 0이라면 break해준다로 해도된다. ! sum 함수 사용\n",
    "    if sum(side) == 0 :\n",
    "        break\n",
    "        \n",
    "    side.sort() # 정렬해서 오름차순으로 변을 정렬\n",
    "    \n",
    "    if (side[0] ** 2) + (side[1] ** 2) == (side[2] ** 2) : \n",
    "        print(\"right\")\n",
    "    else :\n",
    "        print(\"wrong\")\n",
    "        \n",
    "    "
   ]
  },
  {
   "cell_type": "code",
   "execution_count": null,
   "id": "7c927841",
   "metadata": {},
   "outputs": [],
   "source": []
  }
 ],
 "metadata": {
  "kernelspec": {
   "display_name": "Python 3",
   "language": "python",
   "name": "python3"
  },
  "language_info": {
   "codemirror_mode": {
    "name": "ipython",
    "version": 3
   },
   "file_extension": ".py",
   "mimetype": "text/x-python",
   "name": "python",
   "nbconvert_exporter": "python",
   "pygments_lexer": "ipython3",
   "version": "3.8.8"
  }
 },
 "nbformat": 4,
 "nbformat_minor": 5
}
