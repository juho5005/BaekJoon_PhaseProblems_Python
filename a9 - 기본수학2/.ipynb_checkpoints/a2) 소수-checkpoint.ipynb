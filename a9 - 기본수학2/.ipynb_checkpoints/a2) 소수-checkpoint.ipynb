{
 "cells": [
  {
   "cell_type": "markdown",
   "id": "47bd93a5",
   "metadata": {},
   "source": [
    "# 소수"
   ]
  },
  {
   "cell_type": "code",
   "execution_count": null,
   "id": "deca1644",
   "metadata": {},
   "outputs": [],
   "source": [
    "자연수 M과 N이 주어질때, M이상 N이하의 자연수중 소수를 골라 소수의 합과 최솟값 찾기\n",
    "\n",
    "단_ M이상 N이하 자연수 중 소수가 없을 경우는 -1을 출력한다!\n",
    "\n",
    "위 코드로 짜봤는데 시간초과에 아슬아슬하게 걸려 통과하거나 시간초과로 실패하는 코드가 됨\n",
    "\n",
    "속도를 줄이는 방법을 찾아봐서 아래에 다시 작성햇슴"
   ]
  },
  {
   "cell_type": "code",
   "execution_count": 2,
   "id": "4394ca9e",
   "metadata": {},
   "outputs": [
    {
     "name": "stdout",
     "output_type": "stream",
     "text": [
      "60\n",
      "100\n",
      "620\n",
      "61\n"
     ]
    }
   ],
   "source": [
    "m = int(input()) \n",
    "n = int(input()) # m,n 입력\n",
    "\n",
    "prime_number = [] # 소수를 담아줄 빈 리스트 생성 \n",
    "\n",
    "count = 0 # 소수인지 아닌지 판별하기 위한 변수 Count\n",
    "for i in range(m, n+1) : # m ~n의 숫자를 반복해서 하나하나 따져줌\n",
    "    for j in range(2, i+1) : # 2부터 (m~n)의 숫자를 하나하나 따져서 소수인지 확인 \n",
    "        if i % j == 0 :\n",
    "            count += 1 # i값이 j로 나누어 떨어지면 count += 1\n",
    "    if count == 1 : # 소수란 1과 자기 자신을 약수로 갖는데 1은 고려 안해서 count == 1이면 소수\n",
    "        prime_number.append(i) # 빈 리스트에 소수 값을 추가\n",
    "    count =0 # count를 0으로 초기화 해줘야 다시 소수인지 아닌지 세준다.\n",
    "    \n",
    "if len(prime_number) == 0 : # 소수가 없는경우\n",
    "    print(-1)\n",
    "\n",
    "else: #소수가 있는 경우\n",
    "    prime_number.sort() # 오름차순으로 정렬\n",
    "    #sum_list = sum(prime_number) # sum함수는 리스트의 결과값을 리스트의 합으로 반환해준다.\n",
    "    #print(sum_list) # 이걸로 해도됨.\n",
    "    print(sum(prime_number)) # 소수들의 합\n",
    "    print(prime_number[0])\n"
   ]
  },
  {
   "cell_type": "markdown",
   "id": "4684b537",
   "metadata": {},
   "source": [
    "위 코드로 하면 시간 초과가 일어날 때도 있고 안일어나는 경우도 있어서 \n",
    "구글링해서 참고를 좀 해서 다시 짠 코드임\n",
    "\n",
    "for j in range(2,i)로 해서 i의 전 수까지 돌려봐서 나누어 떨어지는 것이 있다면\n",
    "그건 소수가 아닌것임. 이걸 생각해서 하나라도 나누어떨어진다면 나머지 j는 돌려볼 필요가\n",
    "없으므로 break 해주면 시간을 줄일 수 있다."
   ]
  },
  {
   "cell_type": "code",
   "execution_count": 3,
   "id": "a66e70e8",
   "metadata": {},
   "outputs": [
    {
     "name": "stdout",
     "output_type": "stream",
     "text": [
      "64\n",
      "65\n",
      "-1\n"
     ]
    }
   ],
   "source": [
    "m = int(input())\n",
    "n = int(input())\n",
    "\n",
    "prime_number = []\n",
    "\n",
    "for i in range(m, n+1) :\n",
    "    is_prime = True        # 소수의 정의 : 1과 자기자신만을 약수로 갖는 수\n",
    "    for j in range(2, i) : # 2~ i-1범위에 혹시라도 약수가 있다면 그건 소수가 아님\n",
    "        if i % j == 0 :\n",
    "            is_prime = False\n",
    "            break # 속도를 빠르게 해주기 위해서이다.\n",
    "    \n",
    "    if i == 1 : # 단) 1은 소수가 될 수 없다.\n",
    "        is_prime = False \n",
    "        \n",
    "    if is_prime == True:\n",
    "        prime_number.append(i)\n",
    "\n",
    "if len(prime_number) != 0 :\n",
    "    print(sum(prime_number))\n",
    "    print(prime_number[0])\n",
    "else :\n",
    "    print(-1)"
   ]
  },
  {
   "cell_type": "code",
   "execution_count": null,
   "id": "2e47f3a7",
   "metadata": {},
   "outputs": [],
   "source": []
  }
 ],
 "metadata": {
  "kernelspec": {
   "display_name": "Python 3",
   "language": "python",
   "name": "python3"
  },
  "language_info": {
   "codemirror_mode": {
    "name": "ipython",
    "version": 3
   },
   "file_extension": ".py",
   "mimetype": "text/x-python",
   "name": "python",
   "nbconvert_exporter": "python",
   "pygments_lexer": "ipython3",
   "version": "3.8.8"
  }
 },
 "nbformat": 4,
 "nbformat_minor": 5
}
