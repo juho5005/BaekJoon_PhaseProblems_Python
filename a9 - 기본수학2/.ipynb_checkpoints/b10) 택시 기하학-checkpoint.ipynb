{
 "cells": [
  {
   "cell_type": "markdown",
   "id": "e4229087",
   "metadata": {},
   "source": [
    "# 택시 기하학"
   ]
  },
  {
   "cell_type": "markdown",
   "id": "66c2a9d2",
   "metadata": {},
   "source": [
    "택시 기하학을 정확히 이해하지 못해서 \n",
    "택시 기하학에서의 원의 넓이를 구하지못했다.."
   ]
  },
  {
   "cell_type": "markdown",
   "id": "38806dc8",
   "metadata": {},
   "source": [
    "택시 기하학에서 T1(x1, y1) T2(x2, y2) 사이의 거리는 |x1-x2| + |y1-y2| 이다\n",
    "\n",
    "택시 기하학에서 원의 정의는 유클리드 기하학에서 원의 정의와 같다.\n",
    "원 : 평면 상의 어떤 점에서 거리가 일정한 점들의 집합\n",
    "    \n",
    "반지름 R이 주어졌을때 유클리드 기하학에서 원의 넓이와, \n",
    "                   택시 기하학에서 원의 넓이를 구하는 프로그램 작성하시오\n"
   ]
  },
  {
   "cell_type": "code",
   "execution_count": 2,
   "id": "ead777c3",
   "metadata": {},
   "outputs": [
    {
     "name": "stdout",
     "output_type": "stream",
     "text": [
      "42\n",
      "5541.769440932395\n",
      "3528\n"
     ]
    }
   ],
   "source": [
    "import math\n",
    "r = int(input()) # 반지름 R 입력\n",
    "\n",
    "# 유클리드 기하학에서의 원의 넓이\n",
    "print(r**2 * math.pi)\n",
    "\n",
    "# 택시 기하학에서의 원의 넓이\n",
    "\n",
    "# 택시기하학에서의 원의 넓이란 마름모가 생성되므로 4개의 직각삼각형이 생성된다\n",
    "print(r**2 * 2)\n"
   ]
  },
  {
   "cell_type": "code",
   "execution_count": 5,
   "id": "fd93e794",
   "metadata": {},
   "outputs": [
    {
     "name": "stdout",
     "output_type": "stream",
     "text": [
      "2.000000\n"
     ]
    }
   ],
   "source": [
    "r = 1\n",
    "print(f'{2*r*r:.6f}') # 소수점 6자리 까지 표현하는 식 "
   ]
  }
 ],
 "metadata": {
  "kernelspec": {
   "display_name": "Python 3",
   "language": "python",
   "name": "python3"
  },
  "language_info": {
   "codemirror_mode": {
    "name": "ipython",
    "version": 3
   },
   "file_extension": ".py",
   "mimetype": "text/x-python",
   "name": "python",
   "nbconvert_exporter": "python",
   "pygments_lexer": "ipython3",
   "version": "3.8.8"
  }
 },
 "nbformat": 4,
 "nbformat_minor": 5
}
