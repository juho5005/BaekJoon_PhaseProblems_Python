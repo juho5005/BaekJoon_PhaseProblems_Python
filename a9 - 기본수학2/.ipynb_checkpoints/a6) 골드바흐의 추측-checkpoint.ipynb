{
 "cells": [
  {
   "cell_type": "markdown",
   "id": "48d07569",
   "metadata": {},
   "source": [
    "# 골드바흐의 추측"
   ]
  },
  {
   "cell_type": "markdown",
   "id": "8c85bd63",
   "metadata": {},
   "source": [
    "골드바흐의 추측 : 2보다 큰 모든 짝수는 두 소수의 합으로 표현이 된다.\n",
    "\n",
    "ex) 4 = 2 + 2 / 6 = 3 + 3 / 8 = 5 + 3 / 10 = 5 + 5 / 12 = 5 + 7\n",
    "\n",
    "10000보다 작거나 같은 모든 짝수 n에 대한 골드바흐 파티션은 존재!\n",
    "\n",
    "2보다 큰 짝수 n이 주어졌을 때, n의 골드바흐 파티션을 출력\n",
    "\n",
    "만약 골드바흐 파티션이 여러가지인 경우, 두 소수의 차이가 가장 작은 것 출력"
   ]
  },
  {
   "cell_type": "code",
   "execution_count": null,
   "id": "89b2845c",
   "metadata": {},
   "outputs": [],
   "source": [
    "t = int(input()) # 테스트 케이스의 개수 T 입력\n",
    "\n",
    "def goldbach(a) :\n",
    "    \n",
    "    for\n",
    "\n",
    "\n",
    "for _ in range(t) :\n",
    "    n = int(input()) # 짝수 n 주어짐 단) 4 <= n <= 10,000\n",
    "    x,y = goldbach(n) # 골드바흐 파티션 대입\n",
    "    "
   ]
  },
  {
   "cell_type": "markdown",
   "id": "f5b97b15",
   "metadata": {},
   "source": [
    "모르겟어서 구글링을 했다..\n",
    "일단 에라스토테네스의 체를 이용하여 소수의 리스트를 구하고, \n",
    "가능한 골드바흐의 파티션이 여러가지인 경우 두수의 차가 적은수를 구하는 것 이므로 \n",
    "입력받은 n의 중간부터 비교해 나간다."
   ]
  },
  {
   "cell_type": "code",
   "execution_count": 2,
   "id": "51e54cc0",
   "metadata": {},
   "outputs": [
    {
     "name": "stdout",
     "output_type": "stream",
     "text": [
      "3\n",
      "8\n",
      "3 5\n",
      "10\n",
      "5 5\n",
      "16\n",
      "5 11\n"
     ]
    }
   ],
   "source": [
    "import math # 4 <= n <= 10,000이 조건이다.\n",
    "prime_list = [False, False] + [True] * 9999 # 0과 1은 소수 X  \n",
    "\n",
    "for i in range(2, int(math.sqrt(9999)) + 1) :\n",
    "    if prime_list[i] == True :\n",
    "        j = 2\n",
    "        while i*j <= 10000 :\n",
    "            prime_list[i*j] = False\n",
    "            j += 1\n",
    "\n",
    "            \n",
    "t = int(input()) # 테스트 케이스 입력\n",
    "\n",
    "for _ in range(t) :\n",
    "    n = int(input())\n",
    "    \n",
    "    a = n // 2\n",
    "    b = n // 2\n",
    "    \n",
    "    while a > 0 : \n",
    "        if prime_list[a] == True and prime_list[b] == True :\n",
    "            print(a, b)\n",
    "            break\n",
    "        a -= 1\n",
    "        b += 1"
   ]
  },
  {
   "cell_type": "markdown",
   "id": "b26fc51f",
   "metadata": {},
   "source": [
    "골드바흐 파티션 구하기"
   ]
  },
  {
   "cell_type": "code",
   "execution_count": 2,
   "id": "6d3a5609",
   "metadata": {},
   "outputs": [
    {
     "name": "stdout",
     "output_type": "stream",
     "text": [
      "3\n",
      "10342\n",
      "5171 5171\n",
      "3\n",
      "11122\n",
      "5531 5591\n"
     ]
    }
   ],
   "source": [
    "import math\n",
    "\n",
    "# 에라스토테네스의 체 ( 10000이하의 소수를 True로 지정해둔 상태이다.)\n",
    "is_prime = [False, False] + [True] * 10000\n",
    "\n",
    "for i in range(2, int(math.sqrt(10000)) + 1 ) :\n",
    "    if is_prime[i] == True :\n",
    "        j = 2\n",
    "        while i * j <= 10000 :\n",
    "            is_prime[i * j] = False\n",
    "            j += 1\n",
    "\n",
    "t = int(input()) # 테스트 케이스의 수\n",
    "\n",
    "for _ in range(t) :\n",
    "    n = int(input()) # 짝수 n 입력\n",
    "    \n",
    "    x = n // 2\n",
    "    y = n // 2\n",
    "    \n",
    "    while x > 0 :\n",
    "        if is_prime[x] == True and is_prime[y] == True :\n",
    "            print(x,y)\n",
    "            break\n",
    "        else :\n",
    "            x -= 1\n",
    "            y += 1\n",
    "\n",
    "   "
   ]
  },
  {
   "cell_type": "code",
   "execution_count": null,
   "id": "de8b7112",
   "metadata": {},
   "outputs": [],
   "source": []
  }
 ],
 "metadata": {
  "kernelspec": {
   "display_name": "Python 3",
   "language": "python",
   "name": "python3"
  },
  "language_info": {
   "codemirror_mode": {
    "name": "ipython",
    "version": 3
   },
   "file_extension": ".py",
   "mimetype": "text/x-python",
   "name": "python",
   "nbconvert_exporter": "python",
   "pygments_lexer": "ipython3",
   "version": "3.8.8"
  }
 },
 "nbformat": 4,
 "nbformat_minor": 5
}
