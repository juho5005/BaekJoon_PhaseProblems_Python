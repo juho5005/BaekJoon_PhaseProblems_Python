{
 "cells": [
  {
   "cell_type": "markdown",
   "id": "e112b0ac",
   "metadata": {},
   "source": [
    "# 직사각형에서 탈출"
   ]
  },
  {
   "cell_type": "code",
   "execution_count": null,
   "id": "a01dfe9f",
   "metadata": {},
   "outputs": [],
   "source": [
    "기하와 관련된 문제인데 감이 안잡혀서 답지를 봤다.\n",
    "\n",
    "대각선을 그려봐서 직곽적으로 이해하면 좋고\n",
    "조건들을 봤을때 \n",
    "1 <= w,h <= 1000\n",
    "1 <= x <= w - 1\n",
    "1 <= y <= h - 1\n",
    "\n",
    "x,y는 항상 w-1과 h-1보다 작거나 같으므로 x,y는 직사각형 안에 위치 한다는 것을 알 수 있다.\n",
    "\n",
    "그러므로 (x,y) 좌표에서 각 직사각형의 경계선(변) 까지 가는데는 '직선'이 가장 빠르므로\n",
    "x, y, w-x, h-y 의 4가지 직선이 나오는데, 그 중 최솟값을 구하는 문제이므로 min함수를 사용하였다."
   ]
  },
  {
   "cell_type": "code",
   "execution_count": 1,
   "id": "a8b5eb83",
   "metadata": {},
   "outputs": [
    {
     "name": "stdout",
     "output_type": "stream",
     "text": [
      "6 2 10 3\n",
      "1\n"
     ]
    }
   ],
   "source": [
    "x,y,w,h = map(int, input().split()) # x,y,w,h 입력\n",
    "\n",
    "print(min(x, y, w-x, h-y))"
   ]
  }
 ],
 "metadata": {
  "kernelspec": {
   "display_name": "Python 3",
   "language": "python",
   "name": "python3"
  },
  "language_info": {
   "codemirror_mode": {
    "name": "ipython",
    "version": 3
   },
   "file_extension": ".py",
   "mimetype": "text/x-python",
   "name": "python",
   "nbconvert_exporter": "python",
   "pygments_lexer": "ipython3",
   "version": "3.8.8"
  }
 },
 "nbformat": 4,
 "nbformat_minor": 5
}
