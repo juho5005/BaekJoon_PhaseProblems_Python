{
 "cells": [
  {
   "cell_type": "markdown",
   "id": "ecaac3ad",
   "metadata": {},
   "source": [
    "# 소인수분해"
   ]
  },
  {
   "cell_type": "code",
   "execution_count": 9,
   "id": "42ea0cef",
   "metadata": {},
   "outputs": [
    {
     "name": "stdout",
     "output_type": "stream",
     "text": [
      "72\n",
      "2\n",
      "2\n",
      "2\n",
      "3\n",
      "3\n"
     ]
    }
   ],
   "source": [
    "n = int(input()) # 정수 N 입력\n",
    "\n",
    "start = 2 # 초기값 설정\n",
    "\n",
    "if n == 1 : # N이 1일땐, 아무것도 출력하지 않는다.\n",
    "    print()\n",
    "else :\n",
    "    while n != 1:\n",
    "        if n % start == 0 :\n",
    "            print(start)\n",
    "            n = n // start\n",
    "            continue\n",
    "        start += 1\n",
    "            \n",
    "                \n",
    "    \n",
    "        "
   ]
  },
  {
   "cell_type": "markdown",
   "id": "39acb076",
   "metadata": {},
   "source": [
    "오히려 에라토스테네스의 체를 이용하면 시간초과가 뜬다.\n",
    "\n",
    "아래는 에라토스테네스의 체를 이용하여 소수를 구하여 소수만의 경우를 따져주는 방식"
   ]
  },
  {
   "cell_type": "code",
   "execution_count": null,
   "id": "280cdbf0",
   "metadata": {},
   "outputs": [],
   "source": [
    "import sys\n",
    "import math\n",
    "\n",
    "n = int(sys.stdin.readline())\n",
    "\n",
    "eratosthenes = [0 for _ in range(n+1)]\n",
    "\n",
    "for i in range(2, int(math.sqrt(n)) +1) :\n",
    "    if eratosthenes[i] == 0 :\n",
    "        j=2\n",
    "        while i*j <= n :\n",
    "            eratosthenes[i*j] = 1\n",
    "            j += 1\n",
    "\n",
    "lst = []\n",
    "for j in range(2, n+1) :\n",
    "    if eratosthenes[j] == 0 : \n",
    "        lst.append(j)\n",
    "\n",
    "k = 0\n",
    "while n != 1:\n",
    "    if n % lst[k] == 0 :\n",
    "        print(lst[k])\n",
    "        n = n//lst[k]\n",
    "    else :\n",
    "        k += 1"
   ]
  }
 ],
 "metadata": {
  "kernelspec": {
   "display_name": "Python 3",
   "language": "python",
   "name": "python3"
  },
  "language_info": {
   "codemirror_mode": {
    "name": "ipython",
    "version": 3
   },
   "file_extension": ".py",
   "mimetype": "text/x-python",
   "name": "python",
   "nbconvert_exporter": "python",
   "pygments_lexer": "ipython3",
   "version": "3.8.8"
  }
 },
 "nbformat": 4,
 "nbformat_minor": 5
}
