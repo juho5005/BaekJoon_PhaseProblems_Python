{
 "cells": [
  {
   "cell_type": "markdown",
   "id": "31c5d2dc",
   "metadata": {},
   "source": [
    "## 원의 속성을 이용하는 문제이다. \n",
    "#####  외접, 내접, 외부에 원이 있을 때, 내부에 원이 있을 때 등 다양한 경우를 고려해야 하는 문제이다.\n",
    "##### 총 경우를 4가지로 나눠야한다."
   ]
  },
  {
   "cell_type": "markdown",
   "id": "82eb1bc9",
   "metadata": {},
   "source": [
    "문제 풀이 : https://www.notion.so/1002-dda4261902b94322bdc02579adc79874"
   ]
  },
  {
   "cell_type": "code",
   "execution_count": 8,
   "id": "8d65f1ac",
   "metadata": {},
   "outputs": [
    {
     "name": "stdout",
     "output_type": "stream",
     "text": [
      "3\n",
      "0 0 13 40 0 37\n",
      "2\n",
      "0 0 3 0 7 4\n",
      "1\n",
      "1 1 1 1 1 5\n",
      "0\n"
     ]
    }
   ],
   "source": [
    "import math\n",
    "t = int(input()) # 테스트 케이스의 개수 T 입력\n",
    "\n",
    "for _ in range(t) :\n",
    "    x1,y1,r1,x2,y2,r2 = map(int, input().split())\n",
    "    \n",
    "    d = math.sqrt((x2-x1) ** 2 + (y2-y1) ** 2) # 두 좌표상의 거리 (distance)\n",
    "    \n",
    "    # -1, 0 ,1 ,2 총 4자의 경우가 존재한다.\n",
    "    \n",
    "    if r1 == r2 and d == 0 : # 반지름이 각각 같고 중심 좌표가 같을 때\n",
    "        print(-1)\n",
    "    \n",
    "    elif r1 + r2 < d or r1 + d < r2 or r2 + d < r1 : # 두 원이 만나지 않는 경우\n",
    "        print(0) # 두 원이 만나지 않을땐 두 원이 떨어져 있을때, 한 원이 다른 원 안에 있을 때 2개!\n",
    "    \n",
    "    elif r1 + r2 == d or r1 - r2 == d or r2 - r1 == d : # 두 원이 한 점에서 만나는 경우\n",
    "        print(1) # 두 원이 한점에서 만날 땐 내접,외접 2가지 경우가 존재한다.\n",
    "        \n",
    "    else: # 그밖의 경우는 두 원이 2점에서 만난다.\n",
    "        print(2)    "
   ]
  },
  {
   "cell_type": "code",
   "execution_count": 11,
   "id": "94889d34",
   "metadata": {},
   "outputs": [
    {
     "name": "stdout",
     "output_type": "stream",
     "text": [
      "3\n",
      "0 0 13 40 0 37\n",
      "2\n",
      "0 0 3 0 7 4\n",
      "1\n",
      "1 1 1 1 1 5\n",
      "0\n"
     ]
    }
   ],
   "source": [
    "import sys \n",
    "import math\n",
    "t = int(sys.stdin.readline())\n",
    "\n",
    "for _ in range(t) :\n",
    "    x1, y1, r1, x2, y2, r2 = tuple(map(int, sys.stdin.readline().split()))\n",
    "\n",
    "    # (x1, y1) 와 (x2, y2) 사이의 거리 d\n",
    "    d = math.sqrt(((x1-x2)**2) + ((y1-y2)**2)) \n",
    "    \n",
    "    # 두 원이 같은 원일때 => 무수히 많은 점에서 만난다. (가능한 위치가 무한대)\n",
    "    if x1 == x2 and y1 == y2 and r1 == r2 :\n",
    "        print(-1) \n",
    "    \n",
    "    # 두 원이 한 점에서 만날 때 (외접, 내접) (가능한 위치가 1개)\n",
    "    elif d == r1 + r2 or d + r1 == r2 or d + r2 == r1 :\n",
    "        print(1)\n",
    "    \n",
    "    # 두 원이 만나지 않을 때 (한 원이 내부에 있을때, 각각 외부에 있을 때) (가능한 위치가 0개)\n",
    "    elif r1+r2 < d or d+r1 < r2 or d+r2 < r1 :\n",
    "        print(0)\n",
    "    \n",
    "    # 그 외의 경우는 모두 2개의 점에서 만난다.\n",
    "    else :\n",
    "        print(2)"
   ]
  }
 ],
 "metadata": {
  "kernelspec": {
   "display_name": "Python 3",
   "language": "python",
   "name": "python3"
  },
  "language_info": {
   "codemirror_mode": {
    "name": "ipython",
    "version": 3
   },
   "file_extension": ".py",
   "mimetype": "text/x-python",
   "name": "python",
   "nbconvert_exporter": "python",
   "pygments_lexer": "ipython3",
   "version": "3.8.8"
  }
 },
 "nbformat": 4,
 "nbformat_minor": 5
}
