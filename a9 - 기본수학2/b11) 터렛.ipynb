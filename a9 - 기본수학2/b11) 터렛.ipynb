{
 "cells": [
  {
   "cell_type": "markdown",
   "id": "31c5d2dc",
   "metadata": {},
   "source": [
    "# 터렛"
   ]
  },
  {
   "cell_type": "markdown",
   "id": "cb25e725",
   "metadata": {},
   "source": [
    "원의 속성을 이용해야 하는 것도 몰랐당..\n",
    "구글링햇슴"
   ]
  },
  {
   "cell_type": "markdown",
   "id": "b13a89b0",
   "metadata": {},
   "source": [
    "입력\n",
    "첫째 줄에 테스트 케이스의 개수 T개 입력\n",
    "x1, y1, r1, x2, y2, r2 입력\n",
    "\n",
    "출력\n",
    "테스트 케이스마다 류가 있을 수 있는 위치의 개수 출력\n",
    "만약) 있을 수 있는 위치의 개수가 무한대일 경우에는 -1출력"
   ]
  },
  {
   "cell_type": "markdown",
   "id": "82eb1bc9",
   "metadata": {},
   "source": [
    "조규현과 백승환의 위치를 각 원의 좌표라고 보고 r1,r2를 반지름으로 봤을 때\n",
    "류재명이 있을 수 있는 좌표의 수를 출력하라고 하는것은 \n",
    "조규현과 백승환을 원이라고 생각하고 경우를 나누어서 풀어야 하는 문제였다.\n",
    "\n",
    "\n",
    "https://www.notion.so/dda4261902b94322bdc02579adc79874\n",
    "원의 4가지 속성은 노션에 정리해뒀다."
   ]
  },
  {
   "cell_type": "code",
   "execution_count": 8,
   "id": "8d65f1ac",
   "metadata": {},
   "outputs": [
    {
     "name": "stdout",
     "output_type": "stream",
     "text": [
      "3\n",
      "0 0 13 40 0 37\n",
      "2\n",
      "0 0 3 0 7 4\n",
      "1\n",
      "1 1 1 1 1 5\n",
      "0\n"
     ]
    }
   ],
   "source": [
    "import math\n",
    "t = int(input()) # 테스트 케이스의 개수 T 입력\n",
    "\n",
    "for _ in range(t) :\n",
    "    x1,y1,r1,x2,y2,r2 = map(int, input().split())\n",
    "    \n",
    "    d = math.sqrt((x2-x1) ** 2 + (y2-y1) ** 2) # 두 좌표상의 거리 (distance)\n",
    "    \n",
    "    # -1, 0 ,1 ,2 총 4자의 경우가 존재한다.\n",
    "    \n",
    "    if r1 == r2 and d == 0 : # 반지름이 각각 같고 중심 좌표가 같을 때\n",
    "        print(-1)\n",
    "    \n",
    "    elif r1 + r2 < d or r1 + d < r2 or r2 + d < r1 : # 두 원이 만나지 않는 경우\n",
    "        print(0) # 두 원이 만나지 않을땐 두 원이 떨어져 있을때, 한 원이 다른 원 안에 있을 때 2개!\n",
    "    \n",
    "    elif r1 + r2 == d or r1 - r2 == d or r2 - r1 == d : # 두 원이 한 점에서 만나는 경우\n",
    "        print(1) # 두 원이 한점에서 만날 땐 내접,외접 2가지 경우가 존재한다.\n",
    "        \n",
    "    else: # 그밖의 경우는 두 원이 2점에서 만난다.\n",
    "        print(2)    "
   ]
  },
  {
   "cell_type": "code",
   "execution_count": 11,
   "id": "94889d34",
   "metadata": {},
   "outputs": [
    {
     "name": "stdout",
     "output_type": "stream",
     "text": [
      "3\n",
      "0 0 13 40 0 37\n",
      "2\n",
      "0 0 3 0 7 4\n",
      "1\n",
      "1 1 1 1 1 5\n",
      "0\n"
     ]
    }
   ],
   "source": [
    "t = int(input()) \n",
    "\n",
    "for _ in range(t) :\n",
    "    x1,y1,r1,x2,y2,r2 = map(int, input().split())\n",
    "    \n",
    "    d = ((x1-x2) ** 2 + (y1-y2) ** 2 ) ** (0.5)\n",
    "    \n",
    "    if d == 0 and r1 == r2 : # 두 원이 같은 원일때\n",
    "        print(-1)\n",
    "    elif r1 + r2 < d or r2 + d < r1 or r1 + d < r2 : \n",
    "        print(0)\n",
    "    elif r1 + r2 == d or r2 + d == r1 or r1 + d == r2 :\n",
    "        print(1)\n",
    "    else :\n",
    "        print(2)"
   ]
  },
  {
   "cell_type": "code",
   "execution_count": null,
   "id": "71c13ef2",
   "metadata": {},
   "outputs": [],
   "source": []
  }
 ],
 "metadata": {
  "kernelspec": {
   "display_name": "Python 3",
   "language": "python",
   "name": "python3"
  },
  "language_info": {
   "codemirror_mode": {
    "name": "ipython",
    "version": 3
   },
   "file_extension": ".py",
   "mimetype": "text/x-python",
   "name": "python",
   "nbconvert_exporter": "python",
   "pygments_lexer": "ipython3",
   "version": "3.8.8"
  }
 },
 "nbformat": 4,
 "nbformat_minor": 5
}
