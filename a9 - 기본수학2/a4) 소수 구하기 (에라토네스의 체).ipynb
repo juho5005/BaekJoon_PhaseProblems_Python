{
 "cells": [
  {
   "cell_type": "markdown",
   "id": "d8e7559e",
   "metadata": {},
   "source": [
    "# 소수 구하기"
   ]
  },
  {
   "cell_type": "markdown",
   "id": "ba1f52a0",
   "metadata": {},
   "source": [
    "M이상 N이하의 소수를 모두 출력하는 프로그램이다.\n",
    "1. M,N이 빈칸기준으로 입력\n",
    "2. 항상 소수가 하나 이상 있는 입력만 주어짐\n",
    "\n",
    "시간초과때문에 구글링해서 함수를 사용한다는 아이디어를 획득\n",
    "함수 사용해봤자 시간초과가 발생했고 에라토스테네스의 체 알고리즘을 사용하는걸 알아냄"
   ]
  },
  {
   "cell_type": "code",
   "execution_count": 13,
   "id": "3196ab15",
   "metadata": {},
   "outputs": [
    {
     "name": "stdout",
     "output_type": "stream",
     "text": [
      "3 16\n",
      "3\n",
      "5\n",
      "7\n",
      "11\n",
      "13\n"
     ]
    }
   ],
   "source": [
    "m,n = map(int, input().split())\n",
    "\n",
    "def prime_check(a) :\n",
    "    is_prime = True\n",
    "    for i in range(2,a) :\n",
    "        if a % i == 0 :\n",
    "            is_prime = False\n",
    "            break\n",
    "    if a == 1:\n",
    "        is_prime = False\n",
    "    \n",
    "    if is_prime == True :\n",
    "        return 1\n",
    "    else :\n",
    "        return 0\n",
    "\n",
    "for a in range(m, n+1) :\n",
    "    if prime_check(a) == 1 :\n",
    "        print(a)"
   ]
  },
  {
   "cell_type": "markdown",
   "id": "8d94d776",
   "metadata": {},
   "source": [
    "# 에라토스테네스의 체 알고리즘(Python)\n",
    "## 알고리즘의 예시이다."
   ]
  },
  {
   "cell_type": "code",
   "execution_count": 23,
   "id": "44692574",
   "metadata": {},
   "outputs": [
    {
     "name": "stdout",
     "output_type": "stream",
     "text": [
      "2 3 5 7 11 13 17 19 23 29 31 37 41 43 47 53 59 61 67 71 73 79 83 89 97 101 103 107 109 113 127 131 137 139 149 151 157 163 167 173 179 181 191 193 197 199 211 223 227 229 233 239 241 251 257 263 269 271 277 281 283 293 307 311 313 317 331 337 347 349 353 359 367 373 379 383 389 397 401 409 419 421 431 433 439 443 449 457 461 463 467 479 487 491 499 503 509 521 523 541 547 557 563 569 571 577 587 593 599 601 607 613 617 619 631 641 643 647 653 659 661 673 677 683 691 701 709 719 727 733 739 743 751 757 761 769 773 787 797 809 811 821 823 827 829 839 853 857 859 863 877 881 883 887 907 911 919 929 937 941 947 953 967 971 977 983 991 997 "
     ]
    }
   ],
   "source": [
    "import math\n",
    "n = 1000 # 2부터 1000까지의 모든 수에 대하여 소수 판별\n",
    "array = [True for _ in range(n+1)] # 처음엔 모든 수가 소수(True)\n",
    "\n",
    "# 에라토스테네스의 체 알고리즘\n",
    "# sqrt를 쓰는 이유는 n의 약수가 sqrt(n)의 이하이므로 sqrt(n)까지 검사하면 시간을 줄일 수 있다.\n",
    "for i in range(2, int(math.sqrt(n)) + 1) : # 2부터 n의 제곱근까지 모든 수 확인\n",
    "    if array[i] == True : #(남은 수인 경우)\n",
    "        # i를 제외한 i의 모든 배수를 지우기\n",
    "        j = 2\n",
    "        \n",
    "        while i * j <= n :\n",
    "            array[i * j] = False\n",
    "            j += 1\n",
    "\n",
    "for i in range(2, n+1) :\n",
    "    if array[i] :\n",
    "        print(i, end = ' ')\n",
    "        "
   ]
  },
  {
   "cell_type": "markdown",
   "id": "d1aeb16e",
   "metadata": {},
   "source": [
    "## 에라토스테네스의 체 알고리즘을 알고 다시 풀어봄 "
   ]
  },
  {
   "cell_type": "code",
   "execution_count": 24,
   "id": "40f98c77",
   "metadata": {},
   "outputs": [
    {
     "name": "stdout",
     "output_type": "stream",
     "text": [
      "3 16\n",
      "3\n",
      "5\n",
      "7\n",
      "11\n",
      "13\n"
     ]
    }
   ],
   "source": [
    "import math\n",
    "m,n = map(int, input().split())\n",
    "\n",
    "is_prime = [True for _ in range(n+1)] # 일단 모든 리스트를 True라고 설정\n",
    "\n",
    "\n",
    "for i in range(2, int(math.sqrt(n)) + 1) :\n",
    "    if is_prime[i] == True : # 남은 수 일경우\n",
    "        j= 2 \n",
    "        while i * j <= n:\n",
    "            is_prime[i*j] = False\n",
    "            j +=1   \n",
    "\n",
    "is_prime[0] = False\n",
    "is_prime[1] = False\n",
    "for _ in range(m, n+1) :\n",
    "    if is_prime[_] : \n",
    "        print(_)"
   ]
  },
  {
   "cell_type": "markdown",
   "id": "60bc10c5",
   "metadata": {},
   "source": [
    "위에 꺼인데 그냥 생각해보니 1 <= M,N <= 1,000,000 이므로 \n",
    "is_prime[1] = False만 설정해주면 될듯하다"
   ]
  },
  {
   "cell_type": "code",
   "execution_count": null,
   "id": "646476b9",
   "metadata": {},
   "outputs": [],
   "source": [
    "import math\n",
    "m,n = map(int, input().split()) \n",
    "\n",
    "is_prime = [True for _ in range(n+1)] # 일단 모든 리스트를 True라고 설정\n",
    "is_prime[1] = False # 1은 소수가 될 수 없으므로!\n",
    "\n",
    "for i in range(2, int(math.sqrt(n)) + 1) :\n",
    "    if is_prime[i] == True : # 남은 수 일경우\n",
    "        j= 2 \n",
    "        while i * j <= n:\n",
    "            is_prime[i*j] = False\n",
    "            j +=1   \n",
    "            \n",
    "for _ in range(m, n+1) :\n",
    "    if is_prime[_] : \n",
    "        print(_)"
   ]
  }
 ],
 "metadata": {
  "kernelspec": {
   "display_name": "Python 3",
   "language": "python",
   "name": "python3"
  },
  "language_info": {
   "codemirror_mode": {
    "name": "ipython",
    "version": 3
   },
   "file_extension": ".py",
   "mimetype": "text/x-python",
   "name": "python",
   "nbconvert_exporter": "python",
   "pygments_lexer": "ipython3",
   "version": "3.8.8"
  }
 },
 "nbformat": 4,
 "nbformat_minor": 5
}
