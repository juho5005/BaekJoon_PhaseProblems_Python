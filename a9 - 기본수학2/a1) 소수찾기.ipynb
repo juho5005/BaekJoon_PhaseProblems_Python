{
 "cells": [
  {
   "cell_type": "code",
   "execution_count": 5,
   "id": "96888288",
   "metadata": {},
   "outputs": [
    {
     "name": "stdout",
     "output_type": "stream",
     "text": [
      "4\n",
      "1 3 5 7\n",
      "3\n"
     ]
    }
   ],
   "source": [
    "n = int(input()) # 수의 개수 n\n",
    "\n",
    "numbers = list(map(int, input().split())) # 수들이 주어진다.\n",
    "\n",
    "count = 0\n",
    "prime_number = 0\n",
    "\n",
    "for i in range(n) : # 수들만큼 반복 \n",
    "    for j in range(1, numbers[i] + 1) :\n",
    "        if numbers[i] % j == 0 :\n",
    "            count += 1\n",
    "    if count == 2 :\n",
    "            prime_number += 1\n",
    "    count = 0\n",
    "print(prime_number)\n",
    "        \n"
   ]
  },
  {
   "cell_type": "code",
   "execution_count": 2,
   "id": "dd216ad0",
   "metadata": {},
   "outputs": [
    {
     "name": "stdout",
     "output_type": "stream",
     "text": [
      "h\n"
     ]
    }
   ],
   "source": [
    "for i in range(2, 3) :\n",
    "    print(\"h\")"
   ]
  },
  {
   "cell_type": "code",
   "execution_count": null,
   "id": "f34fb25d",
   "metadata": {},
   "outputs": [],
   "source": []
  }
 ],
 "metadata": {
  "kernelspec": {
   "display_name": "Python 3",
   "language": "python",
   "name": "python3"
  },
  "language_info": {
   "codemirror_mode": {
    "name": "ipython",
    "version": 3
   },
   "file_extension": ".py",
   "mimetype": "text/x-python",
   "name": "python",
   "nbconvert_exporter": "python",
   "pygments_lexer": "ipython3",
   "version": "3.8.8"
  }
 },
 "nbformat": 4,
 "nbformat_minor": 5
}
