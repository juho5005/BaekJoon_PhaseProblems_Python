{
 "cells": [
  {
   "cell_type": "markdown",
   "id": "8a42502a",
   "metadata": {},
   "source": [
    "문제 풀이 : https://raspy-turnip-f8d.notion.site/7569-3-5e4858d3ebf9468eae0fe94824ab5e59"
   ]
  },
  {
   "cell_type": "markdown",
   "id": "a86c22e6",
   "metadata": {},
   "source": [
    "#### 위의 토마토 문제와 방법은 완전히 같으나, 3차원까지 이용해야해서 햇갈렸던 문제이다.\n"
   ]
  },
  {
   "cell_type": "markdown",
   "id": "e5033ba6",
   "metadata": {},
   "source": [
    "#### 3차원 리스트 생성방법을 잘못되게 이해하고 있어서 바로잡았다."
   ]
  },
  {
   "cell_type": "code",
   "execution_count": null,
   "id": "5d04952f",
   "metadata": {},
   "outputs": [],
   "source": [
    "# 토마토 (3차원 문제)\n",
    "# 익은 토마토의 위 아래 왼쪽 오른쪽 앞 뒤 \"여섯 방향\"의 토마토는 익게된다.\n",
    "# 토마토들이 며칠이 지나면 다 익게 되는지 최수 일수를 구하시오.\n",
    "\n",
    "# BFS (최단 거리)\n",
    "\n",
    "from collections import deque\n",
    "import sys\n",
    "m, n, h = tuple(map(int, sys.stdin.readline().split()))\n",
    "q = deque()\n",
    "\n",
    "graph = [\n",
    "    [list(map(int, sys.stdin.readline().split()))\n",
    "     for _ in range(n)]\n",
    "    for _ in range(h)\n",
    "]\n",
    "\n",
    "visited = [\n",
    "    [[False] * m\n",
    "     for _ in range(n)]\n",
    "    for _ in range(h)\n",
    "]\n",
    "\n",
    "for i in range(h):\n",
    "    for j in range(n):\n",
    "        for k in range(m):\n",
    "            if graph[i][j][k] == 1:  # 익은 토마토가 존재하는 위치를\n",
    "                q.append((i, j, k))  # 큐에 넣어준다.\n",
    "\n",
    "# 위, 아래, 왼쪽, 오른쪽, 앞, 뒤\n",
    "dxs = [-1, 1, 0, 0, 0, 0]\n",
    "dys = [0, 0, -1, 1, 0, 0]\n",
    "dzs = [0, 0, 0, 0, -1, 1]\n",
    "\n",
    "\n",
    "def in_range(x, y, z):  # (x, y, z)의 범위를 0 ~ h-1, 0 ~ n-1, 0 ~ m-1 으로 설정한다.\n",
    "    return x >= 0 and x < h and y >= 0 and y < n and z >= 0 and z < m\n",
    "\n",
    "\n",
    "def can_go(x, y, z):\n",
    "    if not in_range(x, y, z):\n",
    "        return False\n",
    "    if graph[x][y][z] != 0:\n",
    "        return False\n",
    "    if visited[x][y][z]:\n",
    "        return False\n",
    "    return True\n",
    "\n",
    "\n",
    "def bfs():\n",
    "    while q:\n",
    "        x, y, z = q.popleft()\n",
    "\n",
    "        for dx, dy, dz in zip(dxs, dys, dzs):\n",
    "            nx, ny, nz = x+dx, y+dy, z+dz\n",
    "\n",
    "            if can_go(nx, ny, nz):\n",
    "                visited[nx][ny][nz] = True\n",
    "                q.append((nx, ny, nz))\n",
    "                graph[nx][ny][nz] = graph[x][y][z] + 1\n",
    "\n",
    "\n",
    "# BFS 실행\n",
    "bfs()\n",
    "\n",
    "ans = float('-inf')\n",
    "for i in range(h):\n",
    "    for j in range(n):\n",
    "        for k in range(m):\n",
    "            if graph[i][j][k] == 0:\n",
    "                print(-1)\n",
    "                sys.exit()\n",
    "\n",
    "            ans = max(ans, graph[i][j][k])\n",
    "\n",
    "print(ans-1)  # 익은 토마토의 숫자가 1이라서 1로 시작했으므로 최단거리는 -1을 해줘야 한다."
   ]
  }
 ],
 "metadata": {
  "kernelspec": {
   "display_name": "Python 3",
   "language": "python",
   "name": "python3"
  },
  "language_info": {
   "codemirror_mode": {
    "name": "ipython",
    "version": 3
   },
   "file_extension": ".py",
   "mimetype": "text/x-python",
   "name": "python",
   "nbconvert_exporter": "python",
   "pygments_lexer": "ipython3",
   "version": "3.8.8"
  }
 },
 "nbformat": 4,
 "nbformat_minor": 5
}
