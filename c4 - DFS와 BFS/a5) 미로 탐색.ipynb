{
 "cells": [
  {
   "cell_type": "markdown",
   "id": "35e3a937",
   "metadata": {},
   "source": [
    "### 최단거리를 구하는 문제이므로 BFS 사용"
   ]
  },
  {
   "cell_type": "code",
   "execution_count": null,
   "id": "e817eb6a",
   "metadata": {},
   "outputs": [],
   "source": [
    "# 미로 탐색\n",
    "\n",
    "# 이동할 수 있는 칸(1), 이동할 수 없는 칸(0)\n",
    "# (1, 1)에서 출발하여 (N, M)의 위치로 이동할 때 지나야 하는 최소의 칸 수는?\n",
    "# 칸을 셀 때, 시작 위치와 도착 위치도 포함한다.\n",
    "\n",
    "# BFS \n",
    "\n",
    "from collections import deque \n",
    "import sys \n",
    "n, m = tuple(map(int, sys.stdin.readline().split()))\n",
    "q = deque()\n",
    "\n",
    "# 각각의 수들은 \"붙어서\" 입력으로 주어진다.\n",
    "\n",
    "graph = [\n",
    "    list(sys.stdin.readline().strip())\n",
    "    for _ in range(n)\n",
    "]\n",
    "\n",
    "min_dist = [\n",
    "    [0] * m\n",
    "    for _ in range(n)\n",
    "]\n",
    "# 첫 칸도 세주므로 첫 칸의 시작을 1로 설정한다.\n",
    "min_dist[0][0] = 1\n",
    "\n",
    "visited = [\n",
    "    [False for _ in range(m)]\n",
    "    for _ in range(n)\n",
    "]\n",
    "\n",
    "dxs = [-1, 1, 0, 0]\n",
    "dys = [0, 0, -1, 1]\n",
    "\n",
    "def in_range(x, y) :\n",
    "    return x>=0 and x<n and y>=0 and y<m \n",
    "\n",
    "def can_go(x, y) :\n",
    "    if not in_range(x, y) :\n",
    "        return False \n",
    "    if visited[x][y] :\n",
    "        return False \n",
    "    if graph[x][y] == '0' :\n",
    "        return False \n",
    "    return True \n",
    "\n",
    "def bfs() :\n",
    "    while q :\n",
    "        x, y = q.popleft()\n",
    "\n",
    "        for dx, dy in zip(dxs, dys) :\n",
    "            nx, ny = x+dx, y+dy\n",
    "            \n",
    "            if can_go(nx, ny) :\n",
    "                visited[nx][ny] = True \n",
    "                q.append((nx, ny))\n",
    "                min_dist[nx][ny] = min_dist[x][y] + 1\n",
    "\n",
    "visited[0][0] = True \n",
    "q.append((0, 0))\n",
    "bfs()\n",
    "\n",
    "print(min_dist[n-1][m-1])\n"
   ]
  }
 ],
 "metadata": {
  "kernelspec": {
   "display_name": "Python 3",
   "language": "python",
   "name": "python3"
  },
  "language_info": {
   "codemirror_mode": {
    "name": "ipython",
    "version": 3
   },
   "file_extension": ".py",
   "mimetype": "text/x-python",
   "name": "python",
   "nbconvert_exporter": "python",
   "pygments_lexer": "ipython3",
   "version": "3.8.8"
  }
 },
 "nbformat": 4,
 "nbformat_minor": 5
}
