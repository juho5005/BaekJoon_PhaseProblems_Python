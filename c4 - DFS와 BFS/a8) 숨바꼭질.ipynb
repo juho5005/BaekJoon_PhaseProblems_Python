{
 "cells": [
  {
   "cell_type": "markdown",
   "id": "9c6db6c5",
   "metadata": {},
   "source": [
    "문제 풀이 : https://raspy-turnip-f8d.notion.site/1697-745ccc877ac445d08ce34a7977bd1def"
   ]
  },
  {
   "cell_type": "markdown",
   "id": "93739bb1",
   "metadata": {},
   "source": [
    "# BFS 최단거리를 이용하는 문제이다."
   ]
  },
  {
   "cell_type": "code",
   "execution_count": null,
   "id": "12feada0",
   "metadata": {},
   "outputs": [],
   "source": [
    "from collections import deque\n",
    "import sys\n",
    "INT_MAX = 100000\n",
    "n, k = tuple(map(int, sys.stdin.readline().split()))\n",
    "q = deque()\n",
    "\n",
    "time = [0] * (INT_MAX+1) # 최단 시간을 구하는 time 리스트를 생성\n",
    "\n",
    "visited = [\n",
    "    False\n",
    "    for _ in range(INT_MAX+1)\n",
    "]\n",
    "\n",
    "def bfs():\n",
    "    while q:\n",
    "        curr_v = q.popleft()\n",
    "\n",
    "        if curr_v == k:\n",
    "            return time[curr_v]\n",
    "\n",
    "        for next_v in (curr_v-1, curr_v+1, curr_v*2):\n",
    "            if 0 <= next_v <= INT_MAX and not visited[next_v]:\n",
    "                visited[next_v] = True\n",
    "                q.append(next_v)\n",
    "                time[next_v] = time[curr_v] + 1\n",
    "\n",
    "# 현재 수빈이의 위치 삽입\n",
    "visited[n] = True\n",
    "q.append(n)\n",
    "print(bfs())"
   ]
  }
 ],
 "metadata": {
  "kernelspec": {
   "display_name": "Python 3",
   "language": "python",
   "name": "python3"
  },
  "language_info": {
   "codemirror_mode": {
    "name": "ipython",
    "version": 3
   },
   "file_extension": ".py",
   "mimetype": "text/x-python",
   "name": "python",
   "nbconvert_exporter": "python",
   "pygments_lexer": "ipython3",
   "version": "3.8.8"
  }
 },
 "nbformat": 4,
 "nbformat_minor": 5
}
