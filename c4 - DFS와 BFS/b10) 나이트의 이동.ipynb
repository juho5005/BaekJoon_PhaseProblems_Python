{
 "cells": [
  {
   "cell_type": "markdown",
   "id": "c545a78f",
   "metadata": {},
   "source": [
    "문제 풀이 : https://raspy-turnip-f8d.notion.site/7562-f3a1799fe6a7455596be1ca57e41e263"
   ]
  },
  {
   "cell_type": "markdown",
   "id": "c9fce2cc",
   "metadata": {},
   "source": [
    "# BFS 최단 거리를 이용하는 방식 "
   ]
  },
  {
   "cell_type": "code",
   "execution_count": null,
   "id": "1ad7ef37",
   "metadata": {},
   "outputs": [],
   "source": [
    "from collections import deque\n",
    "import sys\n",
    "t = int(sys.stdin.readline())\n",
    "\n",
    "# 나이트의 이동 위치\n",
    "dxs = [2,  2,  1, 1, -1, -1, -2, -2]\n",
    "dys = [-1, 1, -2, 2, -2,  2,  1, -1]\n",
    "\n",
    "def in_range(x, y):\n",
    "    return x >= 0 and x < l and y >= 0 and y < l\n",
    "\n",
    "def can_go(x, y):\n",
    "    if not in_range(x, y):\n",
    "        return False\n",
    "    if visited[x][y]:\n",
    "        return False\n",
    "    return True\n",
    "\n",
    "def bfs():\n",
    "    global c, d\n",
    "    while q:\n",
    "        x, y = q.popleft()\n",
    "\n",
    "        if x == c and y == d:\n",
    "            return dist[x][y]\n",
    "\n",
    "        for dx, dy in zip(dxs, dys):\n",
    "            nx, ny = x+dx, y+dy\n",
    "\n",
    "            if can_go(nx, ny):\n",
    "                visited[nx][ny] = True\n",
    "\n",
    "                q.append((nx, ny))\n",
    "                dist[nx][ny] = dist[x][y] + 1\n",
    "\n",
    "for _ in range(t):\n",
    "\n",
    "    l = int(sys.stdin.readline())  # 체스판의 길이\n",
    "\n",
    "    a, b = tuple(map(int, sys.stdin.readline().split()))  # 시작 위치\n",
    "    c, d = tuple(map(int, sys.stdin.readline().split()))  # 도착 위치\n",
    "\n",
    "    q = deque()  # 큐를 매 번 케이스마다 새로 생성해야한다.\n",
    "\n",
    "    graph = [\n",
    "        [0] * l\n",
    "        for _ in range(l)\n",
    "    ]\n",
    "\n",
    "    visited = [\n",
    "        [False] * l\n",
    "        for _ in range(l)\n",
    "    ]\n",
    "\n",
    "    dist = [\n",
    "        [0] * l\n",
    "        for _ in range(l)\n",
    "    ]\n",
    "\n",
    "    # 시작위치를 방문 표시, 시작 위치를 큐에 넣어준다.\n",
    "    visited[a][b] = True\n",
    "    q.append((a, b))\n",
    "\n",
    "    print(bfs())\n"
   ]
  }
 ],
 "metadata": {
  "kernelspec": {
   "display_name": "Python 3",
   "language": "python",
   "name": "python3"
  },
  "language_info": {
   "codemirror_mode": {
    "name": "ipython",
    "version": 3
   },
   "file_extension": ".py",
   "mimetype": "text/x-python",
   "name": "python",
   "nbconvert_exporter": "python",
   "pygments_lexer": "ipython3",
   "version": "3.8.8"
  }
 },
 "nbformat": 4,
 "nbformat_minor": 5
}
