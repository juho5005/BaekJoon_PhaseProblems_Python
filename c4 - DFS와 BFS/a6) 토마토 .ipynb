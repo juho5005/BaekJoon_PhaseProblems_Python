{
 "cells": [
  {
   "cell_type": "markdown",
   "id": "a7d4850a",
   "metadata": {},
   "source": [
    "문제 풀이 : https://raspy-turnip-f8d.notion.site/7579-03ef0f407b344de19d28967e1b617d19"
   ]
  },
  {
   "cell_type": "markdown",
   "id": "2be25b29",
   "metadata": {},
   "source": [
    "# BFS : 최단 거리 방식을 사용하여 구한다."
   ]
  },
  {
   "cell_type": "code",
   "execution_count": null,
   "id": "05ba1391",
   "metadata": {},
   "outputs": [],
   "source": [
    "# n X m (graph)\n",
    "# 토마토들이 며칠이 지나면 다 익게 되는지, 최소 일자는 ?\n",
    "# 1(익은 토마토), 0(익지 않은 토마토), -1(토마토가 없는 칸)\n",
    "\n",
    "# BFS (최단 거리)\n",
    "\n",
    "from collections import deque\n",
    "import sys\n",
    "m, n = tuple(map(int, sys.stdin.readline().split()))\n",
    "q = deque()\n",
    "\n",
    "graph = [\n",
    "    list(map(int, sys.stdin.readline().split()))\n",
    "    for _ in range(n)\n",
    "]\n",
    "\n",
    "visited = [\n",
    "    [False for _ in range(m)]\n",
    "    for _ in range(n)\n",
    "]\n",
    "\n",
    "# 익은 토마토가 있는 위치(i, j)를 큐에 넣어준다.\n",
    "for i in range(n):\n",
    "    for j in range(m):\n",
    "        if graph[i][j] == 1:\n",
    "            q.append((i, j))\n",
    "\n",
    "# 상 하 좌 우\n",
    "dxs = [-1, 1, 0, 0]\n",
    "dys = [0, 0, -1, 1]\n",
    "\n",
    "\n",
    "def in_range(x, y):\n",
    "    return x >= 0 and x < n and y >= 0 and y < m\n",
    "\n",
    "\n",
    "def can_go(x, y):\n",
    "    if not in_range(x, y):\n",
    "        return False\n",
    "    if graph[x][y] != 0:\n",
    "        return False\n",
    "    if visited[x][y]:\n",
    "        return False\n",
    "    return True\n",
    "\n",
    "\n",
    "def bfs():\n",
    "    while q:\n",
    "        x, y = q.popleft()\n",
    "\n",
    "        for dx, dy in zip(dxs, dys):\n",
    "            nx, ny = x+dx, y+dy\n",
    "\n",
    "            if can_go(nx, ny):\n",
    "                visited[nx][ny] = True\n",
    "                q.append((nx, ny))\n",
    "                graph[nx][ny] = graph[x][y] + 1\n",
    "\n",
    "# bfs 실행\n",
    "bfs()\n",
    "\n",
    "# 모든 토마토가 익는 최소 날짜를 출력\n",
    "# 모든 토마토가 익어있는 상황이면 0 출력\n",
    "# 모든 토마토가 익지 못하는 상황이면 -1 출력\n",
    "\n",
    "ans = float('-inf')  # graph 내의 정수의 \"최댓값\"을 구하기 위한 ans 설정\n",
    "for i in graph:\n",
    "    for j in i:\n",
    "        if j == 0:  # 익지 않은 토마토가 존재한다면,\n",
    "            print(-1)\n",
    "            sys.exit()\n",
    "\n",
    "    ans = max(ans, max(i))\n",
    "\n",
    "print(ans-1)  # 익은 토마토가 숫자 1부터 시작했으므로 최소 날짜는 -1 해주어야한다."
   ]
  }
 ],
 "metadata": {
  "kernelspec": {
   "display_name": "Python 3",
   "language": "python",
   "name": "python3"
  },
  "language_info": {
   "codemirror_mode": {
    "name": "ipython",
    "version": 3
   },
   "file_extension": ".py",
   "mimetype": "text/x-python",
   "name": "python",
   "nbconvert_exporter": "python",
   "pygments_lexer": "ipython3",
   "version": "3.8.8"
  }
 },
 "nbformat": 4,
 "nbformat_minor": 5
}
