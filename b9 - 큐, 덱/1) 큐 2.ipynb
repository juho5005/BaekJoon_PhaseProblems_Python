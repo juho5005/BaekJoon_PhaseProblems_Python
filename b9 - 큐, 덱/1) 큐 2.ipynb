{
 "cells": [
  {
   "cell_type": "markdown",
   "id": "bde0aba8",
   "metadata": {},
   "source": [
    "### python3론 시간초과가 발생하여 pypy3로 제출하여 통과함"
   ]
  },
  {
   "cell_type": "markdown",
   "id": "d6c439c3",
   "metadata": {},
   "source": [
    "class 객체를 이용하여 queue를 구현한 방식"
   ]
  },
  {
   "cell_type": "code",
   "execution_count": null,
   "id": "634228ed",
   "metadata": {},
   "outputs": [],
   "source": [
    "import sys\n",
    "from collections import deque\n",
    "\n",
    "\n",
    "class Queue:\n",
    "    def __init__(self):\n",
    "        self.items = deque()\n",
    "\n",
    "    def push(self, item):\n",
    "        self.items.append(item)\n",
    "\n",
    "    def pop(self):\n",
    "        if not self.items:\n",
    "            return -1\n",
    "        else:\n",
    "            return self.items.popleft()\n",
    "\n",
    "    def size(self):\n",
    "        return len(self.items)\n",
    "\n",
    "    def empty(self):\n",
    "        if not self.items:\n",
    "            return 1\n",
    "        else:\n",
    "            return 0\n",
    "\n",
    "    def front(self):\n",
    "        if not self.items:\n",
    "            return -1\n",
    "        else:\n",
    "            return self.items[0]\n",
    "\n",
    "    def back(self):\n",
    "        if not self.items:\n",
    "            return -1\n",
    "        else:\n",
    "            return self.items[-1]\n",
    "\n",
    "\n",
    "q = Queue()\n",
    "\n",
    "n = int(sys.stdin.readline())\n",
    "# 1 <= N <= 2,000,000\n",
    "\n",
    "orders = [\n",
    "    sys.stdin.readline().strip().split()\n",
    "    for _ in range(n)\n",
    "]\n",
    "\n",
    "for order in orders:\n",
    "    if order[0] == 'push':\n",
    "        q.push(int(order[1]))\n",
    "    elif order[0] == 'pop':\n",
    "        print(q.pop())\n",
    "    elif order[0] == 'size':\n",
    "        print(q.size())\n",
    "    elif order[0] == 'empty':\n",
    "        print(q.empty())\n",
    "    elif order[0] == 'front':\n",
    "        print(q.front())\n",
    "    else:\n",
    "        print(q.back())"
   ]
  },
  {
   "cell_type": "markdown",
   "id": "43a9f508",
   "metadata": {},
   "source": [
    "deque()만 사용하여 queue를 구현한 방식"
   ]
  },
  {
   "cell_type": "code",
   "execution_count": null,
   "id": "e61f2120",
   "metadata": {},
   "outputs": [],
   "source": [
    "import sys\n",
    "from collections import deque\n",
    "\n",
    "q = deque()\n",
    "\n",
    "n = int(sys.stdin.readline())\n",
    "# 1 <= N <= 2,000,000\n",
    "\n",
    "orders = [\n",
    "    sys.stdin.readline().strip().split()\n",
    "    for _ in range(n)\n",
    "]\n",
    "\n",
    "for order in orders:\n",
    "    if order[0] == 'push':\n",
    "        q.append(int(order[1]))\n",
    "    elif order[0] == 'pop':\n",
    "        if not q:\n",
    "            print(-1)\n",
    "        else:\n",
    "            print(q.popleft())\n",
    "    elif order[0] == 'size':\n",
    "        print(len(q))\n",
    "    elif order[0] == 'empty':\n",
    "        if q:\n",
    "            print(0)\n",
    "        else:\n",
    "            print(1)\n",
    "    elif order[0] == 'front':\n",
    "        if not q:\n",
    "            print(-1)\n",
    "        else:\n",
    "            print(q[0])\n",
    "    else:\n",
    "        if not q:\n",
    "            print(-1)\n",
    "        else:\n",
    "            print(q[-1])"
   ]
  }
 ],
 "metadata": {
  "kernelspec": {
   "display_name": "Python 3",
   "language": "python",
   "name": "python3"
  },
  "language_info": {
   "codemirror_mode": {
    "name": "ipython",
    "version": 3
   },
   "file_extension": ".py",
   "mimetype": "text/x-python",
   "name": "python",
   "nbconvert_exporter": "python",
   "pygments_lexer": "ipython3",
   "version": "3.8.8"
  }
 },
 "nbformat": 4,
 "nbformat_minor": 5
}
