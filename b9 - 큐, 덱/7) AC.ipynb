{
 "cells": [
  {
   "cell_type": "markdown",
   "id": "cee7f2da",
   "metadata": {},
   "source": [
    "문제 풀이 : https://raspy-turnip-f8d.notion.site/5430-AC-9e91fc64b7f84eff9f2e349efdb92f9e"
   ]
  },
  {
   "cell_type": "code",
   "execution_count": null,
   "id": "1637e405",
   "metadata": {},
   "outputs": [],
   "source": [
    "# 새로운 언어 AC : 정수 배열에 연산을 하기 위한 언어\n",
    "\n",
    "# 두 가지 함수\n",
    "# R(뒤집기) : 순서 뒤집기\n",
    "# D(버리기) : 첫 번째 수 버리기 (배열이 비어있으면 에러 발생)\n",
    "\n",
    "from collections import deque\n",
    "import sys\n",
    "t = int(sys.stdin.readline())  # T <= 100\n",
    "\n",
    "for _ in range(t):\n",
    "    functions = sys.stdin.readline().rstrip()  # 1<=P<=100,000\n",
    "    n = int(sys.stdin.readline())  # 배열에 들어있는 수의 개수 # 0<=n<=100,000\n",
    "\n",
    "    bracket_nums = sys.stdin.readline().rstrip()\n",
    "\n",
    "    q = deque(\n",
    "        bracket_nums[1:-1].split(',')\n",
    "    )\n",
    "\n",
    "    # 길이가 0인 부분에 대해서는 예외사항으로 빈 큐로 초기화를 시켜줘야 한다.\n",
    "    if n == 0:\n",
    "        q = deque()\n",
    "\n",
    "    checking = True\n",
    "    rev = 0  # 회전 횟수를 세어주는 변수\n",
    "    for p in functions:\n",
    "        if p == 'R':\n",
    "            rev += 1\n",
    "        else:\n",
    "            # 큐가 비어있을 때\n",
    "            if not q:\n",
    "                print('error')\n",
    "                checking = False\n",
    "                break\n",
    "\n",
    "            # 큐가 비어있지 않을 때\n",
    "            else:\n",
    "                if rev % 2 == 0:\n",
    "                    q.popleft()  # 회전 되지 않은 상황이므로 첫 번째 수를 버려준다.\n",
    "                else:\n",
    "                    q.pop()  # 회전 된 상황이므로 마지막 수를 버려준다.\n",
    "\n",
    "    if checking:\n",
    "        # rev가 홀수라면 회전을 해줘서 출력하면 된다.\n",
    "        if rev % 2 == 1:\n",
    "            q.reverse()\n",
    "        print('[' + ','.join(q) + ']')"
   ]
  }
 ],
 "metadata": {
  "kernelspec": {
   "display_name": "Python 3",
   "language": "python",
   "name": "python3"
  },
  "language_info": {
   "codemirror_mode": {
    "name": "ipython",
    "version": 3
   },
   "file_extension": ".py",
   "mimetype": "text/x-python",
   "name": "python",
   "nbconvert_exporter": "python",
   "pygments_lexer": "ipython3",
   "version": "3.8.8"
  }
 },
 "nbformat": 4,
 "nbformat_minor": 5
}
