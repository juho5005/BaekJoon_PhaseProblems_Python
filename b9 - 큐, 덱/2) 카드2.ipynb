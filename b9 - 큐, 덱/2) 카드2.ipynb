{
 "cells": [
  {
   "cell_type": "markdown",
   "id": "74cb68b1",
   "metadata": {},
   "source": [
    "문제 풀이 : https://raspy-turnip-f8d.notion.site/2-1c4750d1d55d4e359cdf623bda2418e2"
   ]
  },
  {
   "cell_type": "markdown",
   "id": "530ea66c",
   "metadata": {},
   "source": [
    "### deque을 사용한 코드"
   ]
  },
  {
   "cell_type": "code",
   "execution_count": null,
   "id": "6a457122",
   "metadata": {},
   "outputs": [],
   "source": [
    "from collections import deque\n",
    "import sys\n",
    "n = int(sys.stdin.readline())\n",
    "# 1 <= N <= 500,000\n",
    "q = deque()\n",
    "\n",
    "# 큐에 값들 대입\n",
    "for i in range(1, n+1):\n",
    "    q.append(i)\n",
    "\n",
    "# 남게 되는 카드의 번호 출력\n",
    "while len(q) != 1:\n",
    "    q.popleft()\n",
    "\n",
    "    add_num = q.popleft()\n",
    "    q.append(add_num)\n",
    "\n",
    "print(*q)"
   ]
  },
  {
   "cell_type": "markdown",
   "id": "2123a096",
   "metadata": {},
   "source": [
    "### 규칙을 발견하여 메모리와 시간소요를 줄인 코드"
   ]
  },
  {
   "cell_type": "code",
   "execution_count": null,
   "id": "a793a3c5",
   "metadata": {},
   "outputs": [],
   "source": [
    "from collections import deque\n",
    "import sys\n",
    "n = int(sys.stdin.readline())\n",
    "# 1 <= N <= 500,000\n",
    "\n",
    "# 입력값이 1 또는 2라면 자기 자신 출력\n",
    "if n == 1 or n == 2:\n",
    "    print(n)\n",
    "\n",
    "# 입력값이 3이상 일때는 규칙을 적용한다.\n",
    "# (n - [n보다 작은 가장 큰 2의 거듭제곱 수]) * 2\n",
    "else:\n",
    "    square = 2\n",
    "    while 1:\n",
    "        if square >= n:\n",
    "            print((n - (square//2)) * 2)\n",
    "            break\n",
    "\n",
    "        square *= 2  # n보다 작은 \"가장 큰\" 2의 거듭제곱을 찾기 위해서 설정"
   ]
  }
 ],
 "metadata": {
  "kernelspec": {
   "display_name": "Python 3",
   "language": "python",
   "name": "python3"
  },
  "language_info": {
   "codemirror_mode": {
    "name": "ipython",
    "version": 3
   },
   "file_extension": ".py",
   "mimetype": "text/x-python",
   "name": "python",
   "nbconvert_exporter": "python",
   "pygments_lexer": "ipython3",
   "version": "3.8.8"
  }
 },
 "nbformat": 4,
 "nbformat_minor": 5
}
