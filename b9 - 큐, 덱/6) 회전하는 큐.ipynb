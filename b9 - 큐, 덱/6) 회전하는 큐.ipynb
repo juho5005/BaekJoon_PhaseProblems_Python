{
 "cells": [
  {
   "cell_type": "markdown",
   "id": "3a4b1fc9",
   "metadata": {},
   "source": [
    "문제 해설 : https://raspy-turnip-f8d.notion.site/1021-9a2c6befb9f44419848303a7d94f25b0"
   ]
  },
  {
   "cell_type": "code",
   "execution_count": null,
   "id": "2d78a0b5",
   "metadata": {},
   "outputs": [],
   "source": [
    "from collections import deque\n",
    "import sys\n",
    "# 큐의 크기 : N, 뽑아내려고 하는 수 M\n",
    "n, m = tuple(map(int, sys.stdin.readline().split()))\n",
    "# 1 <= N <= 50\n",
    "\n",
    "# 지민이가 뽑아내려고 하는 수의 위치(뽑아내려고 하는 수와 같다)\n",
    "pos = list(map(int, sys.stdin.readline().split()))\n",
    "\n",
    "dq = deque()\n",
    "\n",
    "for i in range(1, n+1):\n",
    "    dq.append(i)\n",
    "\n",
    "# 총 연산의 횟수\n",
    "cnt = 0\n",
    "\n",
    "for elem in pos:\n",
    "\n",
    "    while 1:  # elem을 모두 뽑을 때 까지 반복\n",
    "        if dq[0] == elem:  # 첫 번째 원소가 elem과 같다면 바로 1번 연산을 통해 뽑아낸다.\n",
    "            dq.popleft()\n",
    "            break\n",
    "\n",
    "        else:\n",
    "            # 2번 연산이 3번 연산보다 유리할 때 (홀수, 짝수 상관없음)\n",
    "            if dq.index(elem) <= len(dq) // 2:\n",
    "                while dq[0] != elem:\n",
    "                    dq.append(dq.popleft())\n",
    "                    cnt += 1\n",
    "            # 3번 연산이 2번 연산보다 유리할 때 (홀수, 짝수 상관없음)\n",
    "            else:\n",
    "                while dq[0] != elem:\n",
    "                    dq.appendleft(dq.pop())\n",
    "                    cnt += 1\n",
    "\n",
    "print(cnt)"
   ]
  }
 ],
 "metadata": {
  "kernelspec": {
   "display_name": "Python 3",
   "language": "python",
   "name": "python3"
  },
  "language_info": {
   "codemirror_mode": {
    "name": "ipython",
    "version": 3
   },
   "file_extension": ".py",
   "mimetype": "text/x-python",
   "name": "python",
   "nbconvert_exporter": "python",
   "pygments_lexer": "ipython3",
   "version": "3.8.8"
  }
 },
 "nbformat": 4,
 "nbformat_minor": 5
}
