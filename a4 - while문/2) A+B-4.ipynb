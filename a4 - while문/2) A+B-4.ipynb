{
 "cells": [
  {
   "cell_type": "markdown",
   "id": "2b777592",
   "metadata": {},
   "source": [
    "# A + B - 4"
   ]
  },
  {
   "cell_type": "code",
   "execution_count": null,
   "id": "af0d67b2",
   "metadata": {},
   "outputs": [],
   "source": [
    "while 1:\n",
    "    try : \n",
    "        a,b = map(int, input().split())\n",
    "        print(a+b)\n",
    "    except :\n",
    "        break"
   ]
  }
 ],
 "metadata": {
  "kernelspec": {
   "display_name": "Python 3",
   "language": "python",
   "name": "python3"
  },
  "language_info": {
   "codemirror_mode": {
    "name": "ipython",
    "version": 3
   },
   "file_extension": ".py",
   "mimetype": "text/x-python",
   "name": "python",
   "nbconvert_exporter": "python",
   "pygments_lexer": "ipython3",
   "version": "3.8.8"
  }
 },
 "nbformat": 4,
 "nbformat_minor": 5
}
