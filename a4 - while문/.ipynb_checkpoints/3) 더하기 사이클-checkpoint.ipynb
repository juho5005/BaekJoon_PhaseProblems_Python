{
 "cells": [
  {
   "cell_type": "markdown",
   "id": "3318b711",
   "metadata": {},
   "source": [
    "# 더하기 사이클"
   ]
  },
  {
   "cell_type": "markdown",
   "id": "4c585db3",
   "metadata": {},
   "source": [
    "규칙을 활용해서 몇 번째에 바뀌는지 찾아내는 문제"
   ]
  },
  {
   "cell_type": "code",
   "execution_count": 1,
   "id": "1c2a6f85",
   "metadata": {},
   "outputs": [
    {
     "name": "stdout",
     "output_type": "stream",
     "text": [
      "71\n",
      "12\n"
     ]
    }
   ],
   "source": [
    "n = int(input()) # n 입력 0<= n <= 99\n",
    "\n",
    "init = n\n",
    "cnt = 0\n",
    "while 1:\n",
    "    if cnt >= 1 and n == init :\n",
    "        break\n",
    "    jarisu_sum = 0\n",
    "    ten_jarisu = n % 10\n",
    "    \n",
    "    for i in str(n) :\n",
    "        jarisu_sum += int(i)\n",
    "    jarisu_sum %= 10 # 각 자리수를 더한것의 1의자리\n",
    "    \n",
    "    result = (10 * ten_jarisu) + jarisu_sum\n",
    "    cnt += 1\n",
    "    n = result\n",
    "    \n",
    "print(cnt)"
   ]
  },
  {
   "cell_type": "code",
   "execution_count": null,
   "id": "50fdb5be",
   "metadata": {},
   "outputs": [],
   "source": []
  }
 ],
 "metadata": {
  "kernelspec": {
   "display_name": "Python 3",
   "language": "python",
   "name": "python3"
  },
  "language_info": {
   "codemirror_mode": {
    "name": "ipython",
    "version": 3
   },
   "file_extension": ".py",
   "mimetype": "text/x-python",
   "name": "python",
   "nbconvert_exporter": "python",
   "pygments_lexer": "ipython3",
   "version": "3.8.8"
  }
 },
 "nbformat": 4,
 "nbformat_minor": 5
}
