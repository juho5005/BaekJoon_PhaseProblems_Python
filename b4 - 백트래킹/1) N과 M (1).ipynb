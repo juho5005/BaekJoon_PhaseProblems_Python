{
 "cells": [
  {
   "cell_type": "markdown",
   "id": "8ac5d604",
   "metadata": {},
   "source": [
    "# 순열 ( Permutation )"
   ]
  },
  {
   "cell_type": "markdown",
   "id": "44670b02",
   "metadata": {},
   "source": [
    "### Back-Tracking을 사용한 풀이"
   ]
  },
  {
   "cell_type": "code",
   "execution_count": null,
   "id": "5d51c729",
   "metadata": {},
   "outputs": [],
   "source": [
    "# 1 ~ N까지 자연수 중에서 중복 없이 M개를 고른 수열\n",
    "# 사전 순으로 증가하는 순서로 출력해야 한다.\n",
    "\n",
    "import sys\n",
    "n, m = tuple(map(int, sys.stdin.readline().split()))\n",
    "# 1 <= M <= N <= 8\n",
    "\n",
    "answer = []\n",
    "\n",
    "def print_answer():\n",
    "    for elem in answer:\n",
    "        print(elem, end=' ')\n",
    "    print()\n",
    "\n",
    "def choose(cnt):\n",
    "    if cnt == m+1:\n",
    "        print_answer()\n",
    "        return\n",
    "\n",
    "    for i in range(1, n+1):\n",
    "        if answer.count(i) == 1:\n",
    "            pass\n",
    "        else:\n",
    "            answer.append(i)\n",
    "            choose(cnt+1)\n",
    "            answer.pop()\n",
    "    return\n",
    "\n",
    "choose(1)"
   ]
  },
  {
   "cell_type": "markdown",
   "id": "2846a6af",
   "metadata": {},
   "source": [
    "### count 함수로 존재 여부를 판단한 식이 아닌 if i not in answer :을 사용한 방식"
   ]
  },
  {
   "cell_type": "code",
   "execution_count": null,
   "id": "f241bce8",
   "metadata": {},
   "outputs": [],
   "source": [
    "# 1 ~ N까지 자연수 중에서 중복 없이 M개를 고른 수열\n",
    "# 사전 순으로 증가하는 순서로 출력해야 한다.\n",
    "\n",
    "import sys\n",
    "from itertools import permutations\n",
    "n, m = tuple(map(int, sys.stdin.readline().split()))\n",
    "# 1 <= M <= N <= 8\n",
    "\n",
    "answer = []\n",
    "\n",
    "def print_permutation():\n",
    "    for elem in answer:\n",
    "        print(elem, end=' ')\n",
    "    print()\n",
    "\n",
    "def choose(curr_num):  # curr_num번째 자리의 수를 뽑는 경우를 의미\n",
    "    if curr_num == m+1:\n",
    "        print_permutation()\n",
    "        return\n",
    "\n",
    "    for i in range(1, n+1):\n",
    "        if i not in answer:\n",
    "            answer.append(i)\n",
    "            choose(curr_num+1)\n",
    "            answer.pop()\n",
    "\n",
    "choose(1)"
   ]
  },
  {
   "cell_type": "markdown",
   "id": "41b3dd86",
   "metadata": {},
   "source": [
    "### itertools 패키지의 Permutation 모듈 사용\n",
    "### permutation ( 반복 가능한 객체, 뽑는 개수 )"
   ]
  },
  {
   "cell_type": "code",
   "execution_count": null,
   "id": "d1fd2e16",
   "metadata": {},
   "outputs": [],
   "source": [
    "# 1 ~ N까지 자연수 중에서 중복 없이 M개를 고른 수열\n",
    "# 사전 순으로 증가하는 순서로 출력해야 한다.\n",
    "\n",
    "import sys\n",
    "from itertools import permutations\n",
    "n, m = tuple(map(int, sys.stdin.readline().split()))\n",
    "# 1 <= M <= N <= 8\n",
    "\n",
    "answer = [\n",
    "    i\n",
    "    for i in range(1, n+1)\n",
    "]\n",
    "\n",
    "for data in permutations(answer, m):\n",
    "    print(*data)"
   ]
  }
 ],
 "metadata": {
  "kernelspec": {
   "display_name": "Python 3",
   "language": "python",
   "name": "python3"
  },
  "language_info": {
   "codemirror_mode": {
    "name": "ipython",
    "version": 3
   },
   "file_extension": ".py",
   "mimetype": "text/x-python",
   "name": "python",
   "nbconvert_exporter": "python",
   "pygments_lexer": "ipython3",
   "version": "3.8.8"
  }
 },
 "nbformat": 4,
 "nbformat_minor": 5
}
