{
 "cells": [
  {
   "cell_type": "markdown",
   "id": "865793dc",
   "metadata": {},
   "source": [
    "## 중복 순열 ( Permutation with Repetition )"
   ]
  },
  {
   "cell_type": "markdown",
   "id": "37481269",
   "metadata": {},
   "source": [
    "### Back-Tracking 을 사용한 풀이 "
   ]
  },
  {
   "cell_type": "code",
   "execution_count": null,
   "id": "3013cf6c",
   "metadata": {},
   "outputs": [],
   "source": [
    "# N과 M\n",
    "# 자연수 N과 M이 주어졌을 때\n",
    "# 1부터 N까지 자연수 중에서 중복 없이 M개를 고른 수열\n",
    "\n",
    "import sys\n",
    "n, m = tuple(map(int, sys.stdin.readline().split()))\n",
    "# 1 <= M <= N <= 8\n",
    "\n",
    "answer = []\n",
    "\n",
    "def comb_print():\n",
    "    for elem in answer:\n",
    "        print(elem, end=' ')\n",
    "    print()\n",
    "\n",
    "def choose(cur_num):  # cur_num번째 자리의 숫자를 고를 때\n",
    "    if cur_num == m+1:\n",
    "        comb_print()\n",
    "        return\n",
    "\n",
    "    for i in range(1, n+1):\n",
    "        answer.append(i)\n",
    "        choose(cur_num+1)\n",
    "        answer.pop()\n",
    "\n",
    "    return\n",
    "\n",
    "choose(1)"
   ]
  },
  {
   "cell_type": "markdown",
   "id": "77bf3089",
   "metadata": {},
   "source": [
    "### itertools 패키지의 product 모듈 사용\n",
    "### product ( 반복 가능한 객체, repeat = 뽑는 개수 )"
   ]
  },
  {
   "cell_type": "code",
   "execution_count": null,
   "id": "1b184289",
   "metadata": {},
   "outputs": [],
   "source": [
    "import sys\n",
    "from itertools import product\n",
    "\n",
    "n, m = tuple(map(int, sys.stdin.readline().split()))\n",
    "# 1 <= M <= N <= 7\n",
    "\n",
    "answer = [\n",
    "    i\n",
    "    for i in range(1, n+1)\n",
    "]\n",
    "\n",
    "for data in product(answer, repeat=m):\n",
    "    print(*data)"
   ]
  }
 ],
 "metadata": {
  "kernelspec": {
   "display_name": "Python 3",
   "language": "python",
   "name": "python3"
  },
  "language_info": {
   "codemirror_mode": {
    "name": "ipython",
    "version": 3
   },
   "file_extension": ".py",
   "mimetype": "text/x-python",
   "name": "python",
   "nbconvert_exporter": "python",
   "pygments_lexer": "ipython3",
   "version": "3.8.8"
  }
 },
 "nbformat": 4,
 "nbformat_minor": 5
}
