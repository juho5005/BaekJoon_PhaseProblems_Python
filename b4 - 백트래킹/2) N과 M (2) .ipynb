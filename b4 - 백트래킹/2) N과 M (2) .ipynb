{
 "cells": [
  {
   "cell_type": "markdown",
   "id": "1521c749",
   "metadata": {},
   "source": [
    "# 조합 ( Combination )"
   ]
  },
  {
   "cell_type": "markdown",
   "id": "a6d1f46f",
   "metadata": {},
   "source": [
    "### Back-Tracking을 사용한 풀이"
   ]
  },
  {
   "cell_type": "code",
   "execution_count": null,
   "id": "fe770eca",
   "metadata": {},
   "outputs": [],
   "source": [
    "import sys\n",
    "n, m = tuple(map(int, sys.stdin.readline().split()))\n",
    "\n",
    "answer = []\n",
    "\n",
    "def print_combination():\n",
    "    for elem in answer:\n",
    "        print(elem, end=' ')\n",
    "    print()\n",
    "\n",
    "def choose(curr_num):  # curr_num번째 숫자를 고르는 경우\n",
    "    if curr_num == m+1:\n",
    "        print_combination()\n",
    "        return\n",
    "\n",
    "    for i in range(1, n+1):\n",
    "        if i not in answer:\n",
    "            if len(answer) != 0:\n",
    "                if max(answer) < i:\n",
    "                    answer.append(i)\n",
    "                    choose(curr_num+1)\n",
    "                    answer.pop()\n",
    "            else:\n",
    "                answer.append(i)\n",
    "                choose(curr_num+1)\n",
    "                answer.pop()\n",
    "\n",
    "choose(1)"
   ]
  },
  {
   "cell_type": "markdown",
   "id": "ebacb59a",
   "metadata": {},
   "source": [
    "### itertools 패키지의 Combination 모듈 사용\n",
    "### combination ( 반복 가능한 객체, 뽑는 개수 )"
   ]
  },
  {
   "cell_type": "code",
   "execution_count": null,
   "id": "27e23672",
   "metadata": {},
   "outputs": [],
   "source": [
    "import sys\n",
    "from itertools import combinations\n",
    "n, m = tuple(map(int, sys.stdin.readline().split()))\n",
    "\n",
    "answer = [\n",
    "    i\n",
    "    for i in range(1, n+1)\n",
    "]\n",
    "\n",
    "for data in combinations(answer, m):\n",
    "    print(*data)"
   ]
  }
 ],
 "metadata": {
  "kernelspec": {
   "display_name": "Python 3",
   "language": "python",
   "name": "python3"
  },
  "language_info": {
   "codemirror_mode": {
    "name": "ipython",
    "version": 3
   },
   "file_extension": ".py",
   "mimetype": "text/x-python",
   "name": "python",
   "nbconvert_exporter": "python",
   "pygments_lexer": "ipython3",
   "version": "3.8.8"
  }
 },
 "nbformat": 4,
 "nbformat_minor": 5
}
