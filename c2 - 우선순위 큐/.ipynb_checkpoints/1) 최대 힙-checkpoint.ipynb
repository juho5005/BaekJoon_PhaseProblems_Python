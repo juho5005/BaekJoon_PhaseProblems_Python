{
 "cells": [
  {
   "cell_type": "markdown",
   "id": "98b7b57f",
   "metadata": {},
   "source": [
    "## 파이썬의 heapq는 기본적으로 min-heap의 구조이므로 \n",
    "#### max-heap을 사용하려면 -를 붙여서 heappush() 해주고, -를 붙여서 heappop() 해준다."
   ]
  },
  {
   "cell_type": "markdown",
   "id": "2042ee78",
   "metadata": {},
   "source": [
    "## class를 사용하여 최대 힙을 구현해서 구한 방법"
   ]
  },
  {
   "cell_type": "code",
   "execution_count": null,
   "id": "245f5cb1",
   "metadata": {},
   "outputs": [],
   "source": [
    "# 최대 힙\n",
    "\n",
    "# 배열에 자연수 x를 넣는다.\n",
    "# 배열에서 가장 작은 값을 출력하고, 그 값을 배열에서 제거 한다.\n",
    "\n",
    "import heapq\n",
    "import sys\n",
    "n = int(sys.stdin.readline())\n",
    "# 1 <= N <= 100,000\n",
    "# O(N), O(NlogN), O(logN), O(1)\n",
    "\n",
    "nums = [\n",
    "    int(sys.stdin.readline())\n",
    "    for _ in range(n)\n",
    "]\n",
    "\n",
    "\n",
    "class PriorityQueue:\n",
    "    def __init__(self):\n",
    "        self.items = []\n",
    "\n",
    "    def push(self, item):\n",
    "        heapq.heappush(self.items, -item)\n",
    "\n",
    "    def pop(self):\n",
    "        if not self.items:\n",
    "            return 0\n",
    "        else:\n",
    "            return -1 * heapq.heappop(self.items)\n",
    "\n",
    "\n",
    "pq = PriorityQueue()\n",
    "\n",
    "for num in nums:\n",
    "    if num == 0:\n",
    "        print(pq.pop())\n",
    "    else:\n",
    "        pq.push(num)\n"
   ]
  },
  {
   "cell_type": "markdown",
   "id": "0681b2db",
   "metadata": {},
   "source": [
    "## class를 사용하지 않고 최대 힙을 구한 방법"
   ]
  },
  {
   "cell_type": "code",
   "execution_count": null,
   "id": "4f11405c",
   "metadata": {},
   "outputs": [],
   "source": [
    "# 최대 힙\n",
    "\n",
    "# 배열에 자연수 x를 넣는다.\n",
    "# 배열에서 가장 큰 값을 출력하고, 그 값을 제거한다.\n",
    "# 프로그램은 처음에 비어있는 배열에서 시작하게 된다.\n",
    "\n",
    "import heapq\n",
    "import sys\n",
    "n = int(sys.stdin.readline()) \n",
    "# 1 <= n <= 100,000\n",
    "# O(N), O(NlogN), O(logN), O(1)\n",
    "\n",
    "nums = [\n",
    "    int(sys.stdin.readline())\n",
    "    for _ in range(n)\n",
    "]\n",
    "\n",
    "# 힙 생성\n",
    "heap = []\n",
    "\n",
    "for num in nums:\n",
    "    if num == 0:\n",
    "        if not heap:\n",
    "            print(0)\n",
    "        else:\n",
    "            print(-1 * heapq.heappop(heap))\n",
    "    else:\n",
    "        heapq.heappush(heap, -num)"
   ]
  }
 ],
 "metadata": {
  "kernelspec": {
   "display_name": "Python 3",
   "language": "python",
   "name": "python3"
  },
  "language_info": {
   "codemirror_mode": {
    "name": "ipython",
    "version": 3
   },
   "file_extension": ".py",
   "mimetype": "text/x-python",
   "name": "python",
   "nbconvert_exporter": "python",
   "pygments_lexer": "ipython3",
   "version": "3.8.8"
  }
 },
 "nbformat": 4,
 "nbformat_minor": 5
}
