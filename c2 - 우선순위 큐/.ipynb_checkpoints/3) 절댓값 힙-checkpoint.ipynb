{
 "cells": [
  {
   "cell_type": "markdown",
   "id": "a496c288",
   "metadata": {},
   "source": [
    "배열에 정수 x (x != 0) 을 넣는다.\n",
    "배열에서 절댓값이 가장 작은 값을 출력, 그 값을 배열에서 제거\n",
    "절댓값이 가장 작은 값이 여러 개일 경우, 가장 작은 수 출력 후 그 값을 배열에서 제거"
   ]
  },
  {
   "cell_type": "markdown",
   "id": "8ea02d27",
   "metadata": {},
   "source": [
    "문제 풀이 : https://raspy-turnip-f8d.notion.site/11286-743650d1c4ea46618bd762bfb0b5fc4e"
   ]
  },
  {
   "cell_type": "code",
   "execution_count": null,
   "id": "1d18b17d",
   "metadata": {},
   "outputs": [],
   "source": [
    "# 배열에 정수 x (x != 0) 을 넣는다.\n",
    "# 배열에서 절댓값이 가장 작은 값을 출력, 그 값을 배열에서 제거\n",
    "# 절댓값이 가장 작은 값이 여러 개일 경우, 가장 작은 수 출력 후 그 값을 배열에서 제거\n",
    "\n",
    "import heapq\n",
    "import sys\n",
    "n = int(sys.stdin.readline())\n",
    "# 1<=N<=100,000\n",
    "# O(N), O(NlogN), O(logN), O(1)\n",
    "\n",
    "nums = [\n",
    "    int(sys.stdin.readline())\n",
    "    for _ in range(n)\n",
    "]\n",
    "\n",
    "pq = []\n",
    "\n",
    "for num in nums:\n",
    "    if num != 0:  # 절댓값이 작은 순서로 출력하는데, 만약 절댓값이 가장 작은 값이 여러 개이면\n",
    "        heapq.heappush(pq, (abs(num), num))  # 가장 작은 수를 출력한다.\n",
    "    else:\n",
    "        if not pq:\n",
    "            print(0)\n",
    "        else:\n",
    "            print(heapq.heappop(pq)[1])  # 절댓값을 적용하지 않은 num 출력"
   ]
  }
 ],
 "metadata": {
  "kernelspec": {
   "display_name": "Python 3",
   "language": "python",
   "name": "python3"
  },
  "language_info": {
   "codemirror_mode": {
    "name": "ipython",
    "version": 3
   },
   "file_extension": ".py",
   "mimetype": "text/x-python",
   "name": "python",
   "nbconvert_exporter": "python",
   "pygments_lexer": "ipython3",
   "version": "3.8.8"
  }
 },
 "nbformat": 4,
 "nbformat_minor": 5
}
