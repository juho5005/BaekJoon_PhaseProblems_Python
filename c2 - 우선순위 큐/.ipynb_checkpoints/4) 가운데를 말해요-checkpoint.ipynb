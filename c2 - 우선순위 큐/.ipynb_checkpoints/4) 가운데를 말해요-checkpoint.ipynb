{
 "cells": [
  {
   "cell_type": "markdown",
   "id": "b5fb514f",
   "metadata": {},
   "source": [
    "### 가운데 값을 구하기 위해서 max-heap과 min-heap 두 개를 만들어서 사용하는 아이디어를 떠올려야 한다."
   ]
  },
  {
   "cell_type": "markdown",
   "id": "17c014a5",
   "metadata": {},
   "source": [
    "문제 풀이 : https://raspy-turnip-f8d.notion.site/1655-8b0cf59746e9425d9c52dd573c597005"
   ]
  },
  {
   "cell_type": "code",
   "execution_count": null,
   "id": "756b23e0",
   "metadata": {},
   "outputs": [],
   "source": [
    "import heapq\n",
    "import sys\n",
    "\n",
    "n = int(sys.stdin.readline())\n",
    "# 1 <= N <= 100,000 : O(N), O(NlogN), O(logN), O(1)\n",
    "\n",
    "# 백준이가 외치는 수\n",
    "nums = [\n",
    "    int(sys.stdin.readline())\n",
    "    for _ in range(n)\n",
    "]\n",
    "\n",
    "# leftheap : 중간 값보다 작은 수들이 들어있고, max_heap이다. (중간 값 보다 작은 수들 중 가장 큰 수)\n",
    "leftheap = []\n",
    "\n",
    "# rightheap : 중간 값보다 큰 수들이 들어있고, min_heap이다. (중간 값보다 큰 수들 중 가장 작은 수)\n",
    "rightheap = []\n",
    "\n",
    "ans = []\n",
    "for num in nums:\n",
    "    if len(leftheap) == len(rightheap):\n",
    "        heapq.heappush(leftheap, (-num, num))\n",
    "    else:\n",
    "        heapq.heappush(rightheap, (num, num))\n",
    "\n",
    "    if rightheap and leftheap[0][1] > rightheap[0][1]:\n",
    "        min_root = heapq.heappop(rightheap)[1]\n",
    "        max_root = heapq.heappop(leftheap)[1]\n",
    "\n",
    "        heapq.heappush(leftheap, (-min_root, min_root))\n",
    "        heapq.heappush(rightheap, (max_root, max_root))\n",
    "\n",
    "    ans.append(leftheap[0][1])\n",
    "\n",
    "for elem in ans:\n",
    "    print(elem)"
   ]
  }
 ],
 "metadata": {
  "kernelspec": {
   "display_name": "Python 3",
   "language": "python",
   "name": "python3"
  },
  "language_info": {
   "codemirror_mode": {
    "name": "ipython",
    "version": 3
   },
   "file_extension": ".py",
   "mimetype": "text/x-python",
   "name": "python",
   "nbconvert_exporter": "python",
   "pygments_lexer": "ipython3",
   "version": "3.8.8"
  }
 },
 "nbformat": 4,
 "nbformat_minor": 5
}
