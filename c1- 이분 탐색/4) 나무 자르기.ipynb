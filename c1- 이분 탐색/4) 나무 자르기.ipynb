{
 "cells": [
  {
   "cell_type": "markdown",
   "id": "caca609a",
   "metadata": {},
   "source": [
    "문제 풀이 : https://raspy-turnip-f8d.notion.site/2805-Parametric-Search-fe9232cfde7d424c9447fab9d5eb3aed"
   ]
  },
  {
   "cell_type": "markdown",
   "id": "427808a6",
   "metadata": {},
   "source": [
    "### max_height 변수를 사용한 코드 "
   ]
  },
  {
   "cell_type": "code",
   "execution_count": null,
   "id": "6c0272f2",
   "metadata": {},
   "outputs": [],
   "source": [
    "# 나무 자르기\n",
    "# 절단기에 높이 H를 지정\n",
    "# 절단기에 설정할 수 있는 높이는 양의 정수 또는 0이다.\n",
    "\n",
    "# 적어도 M미터의 나무를 집에 가져가기 위해서 절단기에 설정할 수 있는\n",
    "# 높이의 최댓값을 구하는 프로그램을 작성하시오.\n",
    "\n",
    "import sys\n",
    "# 나무의 수 : N, 집으로 가져가려고 하는 나무의 길이 : M\n",
    "n, m = tuple(map(int, sys.stdin.readline().split()))\n",
    "# 1 <= N <= 1,000,000, 1 <= M <= 2,000,000,000\n",
    "# 범위가 매우 크므로 이분 탐색을 생각해내야 한다.\n",
    "\n",
    "heights = list(map(int, sys.stdin.readline().split()))\n",
    "# 0 <= height < 1,000,000,000\n",
    "heights.sort()  # 이분 탐색을 위한 정렬\n",
    "\n",
    "start = 0\n",
    "end = max(heights)\n",
    "\n",
    "max_height = float('-inf')\n",
    "while start <= end:\n",
    "    mid = (start+end) // 2\n",
    "\n",
    "    tree_length = 0\n",
    "    for height in heights:\n",
    "        if height > mid:\n",
    "            tree_length += (height - mid)\n",
    "\n",
    "    if tree_length >= m:\n",
    "        max_height = max(max_height, mid)\n",
    "        start = mid + 1\n",
    "    else:\n",
    "        end = mid - 1\n",
    "\n",
    "print(max_height)"
   ]
  },
  {
   "cell_type": "markdown",
   "id": "7e4ed34c",
   "metadata": {},
   "source": [
    "### 최댓값을 구하는 문제이므로 반환 값을 end로 설정한 경우"
   ]
  },
  {
   "cell_type": "code",
   "execution_count": null,
   "id": "6085b1be",
   "metadata": {},
   "outputs": [],
   "source": [
    "import sys\n",
    "# 나무의 수 : N, 집으로 가져가려고 하는 나무의 길이 : M\n",
    "n, m = tuple(map(int, sys.stdin.readline().split()))\n",
    "# 1 <= N <= 1,000,000, 1 <= M <= 2,000,000,000\n",
    "# 범위가 매우 크므로 이분 탐색을 생각해내야 한다.\n",
    "\n",
    "heights = list(map(int, sys.stdin.readline().split()))\n",
    "# 0 <= height < 1,000,000,000\n",
    "heights.sort()  # 이분 탐색을 위한 정렬\n",
    "\n",
    "start = 0\n",
    "end = max(heights)\n",
    "\n",
    "while start <= end:\n",
    "    mid = (start+end) // 2\n",
    "\n",
    "    tree_length = 0\n",
    "    for height in heights:\n",
    "        if height > mid:\n",
    "            tree_length += (height - mid)\n",
    "\n",
    "    if tree_length >= m:\n",
    "        start = mid + 1\n",
    "    else:\n",
    "        end = mid - 1\n",
    "\n",
    "print(end)"
   ]
  }
 ],
 "metadata": {
  "kernelspec": {
   "display_name": "Python 3",
   "language": "python",
   "name": "python3"
  },
  "language_info": {
   "codemirror_mode": {
    "name": "ipython",
    "version": 3
   },
   "file_extension": ".py",
   "mimetype": "text/x-python",
   "name": "python",
   "nbconvert_exporter": "python",
   "pygments_lexer": "ipython3",
   "version": "3.8.8"
  }
 },
 "nbformat": 4,
 "nbformat_minor": 5
}
