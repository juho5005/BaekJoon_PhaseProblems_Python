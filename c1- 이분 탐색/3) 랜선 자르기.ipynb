{
 "cells": [
  {
   "cell_type": "markdown",
   "id": "80b1147d",
   "metadata": {},
   "source": [
    "문제 풀이 : https://raspy-turnip-f8d.notion.site/1654-fca8bfd2b0ef494696947ee6f13b4947"
   ]
  },
  {
   "cell_type": "code",
   "execution_count": null,
   "id": "9337c561",
   "metadata": {},
   "outputs": [],
   "source": [
    "# 자체적으로 K개의 랜선을 가지고 있다.\n",
    "# 랜선을 모두 N개의 같은 길이의 랜선으로 만들고 싶다.\n",
    "\n",
    "# 기존의 K개의 랜선으로 N개 이상의 랜선을 만들 때\n",
    "# 만들 수 있는 최대 랜선의 길이를 구하시오.\n",
    "\n",
    "import sys\n",
    "# K(가지고 있는 랜선의 개수), N(필요한 랜선의 개수)\n",
    "k, n = tuple(map(int, sys.stdin.readline().split()))\n",
    "# 1 <= k <= 10,000, 1 <= N <= 1,000,000\n",
    "\n",
    "lans = [\n",
    "    int(sys.stdin.readline())\n",
    "    for _ in range(k)\n",
    "]\n",
    "\n",
    "# 최대 랜선의 길이를 \"이진탐색을 이용해서 찾아준다.\"\n",
    "start = 1\n",
    "end = max(lans)\n",
    "\n",
    "max_lan = float('-inf')\n",
    "while start <= end:\n",
    "    mid = (start+end) // 2\n",
    "\n",
    "    lans_cnt = 0  # 랜선 길이를 정해서 잘랐을 때 생성되는 랜선의 개수\n",
    "    for lan in lans:\n",
    "        lans_cnt += (lan // mid)\n",
    "\n",
    "    if lans_cnt >= n:\n",
    "        max_lan = max(max_lan, mid)\n",
    "        start = mid + 1\n",
    "    else:\n",
    "        end = mid - 1\n",
    "\n",
    "print(max_lan)"
   ]
  }
 ],
 "metadata": {
  "kernelspec": {
   "display_name": "Python 3",
   "language": "python",
   "name": "python3"
  },
  "language_info": {
   "codemirror_mode": {
    "name": "ipython",
    "version": 3
   },
   "file_extension": ".py",
   "mimetype": "text/x-python",
   "name": "python",
   "nbconvert_exporter": "python",
   "pygments_lexer": "ipython3",
   "version": "3.8.8"
  }
 },
 "nbformat": 4,
 "nbformat_minor": 5
}
