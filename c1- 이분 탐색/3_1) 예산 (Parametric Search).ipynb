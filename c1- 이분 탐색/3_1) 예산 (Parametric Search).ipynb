{
 "cells": [
  {
   "cell_type": "markdown",
   "id": "703cc6a1",
   "metadata": {},
   "source": [
    "문제 풀이 : https://raspy-turnip-f8d.notion.site/2512-Parametric-Search-5980dcde8bd444999b59f09621614b89"
   ]
  },
  {
   "cell_type": "code",
   "execution_count": null,
   "id": "5c73ddf5",
   "metadata": {},
   "outputs": [],
   "source": [
    "import sys\n",
    "n = int(sys.stdin.readline())\n",
    "# n <= 3 <= 10,000\n",
    "\n",
    "province_budgets = list(map(int, sys.stdin.readline().split()))\n",
    "# 1<= budget <= 100,000\n",
    "\n",
    "m = int(sys.stdin.readline())  # 총 예산\n",
    "# n <= m <= 1,000,000,000\n",
    "\n",
    "# 조건 1번 확인\n",
    "if sum(province_budgets) <= m:\n",
    "    print(max(province_budgets))\n",
    "\n",
    "# 1번 조건이 성립하지 않을 때\n",
    "else:\n",
    "    start = 1\n",
    "    end = max(province_budgets)\n",
    "\n",
    "    while start <= end:\n",
    "        mid = (start+end) // 2\n",
    "\n",
    "        whole_budget = 0\n",
    "        for budget in province_budgets:\n",
    "            if budget > mid:\n",
    "                whole_budget += mid\n",
    "            else:\n",
    "                whole_budget += budget\n",
    "\n",
    "        if whole_budget <= m:\n",
    "            start = mid + 1\n",
    "        else:\n",
    "            end = mid - 1\n",
    "    print(end) # 배정된 예산들 중 최댓값인 정수를 출력하므로 (최댓값 = end)"
   ]
  }
 ],
 "metadata": {
  "kernelspec": {
   "display_name": "Python 3",
   "language": "python",
   "name": "python3"
  },
  "language_info": {
   "codemirror_mode": {
    "name": "ipython",
    "version": 3
   },
   "file_extension": ".py",
   "mimetype": "text/x-python",
   "name": "python",
   "nbconvert_exporter": "python",
   "pygments_lexer": "ipython3",
   "version": "3.8.8"
  }
 },
 "nbformat": 4,
 "nbformat_minor": 5
}
