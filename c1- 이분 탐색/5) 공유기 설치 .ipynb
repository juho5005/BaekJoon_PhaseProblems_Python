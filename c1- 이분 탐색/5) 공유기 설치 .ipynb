{
 "cells": [
  {
   "cell_type": "markdown",
   "id": "d599a90c",
   "metadata": {},
   "source": [
    "문제 풀이 : https://raspy-turnip-f8d.notion.site/2110-01c0fc00d3d74621b62b2d497284f17a"
   ]
  },
  {
   "cell_type": "markdown",
   "id": "22af12a7",
   "metadata": {},
   "source": [
    "### max_dist를 이용하여 푼 풀이"
   ]
  },
  {
   "cell_type": "code",
   "execution_count": null,
   "id": "a23fb898",
   "metadata": {},
   "outputs": [],
   "source": [
    "import sys\n",
    "n, c = tuple(map(int, sys.stdin.readline().split()))\n",
    "# 2 <= N <= 200,000\n",
    "# 2 <= C <= N\n",
    "\n",
    "homes = [\n",
    "    int(sys.stdin.readline())\n",
    "    for _ in range(n)\n",
    "]\n",
    "homes.sort()  # 이분 탐색 하기 전 정렬\n",
    "\n",
    "start = 1  # 최소 거리\n",
    "end = homes[-1] - homes[0]  # 최대 거리\n",
    "\n",
    "max_dist = float('-inf')\n",
    "while start <= end:\n",
    "    mid = (start+end) // 2  # 두 공유기 사이의 거리 (mid)\n",
    "\n",
    "    # 몇 개의 집에 공유기를 설치할 수 있는가?\n",
    "    share_cnt = 1  # 첫 집에 공유기를 설치했다고 가정하므로 공유기 개수를 1개로 시작한다.\n",
    "    cur_house = homes[0]\n",
    "    for i in range(1, n):\n",
    "        if homes[i] - cur_house >= mid:\n",
    "            share_cnt += 1\n",
    "            cur_house = homes[i]\n",
    "\n",
    "    if share_cnt >= c:\n",
    "        max_dist = max(max_dist, mid)\n",
    "        start = mid + 1\n",
    "    else:\n",
    "        end = mid - 1\n",
    "\n",
    "print(max_dist)"
   ]
  },
  {
   "cell_type": "markdown",
   "id": "a71daf9b",
   "metadata": {},
   "source": [
    "### '최대'를 구하므로 end를 반환값으로 이용하여 푼 풀이 "
   ]
  },
  {
   "cell_type": "code",
   "execution_count": null,
   "id": "802edc33",
   "metadata": {},
   "outputs": [],
   "source": [
    "import sys\n",
    "n, c = tuple(map(int, sys.stdin.readline().split()))\n",
    "# 2 <= N <= 200,000\n",
    "# 2 <= C <= N\n",
    "\n",
    "homes = [\n",
    "    int(sys.stdin.readline())\n",
    "    for _ in range(n)\n",
    "]\n",
    "homes.sort()  # 이분 탐색 하기 전 정렬\n",
    "\n",
    "start = 1  # 최소 거리\n",
    "end = homes[-1] - homes[0]  # 최대 거리\n",
    "\n",
    "max_dist = float('-inf')\n",
    "while start <= end:\n",
    "    mid = (start+end) // 2  # 두 공유기 사이의 거리 (mid)\n",
    "\n",
    "    # 몇 개의 집에 공유기를 설치할 수 있는가?\n",
    "    share_cnt = 1  # 첫 집에 공유기를 설치했다고 가정하므로 공유기 개수를 1개로 시작한다.\n",
    "    cur_house = homes[0]\n",
    "    for i in range(1, n):\n",
    "        if homes[i] - cur_house >= mid:\n",
    "            share_cnt += 1\n",
    "            cur_house = homes[i]\n",
    "\n",
    "    if share_cnt >= c:\n",
    "        start = mid + 1\n",
    "    else:\n",
    "        end = mid - 1\n",
    "\n",
    "print(end)"
   ]
  }
 ],
 "metadata": {
  "kernelspec": {
   "display_name": "Python 3",
   "language": "python",
   "name": "python3"
  },
  "language_info": {
   "codemirror_mode": {
    "name": "ipython",
    "version": 3
   },
   "file_extension": ".py",
   "mimetype": "text/x-python",
   "name": "python",
   "nbconvert_exporter": "python",
   "pygments_lexer": "ipython3",
   "version": "3.8.8"
  }
 },
 "nbformat": 4,
 "nbformat_minor": 5
}
