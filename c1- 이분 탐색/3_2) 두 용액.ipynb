{
 "cells": [
  {
   "cell_type": "markdown",
   "id": "8e63650f",
   "metadata": {},
   "source": [
    "문제 풀이 : https://raspy-turnip-f8d.notion.site/2470-Parametric-Search-23c744c59b3b4baba88094b108d6433f"
   ]
  },
  {
   "cell_type": "code",
   "execution_count": null,
   "id": "1424cf8f",
   "metadata": {},
   "outputs": [],
   "source": [
    "import sys\n",
    "n = int(sys.stdin.readline())\n",
    "# 2 <= N <= 100,000\n",
    "# O(N), O(NlogN), O(logN), O(1)\n",
    "\n",
    "nums = list(map(int, sys.stdin.readline().split()))\n",
    "# -1,000,000,000 <= num <= 1,000,000,000\n",
    "nums.sort()\n",
    "\n",
    "# 시간 초과를 고려하여 이분 탐색을 통해 각각의 인덱스를 확인해야 한다.\n",
    "start = 0\n",
    "end = len(nums)-1\n",
    "\n",
    "min_val = float('inf')\n",
    "while start < end:  # 'start<=end' 로 하면 틀린다. 모든 용액은 한 개씩 선택하기 때문이다.\n",
    "    mixture_solution = nums[start] + nums[end]\n",
    "\n",
    "    if abs(mixture_solution) < min_val:\n",
    "        min_val = abs(mixture_solution)\n",
    "        prices = (nums[start], nums[end])\n",
    "\n",
    "    if mixture_solution == 0:\n",
    "        break\n",
    "\n",
    "    elif mixture_solution > 0:\n",
    "        end -= 1\n",
    "\n",
    "    else:\n",
    "        start += 1\n",
    "\n",
    "for price in sorted(prices):\n",
    "    print(price, end=' ')"
   ]
  }
 ],
 "metadata": {
  "kernelspec": {
   "display_name": "Python 3",
   "language": "python",
   "name": "python3"
  },
  "language_info": {
   "codemirror_mode": {
    "name": "ipython",
    "version": 3
   },
   "file_extension": ".py",
   "mimetype": "text/x-python",
   "name": "python",
   "nbconvert_exporter": "python",
   "pygments_lexer": "ipython3",
   "version": "3.8.8"
  }
 },
 "nbformat": 4,
 "nbformat_minor": 5
}
