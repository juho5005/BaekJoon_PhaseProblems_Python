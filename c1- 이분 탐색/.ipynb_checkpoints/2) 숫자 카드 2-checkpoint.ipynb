{
 "cells": [
  {
   "cell_type": "markdown",
   "id": "f7940191",
   "metadata": {},
   "source": [
    "# Upper-Bound , Lower-Bound를 활용한 이진 탐색으로 수 구하는 방법"
   ]
  },
  {
   "cell_type": "code",
   "execution_count": null,
   "id": "3107bad2",
   "metadata": {},
   "outputs": [],
   "source": [
    "# 카드 N개 보유\n",
    "# 정수 M 주어졌을 때\n",
    "# 이 수가 적혀있는 카드를 몇 개 가지고있는가?\n",
    "\n",
    "\n",
    "# 카드의 수 범위 : 10,000,000 <= 카드 <= 10,000,000\n",
    "import sys\n",
    "\n",
    "n = int(sys.stdin.readline())\n",
    "cards = list(map(int, sys.stdin.readline().split()))\n",
    "# cards 정렬 (이분탐색은 오름차순으로 정렬된 상태로 가능)\n",
    "cards.sort()\n",
    "\n",
    "m = int(sys.stdin.readline())\n",
    "find_cards = list(map(int, sys.stdin.readline().split()))\n",
    "\n",
    "# 각 수가 적힌 숫자 카드를 몇 개 가지고 있는가 (UpperBound - LowerBound)\n",
    "def UpperBound(target) :\n",
    "    start = 0 \n",
    "    end = len(cards) - 1\n",
    "\n",
    "    while start <= end : \n",
    "        mid = (start + end) // 2\n",
    "\n",
    "        if cards[mid] > target :\n",
    "            end = mid - 1\n",
    "        else : \n",
    "            start = mid + 1\n",
    "    return end\n",
    "\n",
    "def LowerBound(target) :\n",
    "    start = 0\n",
    "    end = len(cards) - 1\n",
    "\n",
    "    while start <= end : \n",
    "        mid = (start + end) // 2\n",
    "        \n",
    "        if cards[mid] >= target : \n",
    "            end = mid - 1\n",
    "        else :\n",
    "            start = mid + 1\n",
    "    return end\n",
    "\n",
    "for elem in find_cards : \n",
    "    print(UpperBound(elem) - LowerBound(elem), end = ' ')"
   ]
  },
  {
   "cell_type": "markdown",
   "id": "be25567b",
   "metadata": {},
   "source": [
    "# Hash -> dictionary를 이용하여 구하는 방법"
   ]
  },
  {
   "cell_type": "code",
   "execution_count": null,
   "id": "fbd8a286",
   "metadata": {},
   "outputs": [],
   "source": [
    "import sys\n",
    "\n",
    "n = int(sys.stdin.readline())\n",
    "cards = list(map(int, sys.stdin.readline().split()))\n",
    "\n",
    "m = int(sys.stdin.readline())\n",
    "find_cards = list(map(int, sys.stdin.readline().split()))\n",
    "\n",
    "dic = {}\n",
    "\n",
    "for elem in cards : \n",
    "    if elem not in dic : \n",
    "        dic[elem] = 1\n",
    "    else :\n",
    "        dic[elem] += 1\n",
    "\n",
    "\n",
    "for elem in find_cards : \n",
    "    if elem in dic :\n",
    "        print(dic[elem], end = ' ')\n",
    "    else :\n",
    "        print(0, end = ' ')"
   ]
  },
  {
   "cell_type": "markdown",
   "id": "165ceca2",
   "metadata": {},
   "source": [
    "# Counter 클래스를 사용하는 방법"
   ]
  },
  {
   "cell_type": "code",
   "execution_count": null,
   "id": "1f6ac22a",
   "metadata": {},
   "outputs": [],
   "source": [
    "import sys\n",
    "from collections import Counter\n",
    "n = int(sys.stdin.readline())\n",
    "cards = list(map(int, sys.stdin.readline().split()))\n",
    "\n",
    "m = int(sys.stdin.readline())\n",
    "find_cards = list(map(int, sys.stdin.readline().split()))\n",
    "\n",
    "\n",
    "cards_count = Counter(cards)\n",
    "\n",
    "for number in find_cards : \n",
    "    if number in cards_count : \n",
    "        print(cards_count[number], end = ' ')\n",
    "    else :\n",
    "        print(0, end = ' ')"
   ]
  }
 ],
 "metadata": {
  "kernelspec": {
   "display_name": "Python 3",
   "language": "python",
   "name": "python3"
  },
  "language_info": {
   "codemirror_mode": {
    "name": "ipython",
    "version": 3
   },
   "file_extension": ".py",
   "mimetype": "text/x-python",
   "name": "python",
   "nbconvert_exporter": "python",
   "pygments_lexer": "ipython3",
   "version": "3.8.8"
  }
 },
 "nbformat": 4,
 "nbformat_minor": 5
}
