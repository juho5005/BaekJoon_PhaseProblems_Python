{
 "cells": [
  {
   "cell_type": "markdown",
   "id": "f90e0750",
   "metadata": {},
   "source": [
    "# 이진 탐색\n",
    "## 오름차순으로 정렬된 수들에서만 가능하다."
   ]
  },
  {
   "cell_type": "code",
   "execution_count": null,
   "id": "52d2f156",
   "metadata": {},
   "outputs": [],
   "source": [
    "# N개의 정수\n",
    "# A1 ~ AN 안에 X라는 정수가 존재하는가 ?\n",
    "# 1 <= N <=100,000 이므로 \n",
    "# 시간복잡도 O(N), O(NlogN), O(logN), O(1) 내에 해결해야 함.\n",
    "# 이진탐색은 정렬된 상태에만 가능.\n",
    "\n",
    "import sys \n",
    "n = int(sys.stdin.readline())\n",
    "nums = list(map(int, sys.stdin.readline().split()))\n",
    "nums.sort()\n",
    "\n",
    "m = int(sys.stdin.readline())\n",
    "find_nums = list(map(int, sys.stdin.readline().split()))\n",
    "\n",
    "# 존재하면 1, 존재하지 않으면 0\n",
    "def binary_search(target) :\n",
    "    start = 0\n",
    "    end = len(nums) - 1\n",
    "    \n",
    "    while start <= end  :\n",
    "        mid = (start + end) // 2\n",
    "        \n",
    "        if nums[mid] == target : \n",
    "            return mid \n",
    "        \n",
    "        if nums[mid] > target : \n",
    "            end = mid - 1\n",
    "        \n",
    "        else : \n",
    "            start = mid + 1\n",
    "    return -1\n",
    "\n",
    "for elem in find_nums :\n",
    "    if binary_search(elem) == -1 :\n",
    "        print(0)\n",
    "    else :\n",
    "        print(1) "
   ]
  }
 ],
 "metadata": {
  "kernelspec": {
   "display_name": "Python 3",
   "language": "python",
   "name": "python3"
  },
  "language_info": {
   "codemirror_mode": {
    "name": "ipython",
    "version": 3
   },
   "file_extension": ".py",
   "mimetype": "text/x-python",
   "name": "python",
   "nbconvert_exporter": "python",
   "pygments_lexer": "ipython3",
   "version": "3.8.8"
  }
 },
 "nbformat": 4,
 "nbformat_minor": 5
}
