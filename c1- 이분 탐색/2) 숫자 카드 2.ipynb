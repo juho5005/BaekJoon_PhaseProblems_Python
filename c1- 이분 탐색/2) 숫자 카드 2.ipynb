{
 "cells": [
  {
   "cell_type": "markdown",
   "id": "f7940191",
   "metadata": {},
   "source": [
    "### Upper-Bound , Lower-Bound를 활용한 이진 탐색으로 수 구하는 방법\n",
    "개념 설명 : https://raspy-turnip-f8d.notion.site/3-Lower-bound-Upper-bound-c6dd01df43294f08b8209d5c8d5c4d23"
   ]
  },
  {
   "cell_type": "code",
   "execution_count": null,
   "id": "3107bad2",
   "metadata": {},
   "outputs": [],
   "source": [
    "import sys\n",
    "n = int(sys.stdin.readline())\n",
    "cards = list(map(int, sys.stdin.readline().split()))\n",
    "# cards 정렬 (이분탐색은 오름차순으로 정렬된 상태로 가능)\n",
    "\n",
    "m = int(sys.stdin.readline())\n",
    "find_cards = list(map(int, sys.stdin.readline().split()))\n",
    "\n",
    "cards.sort()\n",
    "# Lowerbound (찾고자 하는 수와 같거나 큰 수중 가장 처음으로 나오는 좌표)\n",
    "\n",
    "\n",
    "def Lowerbound(target):\n",
    "    start = 0\n",
    "    end = len(cards)\n",
    "\n",
    "    while start < end:\n",
    "        mid = (start+end) // 2\n",
    "\n",
    "        if cards[mid] >= target:\n",
    "            end = mid\n",
    "        else:\n",
    "            start = mid + 1\n",
    "    return start\n",
    "\n",
    "# Upperbound (찾고자 하는 수보다 큰 값들 중 가장 처음으로 나오는 좌표)\n",
    "\n",
    "\n",
    "def Upperbound(target):\n",
    "    start = 0\n",
    "    end = len(cards)\n",
    "\n",
    "    while start < end:\n",
    "        mid = (start+end) // 2\n",
    "\n",
    "        if cards[mid] > target:\n",
    "            end = mid\n",
    "        else:\n",
    "            start = mid + 1\n",
    "    return start\n",
    "\n",
    "\n",
    "for card in find_cards:\n",
    "    print(Upperbound(card) - Lowerbound(card), end=' ')"
   ]
  },
  {
   "cell_type": "markdown",
   "id": "be25567b",
   "metadata": {},
   "source": [
    "# Hash -> dictionary를 이용하여 구하는 방법"
   ]
  },
  {
   "cell_type": "code",
   "execution_count": null,
   "id": "fbd8a286",
   "metadata": {},
   "outputs": [],
   "source": [
    "import sys\n",
    "\n",
    "n = int(sys.stdin.readline())\n",
    "cards = list(map(int, sys.stdin.readline().split()))\n",
    "\n",
    "m = int(sys.stdin.readline())\n",
    "find_cards = list(map(int, sys.stdin.readline().split()))\n",
    "\n",
    "dic = {}\n",
    "\n",
    "for elem in cards : \n",
    "    if elem not in dic : \n",
    "        dic[elem] = 1\n",
    "    else :\n",
    "        dic[elem] += 1\n",
    "\n",
    "\n",
    "for elem in find_cards : \n",
    "    if elem in dic :\n",
    "        print(dic[elem], end = ' ')\n",
    "    else :\n",
    "        print(0, end = ' ')"
   ]
  },
  {
   "cell_type": "markdown",
   "id": "165ceca2",
   "metadata": {},
   "source": [
    "# Counter 클래스를 사용하는 방법"
   ]
  },
  {
   "cell_type": "code",
   "execution_count": null,
   "id": "1f6ac22a",
   "metadata": {},
   "outputs": [],
   "source": [
    "import sys\n",
    "from collections import Counter\n",
    "n = int(sys.stdin.readline())\n",
    "cards = list(map(int, sys.stdin.readline().split()))\n",
    "\n",
    "m = int(sys.stdin.readline())\n",
    "find_cards = list(map(int, sys.stdin.readline().split()))\n",
    "\n",
    "\n",
    "cards_count = Counter(cards)\n",
    "\n",
    "for number in find_cards : \n",
    "    if number in cards_count : \n",
    "        print(cards_count[number], end = ' ')\n",
    "    else :\n",
    "        print(0, end = ' ')"
   ]
  }
 ],
 "metadata": {
  "kernelspec": {
   "display_name": "Python 3",
   "language": "python",
   "name": "python3"
  },
  "language_info": {
   "codemirror_mode": {
    "name": "ipython",
    "version": 3
   },
   "file_extension": ".py",
   "mimetype": "text/x-python",
   "name": "python",
   "nbconvert_exporter": "python",
   "pygments_lexer": "ipython3",
   "version": "3.8.8"
  }
 },
 "nbformat": 4,
 "nbformat_minor": 5
}
