{
 "cells": [
  {
   "cell_type": "markdown",
   "id": "26a30d8c",
   "metadata": {},
   "source": [
    "문제 풀이 : https://raspy-turnip-f8d.notion.site/1300-K-3912d1cec275444e94fc23ae4b068289"
   ]
  },
  {
   "cell_type": "code",
   "execution_count": null,
   "id": "2d3b79f2",
   "metadata": {},
   "outputs": [],
   "source": [
    "# K번째 수\n",
    "# 배열 A : 크기가 NxN인 2차원 배열 (인덱스가 1부터 시작한다)\n",
    "# 배열 B : 크기가 NxN인 1차원 배열 (인덱스가 1부터 시작한다)\n",
    "\n",
    "import sys\n",
    "n = int(sys.stdin.readline())\n",
    "# 1 <= n <= 10^5 (자연수)\n",
    "\n",
    "k = int(sys.stdin.readline())\n",
    "# 1 <= k <= min(10^9, N^2)\n",
    "\n",
    "start = 0\n",
    "end = k  # k번째 수는 k를 넘을 수 없다.\n",
    "\n",
    "answer = 0\n",
    "while start <= end:\n",
    "    mid = (start+end) // 2\n",
    "\n",
    "    count = 0\n",
    "    for i in range(1, n+1):\n",
    "        count += min(mid//i, n)  # mid//i가 N보다 클 수도 있으므로 위와 같이 설정\n",
    "\n",
    "    if count >= k:  # 값이 같을 때 최솟값을 찾아야 한다.\n",
    "        answer = mid\n",
    "        end = mid - 1\n",
    "    else:\n",
    "        start = mid + 1\n",
    "\n",
    "print(answer)"
   ]
  }
 ],
 "metadata": {
  "kernelspec": {
   "display_name": "Python 3",
   "language": "python",
   "name": "python3"
  },
  "language_info": {
   "codemirror_mode": {
    "name": "ipython",
    "version": 3
   },
   "file_extension": ".py",
   "mimetype": "text/x-python",
   "name": "python",
   "nbconvert_exporter": "python",
   "pygments_lexer": "ipython3",
   "version": "3.8.8"
  }
 },
 "nbformat": 4,
 "nbformat_minor": 5
}
