{
 "cells": [
  {
   "cell_type": "markdown",
   "id": "c1444f4b",
   "metadata": {},
   "source": [
    "### stack에 idx를 넣어서 따져주는 문제라서 굉장히 특이하다.\n",
    "### 오른쪽의 숫자들 중 가장 왼쪽의 자기자신 보다 큰 수를 찾는다.\n",
    "### 이 속성 때문에 가능한 풀이법 이다"
   ]
  },
  {
   "cell_type": "markdown",
   "id": "477195dd",
   "metadata": {},
   "source": [
    "문제 풀이 : https://raspy-turnip-f8d.notion.site/17298-eb2f1d44e40a40d2b8d73085503bad6c"
   ]
  },
  {
   "cell_type": "code",
   "execution_count": null,
   "id": "880e9605",
   "metadata": {},
   "outputs": [],
   "source": [
    "import sys\n",
    "n = int(sys.stdin.readline())\n",
    "# 1 <= N <= 1,000,000\n",
    "# 시간 복잡도 필히 고려\n",
    "\n",
    "nums = list(map(int, sys.stdin.readline().split()))\n",
    "\n",
    "stack = []\n",
    "result = [-1] * n  # 오큰수가 없는 경우 -1을 출력하므로, 미리 -1로 초기화시켜둔다.\n",
    "\n",
    "# 첫 인덱스인 0을 스택에 미리 대입한다.\n",
    "stack.append(0)\n",
    "\n",
    "for idx in range(1, n):\n",
    "    while stack and nums[stack[-1]] < nums[idx]:  # 앞에서 놓쳤던 stack(idx)도 고려해준다.\n",
    "        result[stack.pop()] = nums[idx]\n",
    "\n",
    "    stack.append(idx)  # 인덱스를 새롭게 대입해준다.\n",
    "print(*result)"
   ]
  }
 ],
 "metadata": {
  "kernelspec": {
   "display_name": "Python 3",
   "language": "python",
   "name": "python3"
  },
  "language_info": {
   "codemirror_mode": {
    "name": "ipython",
    "version": 3
   },
   "file_extension": ".py",
   "mimetype": "text/x-python",
   "name": "python",
   "nbconvert_exporter": "python",
   "pygments_lexer": "ipython3",
   "version": "3.8.8"
  }
 },
 "nbformat": 4,
 "nbformat_minor": 5
}
