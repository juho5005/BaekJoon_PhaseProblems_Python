{
 "cells": [
  {
   "cell_type": "markdown",
   "id": "70b0c67d",
   "metadata": {},
   "source": [
    "문자열에 포함되는 괄호는 \"소괄호()\", \"대괄호[]\"\n",
    "\n",
    "1) 왼쪽 소괄호는 오른쪽 소괄호와 짝을 이뤄야 한다.\n",
    "2) 왼쪽 대괄호는 오른쪽 대괄호와 짝을 이뤄야 한다.\n",
    "3) 모든 오른쪽 괄호들은 자신과 짝을 이룰 수 있는 왼쪽 괄호가 존재한다.\n",
    "4) 모든 괄호들의 짝은 1:1 매칭만 가능하다.\n",
    "5) 짝을 이루는 두 괄호가 있을 때, 그 사이에 있는 문자열도 균형이 잡혀 있어야 한다.\n",
    "\n",
    "균형잡힌 문자열인지 아닌지 판단하시오."
   ]
  },
  {
   "cell_type": "markdown",
   "id": "63d5e6f5",
   "metadata": {},
   "source": [
    "문제 풀이 : https://raspy-turnip-f8d.notion.site/4949-bf136ddd90224b19936bb8443db701b7"
   ]
  },
  {
   "cell_type": "code",
   "execution_count": null,
   "id": "96b86f28",
   "metadata": {},
   "outputs": [],
   "source": [
    "import sys\n",
    "while 1:\n",
    "    s = sys.stdin.readline().rstrip()\n",
    "\n",
    "    if s == '.':\n",
    "        break  # 종료 조건\n",
    "\n",
    "    # 스택 생성, 후에 체크를 해봐야하는가 boolean 생성\n",
    "    stack = []\n",
    "    checking = True\n",
    "\n",
    "    for elem in s:\n",
    "        if elem == '(' or elem == '[':\n",
    "            stack.append(elem)\n",
    "\n",
    "        elif elem == ')':\n",
    "            if len(stack) != 0 and stack[-1] == '(':\n",
    "                stack.pop()\n",
    "            else:\n",
    "                print(\"no\")\n",
    "                checking = False\n",
    "                break\n",
    "\n",
    "        elif elem == ']':\n",
    "            if len(stack) != 0 and stack[-1] == '[':\n",
    "                stack.pop()\n",
    "            else:\n",
    "                print(\"no\")\n",
    "                checking = False\n",
    "                break\n",
    "\n",
    "    if checking:\n",
    "        if len(stack) == 0:\n",
    "            print(\"yes\")\n",
    "        else:\n",
    "            print(\"no\")"
   ]
  }
 ],
 "metadata": {
  "kernelspec": {
   "display_name": "Python 3",
   "language": "python",
   "name": "python3"
  },
  "language_info": {
   "codemirror_mode": {
    "name": "ipython",
    "version": 3
   },
   "file_extension": ".py",
   "mimetype": "text/x-python",
   "name": "python",
   "nbconvert_exporter": "python",
   "pygments_lexer": "ipython3",
   "version": "3.8.8"
  }
 },
 "nbformat": 4,
 "nbformat_minor": 5
}
