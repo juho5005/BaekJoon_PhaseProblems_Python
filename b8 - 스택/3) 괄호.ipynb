{
 "cells": [
  {
   "cell_type": "markdown",
   "id": "438b6bf1",
   "metadata": {},
   "source": [
    "문제 풀이 : https://raspy-turnip-f8d.notion.site/9012-d7c1d42f0b1341eca8db0cd5fd7383b8"
   ]
  },
  {
   "cell_type": "markdown",
   "id": "0d6b7d1b",
   "metadata": {},
   "source": [
    "### 1) stack = [ ] 리스트를 매번 만들어서 푸는 방식"
   ]
  },
  {
   "cell_type": "code",
   "execution_count": null,
   "id": "de565a05",
   "metadata": {},
   "outputs": [],
   "source": [
    "# 괄호 문자열 (Parenthesis String, Ps)\n",
    "# '(', ')'\n",
    "\n",
    "# VPS (Valid Parenthesis String)인지 아닌지 판단\n",
    "# YES, NO 로 출력\n",
    "\n",
    "import sys\n",
    "t = int(sys.stdin.readline())\n",
    "\n",
    "for _ in range(t):\n",
    "    checking = True\n",
    "    stack = []\n",
    "    p = sys.stdin.readline().rstrip()\n",
    "\n",
    "    for elem in p:\n",
    "        if elem == '(':\n",
    "            stack.append(elem)\n",
    "        else:\n",
    "            if not stack:\n",
    "                print(\"NO\")\n",
    "                checking = False\n",
    "                break\n",
    "            stack.pop()\n",
    "\n",
    "    if checking:\n",
    "        if stack:\n",
    "            print(\"NO\")\n",
    "        else:\n",
    "            print(\"YES\")"
   ]
  },
  {
   "cell_type": "markdown",
   "id": "0599dd62",
   "metadata": {},
   "source": [
    "### 2) num = 0 을 설정하여 메모리 사용을 줄이는 방식"
   ]
  },
  {
   "cell_type": "code",
   "execution_count": null,
   "id": "992d3f3d",
   "metadata": {},
   "outputs": [],
   "source": [
    "# 괄호 문자열 (Parenthesis String, Ps)\n",
    "# '(', ')'\n",
    "\n",
    "# VPS (Valid Parenthesis String)인지 아닌지 판단\n",
    "# YES, NO 로 출력\n",
    "\n",
    "import sys\n",
    "t = int(sys.stdin.readline())\n",
    "\n",
    "for _ in range(t):\n",
    "    checking = True\n",
    "    num = 0\n",
    "    p = sys.stdin.readline().rstrip()\n",
    "\n",
    "    for elem in p:\n",
    "        if elem == '(':\n",
    "            num += 1\n",
    "        else:\n",
    "            if num == 0:\n",
    "                print(\"NO\")\n",
    "                checking = False\n",
    "                break\n",
    "            num -= 1\n",
    "\n",
    "    if checking:\n",
    "        if num != 0:\n",
    "            print(\"NO\")\n",
    "        else:\n",
    "            print(\"YES\")"
   ]
  }
 ],
 "metadata": {
  "kernelspec": {
   "display_name": "Python 3",
   "language": "python",
   "name": "python3"
  },
  "language_info": {
   "codemirror_mode": {
    "name": "ipython",
    "version": 3
   },
   "file_extension": ".py",
   "mimetype": "text/x-python",
   "name": "python",
   "nbconvert_exporter": "python",
   "pygments_lexer": "ipython3",
   "version": "3.8.8"
  }
 },
 "nbformat": 4,
 "nbformat_minor": 5
}
