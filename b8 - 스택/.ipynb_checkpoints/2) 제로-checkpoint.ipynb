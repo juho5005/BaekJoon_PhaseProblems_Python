{
 "cells": [
  {
   "cell_type": "code",
   "execution_count": null,
   "id": "660ff687",
   "metadata": {},
   "outputs": [],
   "source": [
    "import sys\n",
    "k = int(sys.stdin.readline())\n",
    "\n",
    "nums = [\n",
    "    int(sys.stdin.readline())\n",
    "    for _ in range(k)\n",
    "]\n",
    "\n",
    "stack = []\n",
    "for num in nums:\n",
    "    if num == 0:\n",
    "        stack.pop()\n",
    "    else:\n",
    "        stack.append(num)\n",
    "\n",
    "print(sum(stack))"
   ]
  }
 ],
 "metadata": {
  "kernelspec": {
   "display_name": "Python 3",
   "language": "python",
   "name": "python3"
  },
  "language_info": {
   "codemirror_mode": {
    "name": "ipython",
    "version": 3
   },
   "file_extension": ".py",
   "mimetype": "text/x-python",
   "name": "python",
   "nbconvert_exporter": "python",
   "pygments_lexer": "ipython3",
   "version": "3.8.8"
  }
 },
 "nbformat": 4,
 "nbformat_minor": 5
}
