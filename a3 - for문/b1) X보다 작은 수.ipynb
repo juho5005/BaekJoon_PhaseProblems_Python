{
 "cells": [
  {
   "cell_type": "markdown",
   "id": "7e11901a",
   "metadata": {},
   "source": [
    "# X보다 작은 수"
   ]
  },
  {
   "cell_type": "code",
   "execution_count": null,
   "id": "4afab41d",
   "metadata": {},
   "outputs": [],
   "source": [
    "import sys\n",
    "\n",
    "n,x = map(int, sys.stdin.readline().split())\n",
    "\n",
    "a = list(map(int, sys.stdin.readline().split())) \n",
    "\n",
    "for i in a :\n",
    "    if i < x :\n",
    "        print(i, end = ' ')"
   ]
  }
 ],
 "metadata": {
  "kernelspec": {
   "display_name": "Python 3",
   "language": "python",
   "name": "python3"
  },
  "language_info": {
   "codemirror_mode": {
    "name": "ipython",
    "version": 3
   },
   "file_extension": ".py",
   "mimetype": "text/x-python",
   "name": "python",
   "nbconvert_exporter": "python",
   "pygments_lexer": "ipython3",
   "version": "3.8.8"
  }
 },
 "nbformat": 4,
 "nbformat_minor": 5
}
