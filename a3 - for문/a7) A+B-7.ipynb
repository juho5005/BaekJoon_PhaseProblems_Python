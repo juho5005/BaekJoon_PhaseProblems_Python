{
 "cells": [
  {
   "cell_type": "markdown",
   "id": "b39017cb",
   "metadata": {},
   "source": [
    "# A + B - 7"
   ]
  },
  {
   "cell_type": "code",
   "execution_count": 2,
   "id": "ebf041bb",
   "metadata": {},
   "outputs": [
    {
     "name": "stdout",
     "output_type": "stream",
     "text": [
      "5\n",
      "1 1\n",
      "Case #1 : 2\n",
      "2 3\n",
      "Case #2 : 5\n",
      "3 4\n",
      "Case #3 : 7\n",
      "9 8\n",
      "Case #4 : 17\n",
      "5 2\n",
      "Case #5 : 7\n"
     ]
    }
   ],
   "source": [
    "t = int(input()) \n",
    "\n",
    "for _ in range(t) :\n",
    "    a,b = map(int, input().split())\n",
    "    \n",
    "    print(\"Case #{}: {}\".format(_+1,a+b))"
   ]
  },
  {
   "cell_type": "code",
   "execution_count": null,
   "id": "835490be",
   "metadata": {},
   "outputs": [],
   "source": []
  }
 ],
 "metadata": {
  "kernelspec": {
   "display_name": "Python 3",
   "language": "python",
   "name": "python3"
  },
  "language_info": {
   "codemirror_mode": {
    "name": "ipython",
    "version": 3
   },
   "file_extension": ".py",
   "mimetype": "text/x-python",
   "name": "python",
   "nbconvert_exporter": "python",
   "pygments_lexer": "ipython3",
   "version": "3.8.8"
  }
 },
 "nbformat": 4,
 "nbformat_minor": 5
}
