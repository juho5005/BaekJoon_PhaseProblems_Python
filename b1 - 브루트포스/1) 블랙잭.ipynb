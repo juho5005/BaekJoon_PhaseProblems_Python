{
 "cells": [
  {
   "cell_type": "markdown",
   "id": "8594cf2e",
   "metadata": {},
   "source": [
    "# 블랙잭"
   ]
  },
  {
   "cell_type": "markdown",
   "id": "a9b0ee66",
   "metadata": {},
   "source": [
    "각 카드에는 양의 정수가 써있음.\n",
    "N장의 카드를 숫자가 보이도록 놓고, 숫자 M을 외친다\n",
    "\n",
    "N개 중에서 3장의 카드를 고르기.\n",
    "플레이어가 고른 카드의 합은 M을 넘지않으면서 M에 최대한 가깝게 만들기.\n",
    "\n"
   ]
  },
  {
   "cell_type": "code",
   "execution_count": 1,
   "id": "4e08ac79",
   "metadata": {},
   "outputs": [
    {
     "name": "stdout",
     "output_type": "stream",
     "text": [
      "10 500\n",
      "93 181 245 214 315 36 185 138 216 295\n",
      "497\n"
     ]
    }
   ],
   "source": [
    "n,m = map(int, input().split()) # 카드의 개수 n, 딜러가 외칠 숫자 m\n",
    "\n",
    "cards = list(map(int, input().split()))\n",
    "\n",
    "results = []\n",
    "for i in range(n) :\n",
    "    for j in range(n) :\n",
    "        for k in range(n) :\n",
    "            if i==j or j==k or i==k : # 각각 1장의 카드이므로 같은 값의 카드 X\n",
    "                continue\n",
    "            else :\n",
    "                if cards[i] + cards[j] + cards[k] <= m :\n",
    "                    results.append(cards[i] + cards[j] + cards[k])\n",
    "\n",
    "# results 값들 중 가장 큰 값을 찾는 문제\n",
    "print(max(results))"
   ]
  },
  {
   "cell_type": "markdown",
   "id": "bee18f0c",
   "metadata": {},
   "source": [
    "시간 단축을 위해 조금 더 생각을 해줬을 때의 코드"
   ]
  },
  {
   "cell_type": "code",
   "execution_count": 2,
   "id": "b9c95f67",
   "metadata": {},
   "outputs": [
    {
     "name": "stdout",
     "output_type": "stream",
     "text": [
      "10 500\n",
      "93 181 245 214 315 36 185 138 216 295\n",
      "497\n"
     ]
    }
   ],
   "source": [
    "n,m = map(int, input().split()) # 카드의 개수 n, 딜러가 외칠 숫자 m\n",
    "\n",
    "cards = list(map(int, input().split()))\n",
    "\n",
    "results = []\n",
    "for i in range(n) :\n",
    "    for j in range(i+1, n) :\n",
    "        for k in range(j+1, n) :\n",
    "            if i==j or j==k or i==k : # 각각 1장의 카드이므로 같은 값의 카드 X\n",
    "                continue\n",
    "            else :\n",
    "                if cards[i] + cards[j] + cards[k] <= m :\n",
    "                    results.append(cards[i] + cards[j] + cards[k])\n",
    "\n",
    "# results 값들 중 가장 큰 값을 찾는 문제\n",
    "print(max(results))"
   ]
  }
 ],
 "metadata": {
  "kernelspec": {
   "display_name": "Python 3",
   "language": "python",
   "name": "python3"
  },
  "language_info": {
   "codemirror_mode": {
    "name": "ipython",
    "version": 3
   },
   "file_extension": ".py",
   "mimetype": "text/x-python",
   "name": "python",
   "nbconvert_exporter": "python",
   "pygments_lexer": "ipython3",
   "version": "3.8.8"
  }
 },
 "nbformat": 4,
 "nbformat_minor": 5
}
