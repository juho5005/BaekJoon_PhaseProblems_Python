{
 "cells": [
  {
   "cell_type": "markdown",
   "id": "6a2dace9",
   "metadata": {},
   "source": [
    "# 체스판 다시 칠하기"
   ]
  },
  {
   "cell_type": "markdown",
   "id": "1da105b0",
   "metadata": {},
   "source": [
    "https://www.notion.so/1018-4b7f75cfc4884c9595f90168cf0981a9\n",
    "\n",
    "노션에 정리해둠."
   ]
  },
  {
   "cell_type": "code",
   "execution_count": 5,
   "id": "b750d6bc",
   "metadata": {},
   "outputs": [
    {
     "name": "stdout",
     "output_type": "stream",
     "text": [
      "10 13\n",
      "BBBBBBBBWBWBW\n",
      "BBBBBBBBBWBWB\n",
      "BBBBBBBBWBWBW\n",
      "BBBBBBBBBWBWB\n",
      "BBBBBBBBWBWBW\n",
      "BBBBBBBBBWBWB\n",
      "BBBBBBBBWBWBW\n",
      "BBBBBBBBBWBWB\n",
      "WWWWWWWWWWBWB\n",
      "WWWWWWWWWWBWB\n",
      "12\n"
     ]
    }
   ],
   "source": [
    "n,m = map(int, input().split()) # N,M 입력 단) 8<= N,M <= 50\n",
    "\n",
    "board = [] # (n x m) 사각형에 'W', 'B'로 이루어진 칸을 채움\n",
    "for _ in range(n) :\n",
    "    board.append(input())\n",
    "\n",
    "result = [] # 결과값을 저장해줄 리스트 result 생성\n",
    "for i in range(n-7) :\n",
    "    for j in range(m-7) : # 만들 수 있는 칸의 개수만큼 반복문 설정\n",
    "        first_W = 0 # 왼쪽 맨위 칸이 'W'일때\n",
    "        first_B = 0 # 왼쪽 맨위 칸이 'B'일때\n",
    "        \n",
    "        for k in range(i, i+8) :\n",
    "            for l in range(j, j+8) : # 만들 수 있는 체스판의 인덱스를 하나하나 다 따져줌\n",
    "                \n",
    "                if (k+l) % 2 == 0 :\n",
    "                    if board[k][l] != 'W' :\n",
    "                        first_W += 1\n",
    "                    if board[k][l] != 'B' :\n",
    "                        first_B += 1\n",
    "                else :\n",
    "                    if board[k][l] != 'B' : \n",
    "                        first_W += 1\n",
    "                    if board[k][l] != 'W' :\n",
    "                        first_B += 1\n",
    "        result.append(first_W)\n",
    "        result.append(first_B)\n",
    "print(min(result))"
   ]
  }
 ],
 "metadata": {
  "kernelspec": {
   "display_name": "Python 3",
   "language": "python",
   "name": "python3"
  },
  "language_info": {
   "codemirror_mode": {
    "name": "ipython",
    "version": 3
   },
   "file_extension": ".py",
   "mimetype": "text/x-python",
   "name": "python",
   "nbconvert_exporter": "python",
   "pygments_lexer": "ipython3",
   "version": "3.8.8"
  }
 },
 "nbformat": 4,
 "nbformat_minor": 5
}
