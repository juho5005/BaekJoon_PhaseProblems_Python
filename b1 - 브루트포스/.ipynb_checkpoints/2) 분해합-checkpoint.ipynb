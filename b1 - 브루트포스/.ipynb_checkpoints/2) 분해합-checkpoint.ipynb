{
 "cells": [
  {
   "cell_type": "markdown",
   "id": "cc2c1e13",
   "metadata": {},
   "source": [
    "# 분해합"
   ]
  },
  {
   "cell_type": "markdown",
   "id": "9f0e71e4",
   "metadata": {},
   "source": [
    "어떤 자연수 M의 분해합(M + M의 각 자리수의 합)이 N인 경우,\n",
    "M은 N의 생성자.\n",
    "\n",
    "생성자는 없을 수도 있고, 하나일 수도 있고, 여러 개일 수도 있다.\n",
    "# 생성자가 없으면 0을 출력!"
   ]
  },
  {
   "cell_type": "code",
   "execution_count": 1,
   "id": "79eb7c3e",
   "metadata": {},
   "outputs": [
    {
     "name": "stdout",
     "output_type": "stream",
     "text": [
      "216\n",
      "198\n"
     ]
    }
   ],
   "source": [
    "n = int(input()) # 자연수 N 출력\n",
    "\n",
    "result = []\n",
    "\n",
    "for i in range(1,n+1) :\n",
    "    jarisu = 0\n",
    "    for j in str(i) :\n",
    "        jarisu += int(j)\n",
    "    if jarisu == n-i :\n",
    "        result.append(i)\n",
    "\n",
    "if len(result) == 0 :\n",
    "    print(0)\n",
    "else:\n",
    "    print(min(result))\n"
   ]
  },
  {
   "cell_type": "markdown",
   "id": "835a6454",
   "metadata": {},
   "source": [
    "jarisu를 list(map(int, str(i)))를 이용하여 쉽게 구하고 \n",
    "sum()함수를 사용하여 간략하게 구했다 \n",
    "원리는 같은데 좀 더 효율적인 코드이다"
   ]
  },
  {
   "cell_type": "code",
   "execution_count": 2,
   "id": "883fb2c2",
   "metadata": {},
   "outputs": [
    {
     "name": "stdout",
     "output_type": "stream",
     "text": [
      "216\n",
      "198\n"
     ]
    }
   ],
   "source": [
    "n = int(input()) \n",
    "\n",
    "result = 0\n",
    "for i in range(1, n+1) :\n",
    "    jarisu = list(map(int, str(i)))\n",
    "    s = i + sum(jarisu)\n",
    "    \n",
    "    if s == n : # 어차피 가장 작은 수를 찾는건데 작은 수 부터 따져주기 때문이다.\n",
    "        result = i\n",
    "        break\n",
    "print(result)"
   ]
  },
  {
   "cell_type": "code",
   "execution_count": 2,
   "id": "7390a213",
   "metadata": {},
   "outputs": [
    {
     "name": "stdout",
     "output_type": "stream",
     "text": [
      "45\n"
     ]
    }
   ],
   "source": [
    "a = 123456789\n",
    "\n",
    "print(sum(list(map(int, str(a)))))"
   ]
  }
 ],
 "metadata": {
  "kernelspec": {
   "display_name": "Python 3",
   "language": "python",
   "name": "python3"
  },
  "language_info": {
   "codemirror_mode": {
    "name": "ipython",
    "version": 3
   },
   "file_extension": ".py",
   "mimetype": "text/x-python",
   "name": "python",
   "nbconvert_exporter": "python",
   "pygments_lexer": "ipython3",
   "version": "3.8.8"
  }
 },
 "nbformat": 4,
 "nbformat_minor": 5
}
