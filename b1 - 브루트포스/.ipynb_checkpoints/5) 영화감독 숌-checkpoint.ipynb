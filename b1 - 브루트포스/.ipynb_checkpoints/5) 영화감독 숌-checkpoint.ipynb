{
 "cells": [
  {
   "cell_type": "markdown",
   "id": "7bbe5731",
   "metadata": {},
   "source": [
    "# 영화감독 숌"
   ]
  },
  {
   "cell_type": "markdown",
   "id": "b087a596",
   "metadata": {},
   "source": [
    "종말의 숫자 : 666\n",
    "숫자 N(N <= 10,000) 이 주어졌을 때, N번째 영화의 제목에 들어갈 수를 출력하기"
   ]
  },
  {
   "cell_type": "markdown",
   "id": "4e7475b7",
   "metadata": {},
   "source": [
    "n은 \n",
    "6이 3개이상 연속된 숫자의 개수중에 n번째 까지 세주는거잖아\n",
    "무한반복문을 돌려서 숫자를 하나씩 증가 시키자!\n",
    "6이 3개이상 들어간 숫자의 개수(count)세서 count == n 일떄의 수를 출력하면 될듯!!\n",
    "\n",
    "문제에 대한 이해와 푸는 방식은 알았는데 구현을 못햇슴.\n",
    "if '666' in str(num)에 대한 이해가 부족했다. 꾸준히 틀리고 있는거 같아서 이걸 좀 상기시키기."
   ]
  },
  {
   "cell_type": "code",
   "execution_count": 23,
   "id": "4633f650",
   "metadata": {},
   "outputs": [
    {
     "name": "stdout",
     "output_type": "stream",
     "text": [
      "10\n",
      "6663\n"
     ]
    }
   ],
   "source": [
    "n = int(input())\n",
    "\n",
    "disaster = '666'\n",
    "\n",
    "cnt = 0\n",
    "num = 1\n",
    "\n",
    "while True :\n",
    "    if disaster in str(num) :\n",
    "        cnt += 1\n",
    "    if cnt == n :\n",
    "        print(num)\n",
    "        break\n",
    "    num += 1\n"
   ]
  },
  {
   "cell_type": "code",
   "execution_count": null,
   "id": "131db8cb",
   "metadata": {},
   "outputs": [],
   "source": []
  }
 ],
 "metadata": {
  "kernelspec": {
   "display_name": "Python 3",
   "language": "python",
   "name": "python3"
  },
  "language_info": {
   "codemirror_mode": {
    "name": "ipython",
    "version": 3
   },
   "file_extension": ".py",
   "mimetype": "text/x-python",
   "name": "python",
   "nbconvert_exporter": "python",
   "pygments_lexer": "ipython3",
   "version": "3.8.8"
  }
 },
 "nbformat": 4,
 "nbformat_minor": 5
}
