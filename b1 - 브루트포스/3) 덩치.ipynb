{
 "cells": [
  {
   "cell_type": "markdown",
   "id": "18bceb83",
   "metadata": {},
   "source": [
    "# 덩치"
   ]
  },
  {
   "cell_type": "markdown",
   "id": "67d9292c",
   "metadata": {},
   "source": [
    "사람의 덩치를 키, 몸무게 2개로 표현해서 등수를 매긴다.\n",
    "\n",
    "\n",
    "\n",
    "입력) \n",
    "전체 사람의 수 N 입력 \n",
    "N개의 줄에는 각 사람의 몸무게,키를 나타내는 x,y입력 (공백 기준)\n",
    "\n",
    "출력)\n",
    "나열된 사람의 덩치 등수를 구해서 순서대로 첫 줄에 입력 (공백 기준)"
   ]
  },
  {
   "cell_type": "code",
   "execution_count": 4,
   "id": "121962e6",
   "metadata": {},
   "outputs": [
    {
     "name": "stdout",
     "output_type": "stream",
     "text": [
      "5\n",
      "55 185\n",
      "58 183\n",
      "88 186\n",
      "60 175\n",
      "46 155\n",
      "2 2 1 2 5 "
     ]
    }
   ],
   "source": [
    "n = int(input())\n",
    "\n",
    "w = [] # 몸무게\n",
    "h = [] # 키\n",
    "for _ in range(n) :\n",
    "    x = list(map(int, input().split()))\n",
    "    w.append(x[0])\n",
    "    h.append(x[1])\n",
    "\n",
    "seq = []\n",
    "for i in range(n) :\n",
    "    k = 0\n",
    "    for j in range (n) :\n",
    "        if j == i :\n",
    "            continue\n",
    "        if w[i] < w[j] and h[i] < h[j] :\n",
    "                k += 1\n",
    "    seq.append(k+1)\n",
    "    \n",
    "\n",
    "for i in range(n) :\n",
    "    print(seq[i], end =' ')\n",
    "    "
   ]
  },
  {
   "cell_type": "markdown",
   "id": "4955e0b4",
   "metadata": {},
   "source": [
    "문제를 푸는 원리와 방식은 같은데\n",
    "좀 더 간단하게 풀 수 있다.\n",
    "이런 실력을 키우자!"
   ]
  },
  {
   "cell_type": "code",
   "execution_count": 5,
   "id": "c3a0788e",
   "metadata": {},
   "outputs": [
    {
     "name": "stdout",
     "output_type": "stream",
     "text": [
      "5\n",
      "55 185\n",
      "58 183\n",
      "88 186\n",
      "60 175\n",
      "46 155\n",
      "2 2 1 2 5 "
     ]
    }
   ],
   "source": [
    "n = int(input())\n",
    "student_list = []\n",
    "\n",
    "for _ in range(n) :\n",
    "    w, h = map(int, input().split())\n",
    "    student_list.append((w, h))\n",
    "\n",
    "for i in student_list :\n",
    "    rank = 1\n",
    "    for j in student_list :\n",
    "        if i[0] < j[0] and i[1] < j[1] :\n",
    "            rank += 1\n",
    "    print(rank, end = ' ')"
   ]
  },
  {
   "cell_type": "markdown",
   "id": "eceebbe8",
   "metadata": {},
   "source": [
    "답지의 방식과 내 방식을 합쳐서 풀었슴"
   ]
  },
  {
   "cell_type": "code",
   "execution_count": 2,
   "id": "1d369701",
   "metadata": {},
   "outputs": [
    {
     "name": "stdout",
     "output_type": "stream",
     "text": [
      "5\n",
      "55 185\n",
      "58 183\n",
      "88 186\n",
      "60 175\n",
      "46 155\n",
      "2 2 1 2 5 "
     ]
    }
   ],
   "source": [
    "n = int(input())\n",
    "\n",
    "people = []\n",
    "for _ in range(n) :\n",
    "    w,h = list(map(int, input().split()))\n",
    "    people.append((w,h)) # 두개 이상의 변수를 append 할 때는 ()를 한번 더 써줘야 한다.\n",
    "\n",
    "for i in range(len(people)) :\n",
    "    rank = 1\n",
    "    for j in range(len(people)) :\n",
    "        if i == j :\n",
    "            continue\n",
    "        else :\n",
    "            if people[i][0] < people[j][0] and people[i][1] < people[j][1] :\n",
    "                    rank += 1\n",
    "    print(rank, end = ' ')\n",
    "    "
   ]
  },
  {
   "cell_type": "code",
   "execution_count": null,
   "id": "bd208422",
   "metadata": {},
   "outputs": [],
   "source": []
  }
 ],
 "metadata": {
  "kernelspec": {
   "display_name": "Python 3",
   "language": "python",
   "name": "python3"
  },
  "language_info": {
   "codemirror_mode": {
    "name": "ipython",
    "version": 3
   },
   "file_extension": ".py",
   "mimetype": "text/x-python",
   "name": "python",
   "nbconvert_exporter": "python",
   "pygments_lexer": "ipython3",
   "version": "3.8.8"
  }
 },
 "nbformat": 4,
 "nbformat_minor": 5
}
