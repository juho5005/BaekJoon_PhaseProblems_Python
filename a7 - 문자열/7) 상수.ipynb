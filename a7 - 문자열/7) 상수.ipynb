{
 "cells": [
  {
   "cell_type": "markdown",
   "id": "07748132",
   "metadata": {},
   "source": [
    "# 상수"
   ]
  },
  {
   "cell_type": "markdown",
   "id": "de6b8256",
   "metadata": {},
   "source": [
    "상수는 수를 거꾸로 읽음.\n",
    "거꾸로 읽었을때의 대소 비교를 출력하시오"
   ]
  },
  {
   "cell_type": "markdown",
   "id": "4f7ac523",
   "metadata": {},
   "source": [
    "1) 문자열로 a,b를 입력받고, extended_slice로 거꾸로 만들어 정수화 시켜서 비교"
   ]
  },
  {
   "cell_type": "code",
   "execution_count": 2,
   "id": "ef7c6923",
   "metadata": {},
   "outputs": [
    {
     "name": "stdout",
     "output_type": "stream",
     "text": [
      "734 893\n",
      "437\n"
     ]
    }
   ],
   "source": [
    "a,b = input().split()\n",
    "\n",
    "a_rev = int(a[::-1])\n",
    "b_rev = int(b[::-1])\n",
    "\n",
    "if a_rev > b_rev : \n",
    "    print(a_rev)\n",
    "else :\n",
    "    print(b_rev)"
   ]
  },
  {
   "cell_type": "markdown",
   "id": "0d2d1dc8",
   "metadata": {},
   "source": [
    "2) 리스트로 입력받아 reverse, join 함수 사용하기"
   ]
  },
  {
   "cell_type": "code",
   "execution_count": 14,
   "id": "9b105155",
   "metadata": {},
   "outputs": [
    {
     "name": "stdout",
     "output_type": "stream",
     "text": [
      "221 231\n",
      "132\n"
     ]
    }
   ],
   "source": [
    "a,b = input().split()\n",
    "\n",
    "a = list(a)\n",
    "b = list(b)\n",
    "\n",
    "a.reverse()\n",
    "b.reverse()\n",
    "\n",
    "a_rev = \"\".join(a)\n",
    "b_rev = \"\".join(b)\n",
    "\n",
    "if a_rev > b_rev : \n",
    "    print(a_rev)\n",
    "else :\n",
    "    print(b_rev)"
   ]
  },
  {
   "cell_type": "code",
   "execution_count": null,
   "id": "15f2b68f",
   "metadata": {},
   "outputs": [],
   "source": []
  }
 ],
 "metadata": {
  "kernelspec": {
   "display_name": "Python 3",
   "language": "python",
   "name": "python3"
  },
  "language_info": {
   "codemirror_mode": {
    "name": "ipython",
    "version": 3
   },
   "file_extension": ".py",
   "mimetype": "text/x-python",
   "name": "python",
   "nbconvert_exporter": "python",
   "pygments_lexer": "ipython3",
   "version": "3.8.8"
  }
 },
 "nbformat": 4,
 "nbformat_minor": 5
}
