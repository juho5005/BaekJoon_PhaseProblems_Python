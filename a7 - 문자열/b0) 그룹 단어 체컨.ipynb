{
 "cells": [
  {
   "cell_type": "markdown",
   "id": "529ca001",
   "metadata": {},
   "source": [
    "# 그룹 단어 체커"
   ]
  },
  {
   "cell_type": "markdown",
   "id": "1f5aabc1",
   "metadata": {},
   "source": [
    "그룹 단어 : 단어에 존재하는 모든 문자에 대해서, 각 문자가 연속해서 나타나는 경우를 말한다.\n",
    "\n",
    "앞에서 나왔던 단어가 뒤에서 또나오면 그건 그룹단어가 아니라고 볼 수 있다."
   ]
  },
  {
   "cell_type": "markdown",
   "id": "59fa4ed0",
   "metadata": {},
   "source": [
    "1) i, i+1 즉 바로 옆의 알파벳이 다를때, i+2 이상의 인덱스에서 i의 알파벳과 같은 것이 있나 비교해보는 방식"
   ]
  },
  {
   "cell_type": "code",
   "execution_count": 2,
   "id": "5784b1d4",
   "metadata": {},
   "outputs": [
    {
     "name": "stdout",
     "output_type": "stream",
     "text": [
      "1\n",
      "z\n",
      "1\n"
     ]
    }
   ],
   "source": [
    "n = int(input()) # 단어의 개수 N개\n",
    "\n",
    "cnt = n\n",
    "for _ in range(n) :\n",
    "    word = input()\n",
    "    \n",
    "    for i in range(len(word) - 1) : # word[i], word[i+1] 을 비교할거기 때문이다.\n",
    "        if word[i] != word[i+1] :\n",
    "            if word[i] in word[i+2 : ] : # 같은 단어가 있다면 그룹단어가 아니다.\n",
    "                cnt -= 1\n",
    "                break # break문이란 하나의 for문을 탈출하는 것이다.\n",
    "\n",
    "print(cnt)"
   ]
  },
  {
   "cell_type": "markdown",
   "id": "9074b213",
   "metadata": {},
   "source": [
    "2) 문자열함수인 find를 사용하는 방식\n",
    "\n",
    "find함수는 따로 값을 지정해주지 않으면 첫 번째 위치를 알려준다.\n",
    "만약 값이 안에 없으면 -1을 반환해준다."
   ]
  },
  {
   "cell_type": "code",
   "execution_count": 3,
   "id": "16199096",
   "metadata": {},
   "outputs": [
    {
     "name": "stdout",
     "output_type": "stream",
     "text": [
      "3\n",
      "happy\n",
      "new\n",
      "year\n",
      "3\n"
     ]
    }
   ],
   "source": [
    "n = int(input())\n",
    "\n",
    "cnt = n\n",
    "for _ in range(n) :\n",
    "    word = input()\n",
    "    \n",
    "    for i in range(len(word) - 1) :\n",
    "        if word.find(word[i]) > word.find(word[i+1]) : # index함수도 괜찮다.\n",
    "            cnt -= 1\n",
    "            break\n",
    "print(cnt)"
   ]
  }
 ],
 "metadata": {
  "kernelspec": {
   "display_name": "Python 3",
   "language": "python",
   "name": "python3"
  },
  "language_info": {
   "codemirror_mode": {
    "name": "ipython",
    "version": 3
   },
   "file_extension": ".py",
   "mimetype": "text/x-python",
   "name": "python",
   "nbconvert_exporter": "python",
   "pygments_lexer": "ipython3",
   "version": "3.8.8"
  }
 },
 "nbformat": 4,
 "nbformat_minor": 5
}
