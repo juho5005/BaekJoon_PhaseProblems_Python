{
 "cells": [
  {
   "cell_type": "markdown",
   "id": "e9e2597a",
   "metadata": {},
   "source": [
    "# 단어의 개수"
   ]
  },
  {
   "cell_type": "markdown",
   "id": "b8666fb4",
   "metadata": {},
   "source": [
    "영어 대소문자와 공백으로 이루어진 문자열 입력\n",
    "이 문자열에는 몇 개의 단어가 있을까?의 고찰\n",
    "\n",
    "한 단어가 여러번 등장하면 등장한 횟수만큼 모두 세줘야 한다.\n",
    "\n",
    "단어 => 공백 한 개로 구분하며, 공백이 연속해서 나오는 경우는 없다.\n",
    "        문자열은 공백으로 시작하거나, 끝날 수 있다."
   ]
  },
  {
   "cell_type": "code",
   "execution_count": 10,
   "id": "ced77e38",
   "metadata": {},
   "outputs": [
    {
     "name": "stdout",
     "output_type": "stream",
     "text": [
      " The first character is a blank\n",
      "6\n"
     ]
    }
   ],
   "source": [
    "s = input().split() # 영어 대소문자와 공백으로 이루어진 문자열 입력\n",
    "\n",
    "print(len(s))"
   ]
  }
 ],
 "metadata": {
  "kernelspec": {
   "display_name": "Python 3",
   "language": "python",
   "name": "python3"
  },
  "language_info": {
   "codemirror_mode": {
    "name": "ipython",
    "version": 3
   },
   "file_extension": ".py",
   "mimetype": "text/x-python",
   "name": "python",
   "nbconvert_exporter": "python",
   "pygments_lexer": "ipython3",
   "version": "3.8.8"
  }
 },
 "nbformat": 4,
 "nbformat_minor": 5
}
