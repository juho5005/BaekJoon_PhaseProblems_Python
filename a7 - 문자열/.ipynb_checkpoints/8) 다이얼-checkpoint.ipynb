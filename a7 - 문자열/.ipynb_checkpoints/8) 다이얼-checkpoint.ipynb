{
 "cells": [
  {
   "cell_type": "markdown",
   "id": "d8acbf1b",
   "metadata": {},
   "source": [
    "# 다이얼"
   ]
  },
  {
   "cell_type": "markdown",
   "id": "830cd05a",
   "metadata": {},
   "source": [
    "숫자 1 : 2초\n",
    "숫자 2 : 3초\n",
    ".\n",
    ".\n",
    ".\n",
    "\n",
    "숫자 9 : 10초\n",
    "숫자 0 : 11초\n"
   ]
  },
  {
   "cell_type": "code",
   "execution_count": 4,
   "id": "a9041964",
   "metadata": {},
   "outputs": [
    {
     "name": "stdout",
     "output_type": "stream",
     "text": [
      "UNUCIC\n",
      "36\n"
     ]
    }
   ],
   "source": [
    "alps = [\"ABC\", \"DEF\", \"GHI\", \"JKL\", \"MNO\", \"PQRS\", \"TUV\", \"WXYZ\"]\n",
    "\n",
    "word = input() #알파벳 대문자로 이루어진 단어 입력\n",
    "\n",
    "result = 0\n",
    "for i in word : \n",
    "    for j in range(len(alps)) : \n",
    "        if i in alps[j] :\n",
    "            result = result + j+3\n",
    "print(result)"
   ]
  },
  {
   "cell_type": "markdown",
   "id": "a82bc106",
   "metadata": {},
   "source": [
    "반복문을 좀 다르게 썻을때 index를 사용하기."
   ]
  },
  {
   "cell_type": "code",
   "execution_count": 8,
   "id": "c7c074c3",
   "metadata": {},
   "outputs": [
    {
     "name": "stdout",
     "output_type": "stream",
     "text": [
      "UNUCIC\n",
      "36\n"
     ]
    }
   ],
   "source": [
    "alps = [\"ABC\", \"DEF\", \"GHI\", \"JKL\", \"MNO\", \"PQRS\", \"TUV\", \"WXYZ\"]\n",
    "\n",
    "word = input() #알파벳 대문자로 이루어진 단어 입력\n",
    "\n",
    "result = 0\n",
    "for i in word : \n",
    "    for j in alps :\n",
    "        if i in j :\n",
    "            result += alps.index(j) + 3\n",
    "print(result)"
   ]
  },
  {
   "cell_type": "code",
   "execution_count": null,
   "id": "84504853",
   "metadata": {},
   "outputs": [],
   "source": []
  }
 ],
 "metadata": {
  "kernelspec": {
   "display_name": "Python 3",
   "language": "python",
   "name": "python3"
  },
  "language_info": {
   "codemirror_mode": {
    "name": "ipython",
    "version": 3
   },
   "file_extension": ".py",
   "mimetype": "text/x-python",
   "name": "python",
   "nbconvert_exporter": "python",
   "pygments_lexer": "ipython3",
   "version": "3.8.8"
  }
 },
 "nbformat": 4,
 "nbformat_minor": 5
}
