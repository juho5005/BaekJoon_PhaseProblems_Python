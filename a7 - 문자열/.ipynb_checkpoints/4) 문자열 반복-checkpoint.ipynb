{
 "cells": [
  {
   "cell_type": "markdown",
   "id": "4a167fa4",
   "metadata": {},
   "source": [
    "# 문자열 반복"
   ]
  },
  {
   "cell_type": "markdown",
   "id": "c64bd96f",
   "metadata": {},
   "source": [
    "문자열 S를 입력받은 후, 각 문자를 R번 반복해 새 문자열 P를 만든 후 출력하는 프로그램\n",
    "\n",
    "첫 번째 문자를 R번 반복하고, 두 번째 문자를 R번 반복하는 식으로 P를 만들면 된다."
   ]
  },
  {
   "cell_type": "code",
   "execution_count": 4,
   "id": "3daa4c9b",
   "metadata": {},
   "outputs": [
    {
     "name": "stdout",
     "output_type": "stream",
     "text": [
      "2\n",
      "3 ABC\n",
      "AAABBBCCC\n",
      "5 /HTP\n",
      "/////HHHHHTTTTTPPPPP\n"
     ]
    }
   ],
   "source": [
    "t = int(input()) # 테스트 케이스의 개수 \n",
    "\n",
    "for _ in range(t) :\n",
    "    r, s = input().split() # 공백으로 구분되어 출력\n",
    "    \n",
    "    r = int(r) # r(반복횟수)은 정수형으로 변경\n",
    "    \n",
    "    for i in s :\n",
    "        print(i * r, end = '')\n",
    "    print() # 5 /HTP를 출력하는 부분을 위해서 작성 안그러면 AAABBBCCC옆에 입력받게 됨\n",
    "    \n",
    "\n"
   ]
  },
  {
   "cell_type": "code",
   "execution_count": null,
   "id": "f8dcaaa1",
   "metadata": {},
   "outputs": [],
   "source": []
  }
 ],
 "metadata": {
  "kernelspec": {
   "display_name": "Python 3",
   "language": "python",
   "name": "python3"
  },
  "language_info": {
   "codemirror_mode": {
    "name": "ipython",
    "version": 3
   },
   "file_extension": ".py",
   "mimetype": "text/x-python",
   "name": "python",
   "nbconvert_exporter": "python",
   "pygments_lexer": "ipython3",
   "version": "3.8.8"
  }
 },
 "nbformat": 4,
 "nbformat_minor": 5
}
