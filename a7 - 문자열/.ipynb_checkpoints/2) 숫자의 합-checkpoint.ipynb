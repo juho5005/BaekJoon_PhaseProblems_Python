{
 "cells": [
  {
   "cell_type": "markdown",
   "id": "9b8f98c9",
   "metadata": {},
   "source": [
    "# 숫자의 합"
   ]
  },
  {
   "cell_type": "code",
   "execution_count": 5,
   "id": "f123d8fc",
   "metadata": {},
   "outputs": [
    {
     "name": "stdout",
     "output_type": "stream",
     "text": [
      "5\n",
      "54321\n",
      "15\n"
     ]
    }
   ],
   "source": [
    "n = int(input()) # 숫자의 개수\n",
    "\n",
    "nums = input()\n",
    "\n",
    "# 각 자리의 수를 더하는 방식\n",
    "\n",
    "result = 0\n",
    "for i in nums :\n",
    "    result += int(i)\n",
    "print(result)"
   ]
  },
  {
   "cell_type": "markdown",
   "id": "6c6b0e19",
   "metadata": {},
   "source": [
    "위의 각 자리의 수를 더하는 방식을 더 간단히 하는 방식"
   ]
  },
  {
   "cell_type": "code",
   "execution_count": 6,
   "id": "7ab492a7",
   "metadata": {},
   "outputs": [
    {
     "name": "stdout",
     "output_type": "stream",
     "text": [
      "5\n",
      "54321\n",
      "15\n"
     ]
    }
   ],
   "source": [
    "n = int(input())\n",
    "\n",
    "nums = input()\n",
    "\n",
    "print(sum(list(map(int, nums))))"
   ]
  },
  {
   "cell_type": "code",
   "execution_count": null,
   "id": "2a86b6e1",
   "metadata": {},
   "outputs": [],
   "source": []
  }
 ],
 "metadata": {
  "kernelspec": {
   "display_name": "Python 3",
   "language": "python",
   "name": "python3"
  },
  "language_info": {
   "codemirror_mode": {
    "name": "ipython",
    "version": 3
   },
   "file_extension": ".py",
   "mimetype": "text/x-python",
   "name": "python",
   "nbconvert_exporter": "python",
   "pygments_lexer": "ipython3",
   "version": "3.8.8"
  }
 },
 "nbformat": 4,
 "nbformat_minor": 5
}
