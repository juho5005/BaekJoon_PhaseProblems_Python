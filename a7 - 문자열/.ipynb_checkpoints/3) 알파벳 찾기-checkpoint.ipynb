{
 "cells": [
  {
   "cell_type": "markdown",
   "id": "d8ec6346",
   "metadata": {},
   "source": [
    "# 알파벳 찾기"
   ]
  },
  {
   "cell_type": "markdown",
   "id": "a18a4f4e",
   "metadata": {},
   "source": [
    "각각의 알파벳에 대해서 단어에 포함되어있으면 처음등장하는 위치를, 없으면 -1을 출력"
   ]
  },
  {
   "cell_type": "code",
   "execution_count": 4,
   "id": "b0b77341",
   "metadata": {},
   "outputs": [
    {
     "name": "stdout",
     "output_type": "stream",
     "text": [
      "baekjoon\n",
      "1 0 -1 -1 2 -1 -1 -1 -1 4 3 -1 -1 7 5 -1 -1 -1 -1 -1 -1 -1 -1 -1 -1 -1 -1 "
     ]
    }
   ],
   "source": [
    "s = input() # 알파벳 소문자로 이루어진 단어 S\n",
    "\n",
    "for i in range(97, 123) :\n",
    "    print(s.find(chr(i)), end = ' ')"
   ]
  },
  {
   "cell_type": "code",
   "execution_count": null,
   "id": "79472d5a",
   "metadata": {},
   "outputs": [],
   "source": []
  }
 ],
 "metadata": {
  "kernelspec": {
   "display_name": "Python 3",
   "language": "python",
   "name": "python3"
  },
  "language_info": {
   "codemirror_mode": {
    "name": "ipython",
    "version": 3
   },
   "file_extension": ".py",
   "mimetype": "text/x-python",
   "name": "python",
   "nbconvert_exporter": "python",
   "pygments_lexer": "ipython3",
   "version": "3.8.8"
  }
 },
 "nbformat": 4,
 "nbformat_minor": 5
}
