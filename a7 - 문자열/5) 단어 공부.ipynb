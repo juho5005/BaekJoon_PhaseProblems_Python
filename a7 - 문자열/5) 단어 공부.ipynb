{
 "cells": [
  {
   "cell_type": "markdown",
   "id": "66397a13",
   "metadata": {},
   "source": [
    "# 단어 공부"
   ]
  },
  {
   "cell_type": "markdown",
   "id": "6df848b9",
   "metadata": {},
   "source": [
    "알파벳 대소문자로 된 단어가 주어지면 이 단어에서 가장 많이 사용된 알파벳이 무엇인지\n",
    "알아내는 프로그램을 작성하시오. 단) 대문자와 소문자를 구분 X\n",
    "\n",
    "\n",
    "출력) \n",
    "가장 많이 사용된 알파벳을 대문자로 출력\n",
    "단) 가장 많이 사용된 알파벳이 여러개 존재하는 경우는 ?를 출력한다."
   ]
  },
  {
   "cell_type": "code",
   "execution_count": 17,
   "id": "a9afac76",
   "metadata": {},
   "outputs": [
    {
     "name": "stdout",
     "output_type": "stream",
     "text": [
      "baaa\n",
      "A\n"
     ]
    }
   ],
   "source": [
    "word = input() # 알파벳 대소문자로 이루어진 단어 입력\n",
    "\n",
    "up_word = word.upper() # 입력받은 단어를 모두 대문자로 변경\n",
    "\n",
    "result = []\n",
    "up_alps = []\n",
    "for i in range(ord('A'), ord('Z') + 1) : \n",
    "    result.append(up_word.count(chr(i)))\n",
    "    up_alps.append(chr(i))\n",
    "\n",
    "alp_max = max(result)\n",
    "\n",
    "cnt = 0\n",
    "seq = 0\n",
    "\n",
    "for i in range(len(result)) :\n",
    "    if result[i] == alp_max : \n",
    "        cnt += 1\n",
    "        seq = i\n",
    "        \n",
    "if cnt > 1 :\n",
    "    print('?')\n",
    "else :\n",
    "    print(up_alps[seq])"
   ]
  },
  {
   "cell_type": "code",
   "execution_count": 7,
   "id": "55f35b30",
   "metadata": {},
   "outputs": [
    {
     "name": "stdout",
     "output_type": "stream",
     "text": [
      "Mississipi\n",
      "Mississipi\n"
     ]
    }
   ],
   "source": []
  },
  {
   "cell_type": "code",
   "execution_count": null,
   "id": "565199dd",
   "metadata": {},
   "outputs": [],
   "source": []
  }
 ],
 "metadata": {
  "kernelspec": {
   "display_name": "Python 3",
   "language": "python",
   "name": "python3"
  },
  "language_info": {
   "codemirror_mode": {
    "name": "ipython",
    "version": 3
   },
   "file_extension": ".py",
   "mimetype": "text/x-python",
   "name": "python",
   "nbconvert_exporter": "python",
   "pygments_lexer": "ipython3",
   "version": "3.8.8"
  }
 },
 "nbformat": 4,
 "nbformat_minor": 5
}
