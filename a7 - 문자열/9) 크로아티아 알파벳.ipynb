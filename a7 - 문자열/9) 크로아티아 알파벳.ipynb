{
 "cells": [
  {
   "cell_type": "markdown",
   "id": "28f06b53",
   "metadata": {},
   "source": [
    "# 크로아티아 알파벳"
   ]
  },
  {
   "cell_type": "markdown",
   "id": "ce1ae55c",
   "metadata": {},
   "source": [
    "c^  => c=\n",
    "c'  => c-\n",
    "dz^ => dz=\n",
    "d'  => d-\n",
    "lj  => lj\n",
    "nj  => nj\n",
    "s^  => s=\n",
    "z^  => z="
   ]
  },
  {
   "cell_type": "markdown",
   "id": "534cbb80",
   "metadata": {},
   "source": [
    "규칙을 찾아서 전체 문자에서 빼주는 문제"
   ]
  },
  {
   "cell_type": "code",
   "execution_count": 43,
   "id": "1ffea0b9",
   "metadata": {},
   "outputs": [
    {
     "name": "stdout",
     "output_type": "stream",
     "text": [
      "ddz=z=\n",
      "3\n"
     ]
    }
   ],
   "source": [
    "s = input() # 알파벳 소문자, '-', '='로만 이루어져 있다.\n",
    "\n",
    "l = len(s) # 입력받은 알파벳의 개수\n",
    "\n",
    "cnt = l\n",
    "for i in range(l) :\n",
    "    if s[i] == '=' :\n",
    "        if s[i-1] == 'c' or s[i-1] == 'z' or s[i-1] == 's' :\n",
    "                cnt -= 1\n",
    "        if s[i-1] == 'z' and s[i-2] == 'd' :\n",
    "            cnt -= 1\n",
    "\n",
    "    if s[i] == '-' :\n",
    "        if s[i-1] == 'c' or s[i-1] == 'd' :\n",
    "            cnt -= 1\n",
    "    \n",
    "    if s[i] == 'j' :\n",
    "        if s[i-1] == 'l' or s[i-1] == 'n' :\n",
    "            cnt -= 1\n",
    "\n",
    "print(cnt)"
   ]
  },
  {
   "cell_type": "markdown",
   "id": "a3015cca",
   "metadata": {},
   "source": [
    "리스트에 넣어서 위 값들을 그냥 하나의 아무 문자로 replace해서 개수를 세준 방식인데\n",
    "여기서 중요한 점이 \"dz=\" , \"z=\"는 d빼고 완전히 겹치기 때문에\n",
    "\n",
    "리스트 순서를 넣을 때 \"무조건\" \"dz=\"를 넣고, \"z=\"를 넣어서 \n",
    "반복문에 돌릴때 \"dz=\"부터 검사시켜야 한다. 그래야 z=는 건들이지 않고 안전하게 있는다."
   ]
  },
  {
   "cell_type": "code",
   "execution_count": 44,
   "id": "74daa1d9",
   "metadata": {},
   "outputs": [
    {
     "name": "stdout",
     "output_type": "stream",
     "text": [
      "ljes=njak\n",
      "6\n"
     ]
    }
   ],
   "source": [
    "croatia = [\"c=\", \"c-\", \"dz=\", \"d-\", \"s=\", \"z=\", \"lj\", \"nj\"]\n",
    "\n",
    "word = input()\n",
    "\n",
    "for i in croatia :\n",
    "    word = word.replace(i, \"*\")\n",
    "print(len(word))\n",
    "        "
   ]
  },
  {
   "cell_type": "code",
   "execution_count": null,
   "id": "bc93d2a6",
   "metadata": {},
   "outputs": [],
   "source": []
  }
 ],
 "metadata": {
  "kernelspec": {
   "display_name": "Python 3",
   "language": "python",
   "name": "python3"
  },
  "language_info": {
   "codemirror_mode": {
    "name": "ipython",
    "version": 3
   },
   "file_extension": ".py",
   "mimetype": "text/x-python",
   "name": "python",
   "nbconvert_exporter": "python",
   "pygments_lexer": "ipython3",
   "version": "3.8.8"
  }
 },
 "nbformat": 4,
 "nbformat_minor": 5
}
