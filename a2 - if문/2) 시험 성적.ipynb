{
 "cells": [
  {
   "cell_type": "markdown",
   "id": "4ecd4640",
   "metadata": {},
   "source": [
    "# 시험 성적"
   ]
  },
  {
   "cell_type": "code",
   "execution_count": 1,
   "id": "8151231a",
   "metadata": {},
   "outputs": [
    {
     "name": "stdout",
     "output_type": "stream",
     "text": [
      "100\n",
      "A\n"
     ]
    }
   ],
   "source": [
    "s = int(input())\n",
    "\n",
    "if s>= 90 :\n",
    "    print(\"A\")\n",
    "elif s >= 80 :\n",
    "    print(\"B\")\n",
    "elif s >= 70 :\n",
    "    print(\"C\")\n",
    "elif s >= 60 :\n",
    "    print(\"D\")\n",
    "else :\n",
    "    print(\"F\")"
   ]
  },
  {
   "cell_type": "code",
   "execution_count": null,
   "id": "420b972a",
   "metadata": {},
   "outputs": [],
   "source": []
  }
 ],
 "metadata": {
  "kernelspec": {
   "display_name": "Python 3",
   "language": "python",
   "name": "python3"
  },
  "language_info": {
   "codemirror_mode": {
    "name": "ipython",
    "version": 3
   },
   "file_extension": ".py",
   "mimetype": "text/x-python",
   "name": "python",
   "nbconvert_exporter": "python",
   "pygments_lexer": "ipython3",
   "version": "3.8.8"
  }
 },
 "nbformat": 4,
 "nbformat_minor": 5
}
