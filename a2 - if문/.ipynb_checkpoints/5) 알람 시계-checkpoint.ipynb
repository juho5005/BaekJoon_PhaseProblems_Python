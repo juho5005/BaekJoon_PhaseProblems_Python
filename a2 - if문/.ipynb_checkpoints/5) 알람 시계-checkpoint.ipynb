{
 "cells": [
  {
   "cell_type": "markdown",
   "id": "381e242b",
   "metadata": {},
   "source": [
    "# 알람 시계"
   ]
  },
  {
   "cell_type": "code",
   "execution_count": 4,
   "id": "8011229d",
   "metadata": {},
   "outputs": [
    {
     "name": "stdout",
     "output_type": "stream",
     "text": [
      "10 10\n",
      "9 25\n"
     ]
    }
   ],
   "source": [
    "h,m = map(int, input().split()) # 0<=h<=23 , 0<=m<=59\n",
    "\n",
    "# 설정해둔 알람 시간 : H시 M분\n",
    "# 24시간 표현을 사용한다\n",
    "\n",
    "if m < 45 :\n",
    "    if h == 0 : # 0시 일때\n",
    "        h = 23\n",
    "        sub = 45 -m\n",
    "        m = 60 - sub\n",
    "        \n",
    "    else :\n",
    "        h -= 1\n",
    "        sub = 45 -m\n",
    "        m = 60 - sub\n",
    "else :\n",
    "    m -= 45\n",
    "print(h, m)\n",
    "        "
   ]
  },
  {
   "cell_type": "code",
   "execution_count": null,
   "id": "c0b0d5e0",
   "metadata": {},
   "outputs": [],
   "source": []
  }
 ],
 "metadata": {
  "kernelspec": {
   "display_name": "Python 3",
   "language": "python",
   "name": "python3"
  },
  "language_info": {
   "codemirror_mode": {
    "name": "ipython",
    "version": 3
   },
   "file_extension": ".py",
   "mimetype": "text/x-python",
   "name": "python",
   "nbconvert_exporter": "python",
   "pygments_lexer": "ipython3",
   "version": "3.8.8"
  }
 },
 "nbformat": 4,
 "nbformat_minor": 5
}
