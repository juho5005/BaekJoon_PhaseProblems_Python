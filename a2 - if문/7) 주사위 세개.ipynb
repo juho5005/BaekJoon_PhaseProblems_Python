{
 "cells": [
  {
   "cell_type": "code",
   "execution_count": null,
   "id": "995210ec",
   "metadata": {},
   "outputs": [],
   "source": [
    "import sys\n",
    "nums = tuple(map(int, sys.stdin.readline().split()))\n",
    "max_val = max(nums)\n",
    "\n",
    "a, b, c = nums\n",
    "\n",
    "if a == b and b == c:\n",
    "    print(10000 + (a * 1000))\n",
    "    sys.exit()\n",
    "\n",
    "if a == b and a != c:\n",
    "    print(1000 + (a * 100))\n",
    "    sys.exit()\n",
    "\n",
    "if b == c and b != a:\n",
    "    print(1000 + (b * 100))\n",
    "    sys.exit()\n",
    "\n",
    "if c == a and c != b:\n",
    "    print(1000 + (c * 100))\n",
    "    sys.exit()\n",
    "\n",
    "if a != b and b != c and c != a:\n",
    "    print(max_val * 100)\n",
    "    sys.exit()"
   ]
  }
 ],
 "metadata": {
  "kernelspec": {
   "display_name": "Python 3",
   "language": "python",
   "name": "python3"
  },
  "language_info": {
   "codemirror_mode": {
    "name": "ipython",
    "version": 3
   },
   "file_extension": ".py",
   "mimetype": "text/x-python",
   "name": "python",
   "nbconvert_exporter": "python",
   "pygments_lexer": "ipython3",
   "version": "3.8.8"
  }
 },
 "nbformat": 4,
 "nbformat_minor": 5
}
