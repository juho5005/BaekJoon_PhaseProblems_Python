{
 "cells": [
  {
   "cell_type": "markdown",
   "id": "5726356f",
   "metadata": {},
   "source": [
    "### 변수 cnt로 요리하는데 필요한 시간 C 가 될 때까지 각각 조건을 맞추어 변경해주는 방법"
   ]
  },
  {
   "cell_type": "code",
   "execution_count": null,
   "id": "466e1439",
   "metadata": {},
   "outputs": [],
   "source": [
    "import sys\n",
    "\n",
    "a, b = tuple(map(int, sys.stdin.readline().split()))\n",
    "# 0 <= A <= 23, 0 <= B <= 59\n",
    "\n",
    "c = int(sys.stdin.readline())  # 요리에 필요한 시간 (분)\n",
    "\n",
    "\n",
    "cnt = 0\n",
    "while cnt != c:\n",
    "    b += 1\n",
    "    cnt += 1\n",
    "\n",
    "    if b == 60:\n",
    "        a += 1\n",
    "        b = 0\n",
    "\n",
    "        if a == 24:\n",
    "            a = 0\n",
    "            \n",
    "print(a, b)"
   ]
  },
  {
   "cell_type": "markdown",
   "id": "7119c401",
   "metadata": {},
   "source": [
    "### 요리하는데 필요한 시간 c가 최대 1000밖에 되지 않으므로 풀 수 있는 방법"
   ]
  },
  {
   "cell_type": "code",
   "execution_count": null,
   "id": "2e94cce5",
   "metadata": {},
   "outputs": [],
   "source": [
    "import sys\n",
    "\n",
    "a, b = tuple(map(int, sys.stdin.readline().split()))\n",
    "# 0 <= A <= 23, 0 <= B <= 59\n",
    "\n",
    "c = int(sys.stdin.readline())  # 요리에 필요한 시간 (분)\n",
    "\n",
    "a += c // 60\n",
    "b += c % 60\n",
    "\n",
    "if b >= 60:\n",
    "    a += 1\n",
    "    b -= 60\n",
    "\n",
    "if a >= 24:\n",
    "    a -= 24\n",
    "\n",
    "print(a, b)\n"
   ]
  }
 ],
 "metadata": {
  "kernelspec": {
   "display_name": "Python 3",
   "language": "python",
   "name": "python3"
  },
  "language_info": {
   "codemirror_mode": {
    "name": "ipython",
    "version": 3
   },
   "file_extension": ".py",
   "mimetype": "text/x-python",
   "name": "python",
   "nbconvert_exporter": "python",
   "pygments_lexer": "ipython3",
   "version": "3.8.8"
  }
 },
 "nbformat": 4,
 "nbformat_minor": 5
}
