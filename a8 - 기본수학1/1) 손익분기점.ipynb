{
 "cells": [
  {
   "cell_type": "markdown",
   "id": "f5271bd6",
   "metadata": {},
   "source": [
    "# 손익분기점"
   ]
  },
  {
   "cell_type": "code",
   "execution_count": null,
   "id": "fbad9023",
   "metadata": {},
   "outputs": [],
   "source": [
    "손익분기점이 발생하지 않을때와 발생할 때를 나누어서 생각해봐야 하는 문제이고,\n",
    "손익분기점이 발생하지 않는다면, 어느 경우에 발생 하지 않는지 (b,c의 관계)를 잘 고려해야한다\n",
    "\n",
    "그리고 손익분기점이 발생할때의 경우를 구할때도 최대한 간단한 식을 세워서 푸는게 유리하다."
   ]
  },
  {
   "cell_type": "code",
   "execution_count": 1,
   "id": "9ace3224",
   "metadata": {},
   "outputs": [
    {
     "name": "stdout",
     "output_type": "stream",
     "text": [
      "1000 70 170\n",
      "11\n"
     ]
    }
   ],
   "source": [
    "# a =고정비용, b =가변비용, c =노트북 가격\n",
    "a,b,c = map(int, input().split()) \n",
    "if b>=c : # b와 c가 같거나, b가 c보다 크다면 영원히 손익분기점은 나오지않는다.\n",
    "    print(-1)\n",
    "else :\n",
    "    result = (a / (c-b)) + 1\n",
    "    print(int(result)) # 파이썬에서 소수점이 있는 실수를 int()화 해주면\n",
    "                       # 내림으로 자동으로 표시해주므로 이걸 잘 기억하자"
   ]
  },
  {
   "cell_type": "markdown",
   "id": "884e864c",
   "metadata": {},
   "source": [
    "import math -> 즉, math 모듈을 가져와서 ceil(올림), floor(내림) 함수도 사용가능"
   ]
  },
  {
   "cell_type": "code",
   "execution_count": 2,
   "id": "d86663ab",
   "metadata": {},
   "outputs": [
    {
     "name": "stdout",
     "output_type": "stream",
     "text": [
      "1000 70 170\n",
      "11\n"
     ]
    }
   ],
   "source": [
    "import math\n",
    "# a =고정비용, b =가변비용, c =노트북 가격\n",
    "a,b,c = map(int, input().split()) \n",
    "if b>=c : # b와 c가 같거나, b가 c보다 크다면 영원히 손익분기점은 나오지않는다.\n",
    "    print(-1)\n",
    "else :\n",
    "    result = (a / (c-b)) + 1\n",
    "    print(math.floor(result))"
   ]
  },
  {
   "cell_type": "code",
   "execution_count": null,
   "id": "e3a5542a",
   "metadata": {},
   "outputs": [],
   "source": []
  }
 ],
 "metadata": {
  "kernelspec": {
   "display_name": "Python 3",
   "language": "python",
   "name": "python3"
  },
  "language_info": {
   "codemirror_mode": {
    "name": "ipython",
    "version": 3
   },
   "file_extension": ".py",
   "mimetype": "text/x-python",
   "name": "python",
   "nbconvert_exporter": "python",
   "pygments_lexer": "ipython3",
   "version": "3.8.8"
  }
 },
 "nbformat": 4,
 "nbformat_minor": 5
}
