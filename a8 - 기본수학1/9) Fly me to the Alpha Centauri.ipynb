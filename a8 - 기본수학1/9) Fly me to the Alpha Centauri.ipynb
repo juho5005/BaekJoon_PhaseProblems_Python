{
 "cells": [
  {
   "cell_type": "markdown",
   "id": "1f821c2c",
   "metadata": {},
   "source": [
    "# Fly me to the Alpha Centauri"
   ]
  },
  {
   "cell_type": "markdown",
   "id": "9102ad5f",
   "metadata": {},
   "source": [
    "https://ooyoung.tistory.com/91\n",
    "답지를 보았고\n",
    "https://eunhee-programming.tistory.com/99\n",
    "\n",
    "이런 규칙성있는 문제를 스스로 써볼 생각조차 못해서 반성했고, \n",
    "이렇게 규칙성 있는 문제가 나오면 무조건 써봐야 겠다고 다짐했다.\n",
    "\n",
    "1부터 12까지 각각의 목적지 까지 도달하는 방법의 개수를 각각 구해보면,\n",
    "(1) (2) (3 3) (4 4) (5 5 5) (6 6 6)\n",
    "이것처럼 1-2 (1개) 3-4 (2개) 5-6(3개) 순차적으로 증가한다.\n",
    "\n",
    "\n",
    "즉 count(경우의수)가 2개 반복 된후 1 증가한다."
   ]
  },
  {
   "cell_type": "code",
   "execution_count": 1,
   "id": "f6ae18a3",
   "metadata": {},
   "outputs": [
    {
     "name": "stdout",
     "output_type": "stream",
     "text": [
      "3\n",
      "0 3\n",
      "3\n",
      "1 5\n",
      "3\n",
      "45 50\n",
      "4\n"
     ]
    }
   ],
   "source": [
    "t = int(input()) # 테스트케이스의 개수 T\n",
    "\n",
    "for _ in range(t) :\n",
    "    x,y = map(int, input().split()) # 현재위치 : x / 목표위치 : y , x는 항상 y보다 작은 값\n",
    "    distance = y - x\n",
    "    count = 0 # 이동 횟수\n",
    "    move = 1 # count별 빈도수\n",
    "    move_plus = 0 # 이동한 거리의 합\n",
    "    \n",
    "    while move_plus < distance :\n",
    "        count += 1\n",
    "        move_plus += move # count 수에 해당하는 move를 더함\n",
    "        \n",
    "        if count % 2 == 0: # count가 2의 배수일 때,\n",
    "            move += 1\n",
    "    print(count)"
   ]
  },
  {
   "cell_type": "code",
   "execution_count": 1,
   "id": "f9622354",
   "metadata": {},
   "outputs": [
    {
     "ename": "ValueError",
     "evalue": "invalid literal for int() with base 10: ''",
     "output_type": "error",
     "traceback": [
      "\u001b[1;31m---------------------------------------------------------------------------\u001b[0m",
      "\u001b[1;31mValueError\u001b[0m                                Traceback (most recent call last)",
      "\u001b[1;32m<ipython-input-1-bc2fe580c9ac>\u001b[0m in \u001b[0;36m<module>\u001b[1;34m\u001b[0m\n\u001b[0;32m      1\u001b[0m \u001b[1;32mimport\u001b[0m \u001b[0msys\u001b[0m\u001b[1;33m\u001b[0m\u001b[1;33m\u001b[0m\u001b[0m\n\u001b[0;32m      2\u001b[0m \u001b[1;33m\u001b[0m\u001b[0m\n\u001b[1;32m----> 3\u001b[1;33m \u001b[0mt\u001b[0m \u001b[1;33m=\u001b[0m \u001b[0mint\u001b[0m\u001b[1;33m(\u001b[0m\u001b[0msys\u001b[0m\u001b[1;33m.\u001b[0m\u001b[0mstdin\u001b[0m\u001b[1;33m.\u001b[0m\u001b[0mreadline\u001b[0m\u001b[1;33m(\u001b[0m\u001b[1;33m)\u001b[0m\u001b[1;33m)\u001b[0m\u001b[1;33m\u001b[0m\u001b[1;33m\u001b[0m\u001b[0m\n\u001b[0m\u001b[0;32m      4\u001b[0m \u001b[1;33m\u001b[0m\u001b[0m\n\u001b[0;32m      5\u001b[0m \u001b[1;32mfor\u001b[0m \u001b[0m_\u001b[0m \u001b[1;32min\u001b[0m \u001b[0mrange\u001b[0m\u001b[1;33m(\u001b[0m\u001b[0mt\u001b[0m\u001b[1;33m)\u001b[0m \u001b[1;33m:\u001b[0m\u001b[1;33m\u001b[0m\u001b[1;33m\u001b[0m\u001b[0m\n",
      "\u001b[1;31mValueError\u001b[0m: invalid literal for int() with base 10: ''"
     ]
    }
   ],
   "source": [
    "import sys\n",
    "\n",
    "t = int(sys.stdin.readline())\n",
    "\n",
    "for _ in range(t) :\n",
    "    x,y = map(int, sys.stdin.readline().split())\n",
    "    distance = y-x\n",
    "\n",
    "    count = 0 # 움직임의 횟수\n",
    "    move_distance = 1 # 움직이는 거리\n",
    "    entire_distance = 0 # 움직인 거리의 합\n",
    "\n",
    "    while entire_distance < distance :\n",
    "        count += 1\n",
    "        entire_distance += move_distance \n",
    "\n",
    "        if count % 2 == 0 : # move_distance는 2번의 규칙성 후 값이 바뀐다\n",
    "            move_distance += 1\n",
    "    print(count)"
   ]
  },
  {
   "cell_type": "code",
   "execution_count": null,
   "id": "754a3cd0",
   "metadata": {},
   "outputs": [],
   "source": []
  }
 ],
 "metadata": {
  "kernelspec": {
   "display_name": "Python 3",
   "language": "python",
   "name": "python3"
  },
  "language_info": {
   "codemirror_mode": {
    "name": "ipython",
    "version": 3
   },
   "file_extension": ".py",
   "mimetype": "text/x-python",
   "name": "python",
   "nbconvert_exporter": "python",
   "pygments_lexer": "ipython3",
   "version": "3.8.8"
  }
 },
 "nbformat": 4,
 "nbformat_minor": 5
}
