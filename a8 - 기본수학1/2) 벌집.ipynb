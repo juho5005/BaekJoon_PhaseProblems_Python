{
 "cells": [
  {
   "cell_type": "markdown",
   "id": "9f90f199",
   "metadata": {},
   "source": [
    "# 벌집"
   ]
  },
  {
   "cell_type": "markdown",
   "id": "d7806b3c",
   "metadata": {},
   "source": [
    "1개의 방을 지나갈때 -> 1 (1개) 2개의 방을 지나갈때 -> 2 3 4 5 6 7 (6개) 3개의 방을 지나갈때 -> 8 9 10 11 12 13 14 15 16 17 18 19 (12개)\n",
    "\n",
    "1개의 방을 더 지나갈때마다 지나는 숫자들은 1 (2~7) (8~19) (20~37) 6 12 18 -> 즉 6씩 간격을 두고 커지는걸 볼 수 있다."
   ]
  },
  {
   "cell_type": "code",
   "execution_count": 1,
   "id": "5b915a46",
   "metadata": {},
   "outputs": [
    {
     "name": "stdout",
     "output_type": "stream",
     "text": [
      "5\n",
      "2\n"
     ]
    }
   ],
   "source": [
    "n = int(input()) # 숫자 n이 주어짐\n",
    "k = 1 # 방을 몇개를 지나는지\n",
    "room = 1\n",
    "interval = 0\n",
    "while n > room :\n",
    "    interval += 6\n",
    "    k += 1\n",
    "    room += interval\n",
    "print(k)"
   ]
  },
  {
   "cell_type": "code",
   "execution_count": null,
   "id": "7fc0a3ae",
   "metadata": {},
   "outputs": [],
   "source": []
  }
 ],
 "metadata": {
  "kernelspec": {
   "display_name": "Python 3",
   "language": "python",
   "name": "python3"
  },
  "language_info": {
   "codemirror_mode": {
    "name": "ipython",
    "version": 3
   },
   "file_extension": ".py",
   "mimetype": "text/x-python",
   "name": "python",
   "nbconvert_exporter": "python",
   "pygments_lexer": "ipython3",
   "version": "3.8.8"
  }
 },
 "nbformat": 4,
 "nbformat_minor": 5
}
