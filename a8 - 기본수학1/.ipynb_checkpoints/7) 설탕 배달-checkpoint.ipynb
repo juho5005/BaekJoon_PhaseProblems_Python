{
 "cells": [
  {
   "cell_type": "markdown",
   "id": "d1a1d635",
   "metadata": {},
   "source": [
    "# 설탕배달"
   ]
  },
  {
   "cell_type": "markdown",
   "id": "690f37d5",
   "metadata": {},
   "source": [
    "처음에는 5로 나눈 나머지가 3의 배수일때, 아닐때\n",
    "       3으로 나눈 나머지가 5의 배수일때, 아닐때    이렇게 4가지 경우로 접근을 해봤는데 안됨.\n",
    "       \n",
    "답지봣슴.\n",
    "\n",
    "음 개쩐당..\n",
    "최소한의 봉지만을 사용해야 하므로!\n",
    "일단 n이 5로 나누어 떨어지는가를 판별해서 나누어 떨어진다면, (n//5) 개수를 늘려주고 종료\n",
    "나누어 떨어지지 않는다면 n에서 3을 빼주고 봉지를 하나 추가해준다.\n",
    "이런식으로 5에 대해서 나누어 떨어지나 판별하고 나누어 떨어지지 않는다면 3을 하나 빼주고\n",
    "개수를 하나 늘려준다면 최소한의 봉지를 찾을 수 있게된다\n",
    "\n",
    "while \n",
    "\n",
    "\n",
    "else  <= 이런 구조는 처음봤는데 while문이 거짓이 됐을때, else문이 발동하게 되는 구조다."
   ]
  },
  {
   "cell_type": "code",
   "execution_count": 1,
   "id": "f2faba6d",
   "metadata": {},
   "outputs": [
    {
     "name": "stdout",
     "output_type": "stream",
     "text": [
      "8\n",
      "2\n"
     ]
    }
   ],
   "source": [
    "n = int(input()) # 설탕 N킬로그램 입력\n",
    "\n",
    "count = 0\n",
    "\n",
    "while n >= 0 : # 여기서 n>=0 이것도 중요한게 n이 5의 배수가 아닌 3의 배수일때 ex)6\n",
    "    if n % 5 == 0 : # n==0일때 반복문 안으로 다시들어와 if n%5==0를 통해서 break한다!\n",
    "        count += n//5\n",
    "        print(count)\n",
    "        break\n",
    "    n -= 3 # 3 킬로그램을 빼주고, \n",
    "    count += 1 # 봉지의 개수를 하나 더함\n",
    "\n",
    "else :\n",
    "    print(-1)\n",
    "    "
   ]
  }
 ],
 "metadata": {
  "kernelspec": {
   "display_name": "Python 3",
   "language": "python",
   "name": "python3"
  },
  "language_info": {
   "codemirror_mode": {
    "name": "ipython",
    "version": 3
   },
   "file_extension": ".py",
   "mimetype": "text/x-python",
   "name": "python",
   "nbconvert_exporter": "python",
   "pygments_lexer": "ipython3",
   "version": "3.8.8"
  }
 },
 "nbformat": 4,
 "nbformat_minor": 5
}
