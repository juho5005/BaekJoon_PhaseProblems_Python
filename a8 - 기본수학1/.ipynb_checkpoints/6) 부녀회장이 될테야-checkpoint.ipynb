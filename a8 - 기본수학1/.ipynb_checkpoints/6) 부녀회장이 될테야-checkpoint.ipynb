{
 "cells": [
  {
   "cell_type": "markdown",
   "id": "bd33b2c3",
   "metadata": {},
   "source": [
    "# 부녀회장이 될테야"
   ]
  },
  {
   "cell_type": "markdown",
   "id": "b76ef861",
   "metadata": {},
   "source": [
    "처음에 for i in range(k) 만큼 층수를 반복하는정도밖에 몰랐음\n",
    "답지를 보고도 이해오래걸림\n",
    "이건 맨 아래층부터 더해주는 식으로 올라가야 하므로 f0 = [x for x in range(1,n+1)] 을 사용하여 주어진 n까지 1,2,3,4..n 이렇게 0층을 세팅해주고,\n",
    "\n",
    "주어진 층수만큼 반복할 때, k+1의 층들은 k층의 호만큼 더해주는 식인데 여기선 걍 보고 이해할 수 있는 수준인것 같음 ㅜ\n",
    "참!!!!!!!! f0를 리스트로 선언해줬을때 f[0] ~ f[n-1] 까지 1 ~ n까지의 숫자가 들어가는거임\n",
    "센스넘침;"
   ]
  },
  {
   "cell_type": "code",
   "execution_count": 1,
   "id": "19cc3d56",
   "metadata": {},
   "outputs": [
    {
     "name": "stdout",
     "output_type": "stream",
     "text": [
      "2\n",
      "1\n",
      "3\n",
      "6\n",
      "2\n",
      "3\n",
      "10\n"
     ]
    }
   ],
   "source": [
    "t = int(input()) # 테스트 케이스의 개수 \n",
    "\n",
    "for _ in range(t) :\n",
    "    k = int(input()) # 아파트 층 (0층~)\n",
    "    n = int(input()) # 아파트 호 (1호~)\n",
    "    \n",
    "    # 아파트 0층을 설정 (1,2,3,4,....n) 까지 설정해뒀다.\n",
    "    f0 = [x for x in range(1,n+1)]\n",
    "    \n",
    "    for i in range(k) : # 입력받은 k만큼 반복해줄때\n",
    "        for j in range(1,n) : # 여기서 n이 0이면? 생각했지만 조건에 1이상임!\n",
    "            f0[j] += f0[j-1]\n",
    "    print(f0[-1])\n",
    "        "
   ]
  }
 ],
 "metadata": {
  "kernelspec": {
   "display_name": "Python 3",
   "language": "python",
   "name": "python3"
  },
  "language_info": {
   "codemirror_mode": {
    "name": "ipython",
    "version": 3
   },
   "file_extension": ".py",
   "mimetype": "text/x-python",
   "name": "python",
   "nbconvert_exporter": "python",
   "pygments_lexer": "ipython3",
   "version": "3.8.8"
  }
 },
 "nbformat": 4,
 "nbformat_minor": 5
}
