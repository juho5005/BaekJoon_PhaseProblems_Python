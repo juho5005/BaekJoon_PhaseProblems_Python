{
 "cells": [
  {
   "cell_type": "markdown",
   "id": "cf527542",
   "metadata": {},
   "source": [
    "# 분수찾기"
   ]
  },
  {
   "cell_type": "code",
   "execution_count": null,
   "id": "66d5d50b",
   "metadata": {},
   "outputs": [],
   "source": [
    "이 문제는 문제 이해보다는 숫자를 세주는 순서를 유의깊게 봐야하고, \n",
    "대각선으로 묶음을 지었을때, 홀수번째묶음과 짝수번째묶음의 분자,분모의 (오름,내림)차순이\n",
    "다르므로 유의깊게 봐야한다."
   ]
  },
  {
   "cell_type": "code",
   "execution_count": 1,
   "id": "99283762",
   "metadata": {},
   "outputs": [
    {
     "name": "stdout",
     "output_type": "stream",
     "text": [
      "15\n",
      "1/5\n"
     ]
    }
   ],
   "source": [
    "x = int(input())\n",
    "\n",
    "k = 1 # 묶음의 개수 근데 이게 그 분자,분모의 최대값이 될 예정\n",
    "count = 1 # 묶음에서 가장 큰 숫자를 의미한다.\n",
    "interval = 1 # 묶음에서 가장 큰수가 1,3,6,10,15 이런식으로 1이 추가된 간격으로 증가\n",
    "while x > count : # 주어진 수가 숫자의 개수 보다 클때 \n",
    "    interval += 1\n",
    "    count += interval\n",
    "    k += 1\n",
    "\n",
    "order = count - x    \n",
    "# 분자 : a / 분모 : b\n",
    "if k % 2 == 0 :\n",
    "    a = k - order\n",
    "    b = 1 + order\n",
    "elif k % 2 == 1 :\n",
    "    a = 1 + order\n",
    "    b = k - order\n",
    "print (a,'/',b , sep = '')"
   ]
  },
  {
   "cell_type": "code",
   "execution_count": null,
   "id": "68636c15",
   "metadata": {},
   "outputs": [],
   "source": []
  }
 ],
 "metadata": {
  "kernelspec": {
   "display_name": "Python 3",
   "language": "python",
   "name": "python3"
  },
  "language_info": {
   "codemirror_mode": {
    "name": "ipython",
    "version": 3
   },
   "file_extension": ".py",
   "mimetype": "text/x-python",
   "name": "python",
   "nbconvert_exporter": "python",
   "pygments_lexer": "ipython3",
   "version": "3.8.8"
  }
 },
 "nbformat": 4,
 "nbformat_minor": 5
}
