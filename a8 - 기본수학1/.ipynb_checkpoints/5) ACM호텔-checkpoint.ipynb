{
 "cells": [
  {
   "cell_type": "markdown",
   "id": "57627824",
   "metadata": {},
   "source": [
    "# ACM 호텔"
   ]
  },
  {
   "cell_type": "markdown",
   "id": "59cb8051",
   "metadata": {},
   "source": [
    "YY(손님 방의 층)을 구할때 n%h로 구하는데 이 경우, n%h==0 즉 n이 h의 배수라면 0을 표시해버린다\n",
    "그러므로 n%h ==0 일때, YY =h라고 지정을 해줬어야 하는데 이거를 놓쳐서 오래걸렸다.\n",
    "\n",
    "그리고, print(a,b,c, sep='')이런식으로 표시해서 XX가 1의자리, 10의자리 두가지 경우로 나눴는데\n",
    "YY*100 + XX 를 했다면 굳이 이렇게 안해도 됬다."
   ]
  },
  {
   "cell_type": "code",
   "execution_count": 2,
   "id": "22905b72",
   "metadata": {},
   "outputs": [
    {
     "name": "stdout",
     "output_type": "stream",
     "text": [
      "2\n",
      "6 12 10\n",
      "402\n",
      "30 50 72\n",
      "1203\n"
     ]
    }
   ],
   "source": [
    "import math\n",
    "t = int(input()) # 테스트 케이스의 개수\n",
    "\n",
    "for i in range(t) : # t번만큼 반복해줌\n",
    "    h,w,n = map(int,input().split()) # h(층) w(방 개수) n(몇번째 손님)\n",
    "    \n",
    "    YY = n % h  # 손님 방의 층\n",
    "    \n",
    "    if n % h == 0 : \n",
    "        XX = n//h # 손님 방의 동\n",
    "        YY = h\n",
    "    else :\n",
    "        XX = math.ceil(n/h)\n",
    "    \n",
    "    \n",
    "    if XX < 10 :\n",
    "        print(str(YY),'0',str(XX) , sep = '')\n",
    "    else :\n",
    "        print(str(YY),str(XX) , sep = '')"
   ]
  },
  {
   "cell_type": "code",
   "execution_count": 3,
   "id": "ac07cfca",
   "metadata": {},
   "outputs": [
    {
     "name": "stdout",
     "output_type": "stream",
     "text": [
      "2\n",
      "6 12 10\n",
      "402\n",
      "30 50 72\n",
      "1203\n"
     ]
    }
   ],
   "source": [
    "import math\n",
    "t = int(input()) # 테스트 케이스의 개수\n",
    "\n",
    "for i in range(t) : # t번만큼 반복해줌\n",
    "    h,w,n = map(int,input().split()) # h(층) w(방 개수) n(몇번째 손님)\n",
    "    \n",
    "    YY = n % h  # 손님 방의 층\n",
    "    \n",
    "    if n % h == 0 : \n",
    "        XX = n//h # 손님 방의 동\n",
    "        YY = h\n",
    "    else :\n",
    "        XX = math.ceil(n/h)\n",
    "        \n",
    "    print(YY*100 + XX)"
   ]
  }
 ],
 "metadata": {
  "kernelspec": {
   "display_name": "Python 3",
   "language": "python",
   "name": "python3"
  },
  "language_info": {
   "codemirror_mode": {
    "name": "ipython",
    "version": 3
   },
   "file_extension": ".py",
   "mimetype": "text/x-python",
   "name": "python",
   "nbconvert_exporter": "python",
   "pygments_lexer": "ipython3",
   "version": "3.8.8"
  }
 },
 "nbformat": 4,
 "nbformat_minor": 5
}
