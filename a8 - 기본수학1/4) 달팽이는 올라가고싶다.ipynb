{
 "cells": [
  {
   "cell_type": "markdown",
   "id": "4aa48367",
   "metadata": {},
   "source": [
    "# 달팽이는 올라가고싶다"
   ]
  },
  {
   "cell_type": "code",
   "execution_count": null,
   "id": "53130f3e",
   "metadata": {},
   "outputs": [],
   "source": [
    "간단하게 코드만 짜라면 쉬운문제 이지만 (시간초과)에 걸리기 쉽다.\n",
    "처음 코드는 그냥 시간초과를 고려하지않았을때 이다."
   ]
  },
  {
   "cell_type": "code",
   "execution_count": 1,
   "id": "f43af254",
   "metadata": {},
   "outputs": [
    {
     "name": "stdout",
     "output_type": "stream",
     "text": [
      "5 1 6\n",
      "2\n"
     ]
    }
   ],
   "source": [
    "a,b,v = map(int, input().split())\n",
    "\n",
    "h = 0 # 달팽이가 올라간 높이\n",
    "days = 0\n",
    "while 1 :\n",
    "    days += 1\n",
    "    \n",
    "    h += a\n",
    "    if h >= v :\n",
    "        break\n",
    "    h -= b\n",
    "print(days)"
   ]
  },
  {
   "cell_type": "code",
   "execution_count": null,
   "id": "fa41f217",
   "metadata": {},
   "outputs": [],
   "source": [
    "d를 날짜라고 했을 때 / 낮에 올라가서 밤에 떨어지지 않는 경우도 존재한다. 그래서 b*(d-1)이다\n",
    "a*d - b*(d-1) >= v 라는 식을 세울 수 있다.\n",
    "d = (v-b) / (a-b) 가 실수가 나오는 경우도 있으므로 \n",
    "(v-b) % (a-b) ==0 일때를 경우로 잡아서 참이면 몫 + 1 해주고 거짓이면 그냥 몫을 더해줌"
   ]
  },
  {
   "cell_type": "code",
   "execution_count": 2,
   "id": "028b7261",
   "metadata": {},
   "outputs": [
    {
     "name": "stdout",
     "output_type": "stream",
     "text": [
      "100 99 1000000000\n",
      "999999901\n"
     ]
    }
   ],
   "source": [
    "import math\n",
    "a,b,v = map(int, input().split())\n",
    "\n",
    "d = (v-b) / (a-b) # 공식\n",
    "print(math.ceil(d))"
   ]
  },
  {
   "cell_type": "code",
   "execution_count": 3,
   "id": "d1f6ba29",
   "metadata": {},
   "outputs": [
    {
     "name": "stdout",
     "output_type": "stream",
     "text": [
      "100 99 1000000000\n",
      "999999901\n"
     ]
    }
   ],
   "source": [
    "a,b,v = map(int, input().split())\n",
    "\n",
    "result = 0\n",
    "if (v-b) % (a-b) == 0 :\n",
    "    d = ((v-b) // (a-b))# '/'를 사용하면 실수로 표시된다.\n",
    "else :\n",
    "    d = ((v-b) // (a-b)) + 1\n",
    "print(d)"
   ]
  },
  {
   "cell_type": "code",
   "execution_count": 3,
   "id": "29a8149c",
   "metadata": {},
   "outputs": [
    {
     "name": "stdout",
     "output_type": "stream",
     "text": [
      "3\n",
      "4\n",
      "4\n"
     ]
    }
   ],
   "source": [
    "import math\n",
    "\n",
    "a = 3\n",
    "b = 3.00000000001\n",
    "c = 3.99999999999\n",
    "print(math.ceil(a))\n",
    "print(math.ceil(b))\n",
    "print(math.ceil(c))"
   ]
  },
  {
   "cell_type": "code",
   "execution_count": null,
   "id": "98c6ded0",
   "metadata": {},
   "outputs": [],
   "source": []
  }
 ],
 "metadata": {
  "kernelspec": {
   "display_name": "Python 3",
   "language": "python",
   "name": "python3"
  },
  "language_info": {
   "codemirror_mode": {
    "name": "ipython",
    "version": 3
   },
   "file_extension": ".py",
   "mimetype": "text/x-python",
   "name": "python",
   "nbconvert_exporter": "python",
   "pygments_lexer": "ipython3",
   "version": "3.8.8"
  }
 },
 "nbformat": 4,
 "nbformat_minor": 5
}
