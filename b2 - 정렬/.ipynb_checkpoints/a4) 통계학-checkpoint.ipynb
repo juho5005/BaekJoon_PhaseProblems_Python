{
 "cells": [
  {
   "cell_type": "markdown",
   "id": "2872a414",
   "metadata": {},
   "source": [
    "# 통계학"
   ]
  },
  {
   "cell_type": "markdown",
   "id": "2d92f7cb",
   "metadata": {},
   "source": [
    "통계학에서 N개의 수를 대표하는 기본 통계값\n",
    "\n",
    "1) 산술평균 : N개의 수들의 합을 N으로 나눈 값 \n",
    "2) 중앙값 : N개의 수들을 증가하는 순서로 나열했을 경우 그 중앙에 위치하는 값\n",
    "3) 최빈값 : N개의 수들 중 가장 많이 나타내는 값\n",
    "4) 범위 : N개의 수들 중 최댓값과 최솟값의 차이 \n",
    "\n",
    "N개의 수가 주어졌을 때, 네 가지 기본 통계값을 구하는 프로그램은 ?\n",
    "\n",
    "\n",
    "##### 출력!!!! #####\n",
    "\n",
    "1) 소수점 첫째 자리에서 반올림한 값\n",
    "2) 중앙값 \n",
    "3) 여러개 있을땐, 두번째로 작은 값 출력\n",
    "4) 범위 출력\n"
   ]
  },
  {
   "cell_type": "markdown",
   "id": "ad321840",
   "metadata": {},
   "source": [
    "# from collections import Counter()"
   ]
  },
  {
   "cell_type": "code",
   "execution_count": 18,
   "id": "69ffd286",
   "metadata": {},
   "outputs": [
    {
     "name": "stdout",
     "output_type": "stream",
     "text": [
      "123456\n"
     ]
    },
    {
     "data": {
      "text/plain": [
       "[('1', 1), ('2', 1), ('3', 1)]"
      ]
     },
     "execution_count": 18,
     "metadata": {},
     "output_type": "execute_result"
    }
   ],
   "source": [
    "# https://www.notion.so/Counter-3164e910f49e49378389296cfa2f9470\n",
    "# Counter()클래스를 모르면, 풀 수 없는 문제이다.\n",
    "\n",
    "from collections import Counter\n",
    "\n",
    "Counter(input()).most_common(3)\n"
   ]
  },
  {
   "cell_type": "markdown",
   "id": "7d93d8f8",
   "metadata": {},
   "source": [
    "## Counter 모듈을 사용한 방법"
   ]
  },
  {
   "cell_type": "code",
   "execution_count": 16,
   "id": "daaa6b46",
   "metadata": {},
   "outputs": [
    {
     "name": "stdout",
     "output_type": "stream",
     "text": [
      "5\n",
      "-1\n",
      "-2\n",
      "-3\n",
      "-1\n",
      "-2\n",
      "-2\n",
      "-2\n",
      "-1\n",
      "2\n"
     ]
    }
   ],
   "source": [
    "# 시간을 생각하여 작성후 sys로 바꾸기\n",
    "from collections import Counter\n",
    "\n",
    "n = int(input()) # N의 개수 입력 ( N은 홀수 )\n",
    "\n",
    "lst = []\n",
    "for _ in range(n) :\n",
    "    lst.append(int(input())) # N개만큼의 수를 lst에 저장\n",
    "    \n",
    "def mean(l1) :\n",
    "    return round(sum(l1)/len(l1))\n",
    "\n",
    "def mid(l2) :\n",
    "    l2.sort()\n",
    "    return l2[len(l2) // 2]\n",
    "\n",
    "def mode(l3) :\n",
    "    l3_mode = Counter(l3).most_common(2)\n",
    "    \n",
    "    if len(l3) == 1 :\n",
    "        return l3[0]\n",
    "    \n",
    "    else : \n",
    "        if l3_mode[0][1] == l3_mode[1][1] :\n",
    "            return l3_mode[1][0]\n",
    "        else :\n",
    "            return l3_mode[0][0]\n",
    "        \n",
    "def scope(l4) :\n",
    "    l4.sort()\n",
    "    return l4[-1] - l4[0]\n",
    "\n",
    "print(mean(lst))\n",
    "print(mid(lst))\n",
    "print(mode(lst))\n",
    "print(scope(lst))"
   ]
  },
  {
   "cell_type": "markdown",
   "id": "7e250a02",
   "metadata": {},
   "source": [
    "## dic를 이용하여 3번 조건을 구한 방법 "
   ]
  },
  {
   "cell_type": "code",
   "execution_count": 5,
   "id": "4798c0b6",
   "metadata": {},
   "outputs": [
    {
     "name": "stdout",
     "output_type": "stream",
     "text": [
      "5\n",
      "1\n",
      "3\n",
      "8\n",
      "-2\n",
      "2\n",
      "2\n",
      "2\n",
      "1\n",
      "10\n"
     ]
    }
   ],
   "source": [
    "# 통계학 \n",
    "# N은 홀수 \n",
    "\n",
    "import sys \n",
    "n = int(sys.stdin.readline())\n",
    "nums = [\n",
    "    int(sys.stdin.readline())\n",
    "    for _ in range(n)\n",
    "]\n",
    "\n",
    "def avg() :\n",
    "    res = 0\n",
    "    for elem in nums :\n",
    "        res += elem\n",
    "    result = res / len(nums)\n",
    "    print(round(result))\n",
    "\n",
    "def mid_val() :\n",
    "    sorted_nums = sorted(nums)\n",
    "    print(sorted_nums[len(sorted_nums) // 2])\n",
    "\n",
    "def freq_val() :\n",
    "    dic = {}\n",
    "    for elem in nums :\n",
    "        if elem not in dic :\n",
    "            dic[elem] = 1\n",
    "        else :\n",
    "            dic[elem] += 1\n",
    "    \n",
    "    sorted_dic = sorted(dic.items(), key = lambda data : data[1], reverse = True)\n",
    "    \n",
    "    result = sorted_dic[0][0]\n",
    "    max_freq = sorted_dic[0][1]\n",
    "\n",
    "    cnt = 0\n",
    "    max_freq_nums_lst = []\n",
    "    for n, f in sorted_dic :\n",
    "        if max_freq == f :\n",
    "            cnt += 1\n",
    "            max_freq_nums_lst.append(n)\n",
    "    \n",
    "    if cnt >= 2 :\n",
    "        max_freq_nums_lst.sort()\n",
    "        result = max_freq_nums_lst[1]\n",
    "    \n",
    "    print(result)\n",
    "\n",
    "def nums_range() :\n",
    "    print(max(nums) - min(nums))\n",
    "\n",
    "avg()\n",
    "mid_val()\n",
    "freq_val()\n",
    "nums_range()"
   ]
  }
 ],
 "metadata": {
  "kernelspec": {
   "display_name": "Python 3",
   "language": "python",
   "name": "python3"
  },
  "language_info": {
   "codemirror_mode": {
    "name": "ipython",
    "version": 3
   },
   "file_extension": ".py",
   "mimetype": "text/x-python",
   "name": "python",
   "nbconvert_exporter": "python",
   "pygments_lexer": "ipython3",
   "version": "3.8.8"
  }
 },
 "nbformat": 4,
 "nbformat_minor": 5
}
