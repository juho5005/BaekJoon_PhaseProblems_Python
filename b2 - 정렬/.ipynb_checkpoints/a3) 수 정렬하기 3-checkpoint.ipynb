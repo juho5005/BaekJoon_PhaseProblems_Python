{
 "cells": [
  {
   "cell_type": "markdown",
   "id": "9a23da54",
   "metadata": {},
   "source": [
    "# 수 정렬하기 3\n",
    "문제 풀이 : https://www.notion.so/10989-3-cb6fb9f658114f639bf83dc876ce848f"
   ]
  },
  {
   "cell_type": "code",
   "execution_count": null,
   "id": "ac294ec6",
   "metadata": {},
   "outputs": [],
   "source": [
    "N개의 수가 주어졌을 때, 오름차순으로 정렬하는 프로그램 (카운팅 정렬)"
   ]
  },
  {
   "cell_type": "markdown",
   "id": "39335e4f",
   "metadata": {},
   "source": [
    "# 카운팅 정렬을 사용한 풀이\n",
    "## 단) 입력을 직접 받아서 그때 그때 넣어줘야 \n",
    "## 메모리 초과가 발생하지 않는다."
   ]
  },
  {
   "cell_type": "code",
   "execution_count": null,
   "id": "357f6d3b",
   "metadata": {},
   "outputs": [],
   "source": [
    "# 수 정렬하기 3\n",
    "# N개의 수가 주어졌을 때 오름차순으로 정렬하시오\n",
    "\n",
    "\n",
    "# O(N logN)으로도 안됨 걍 ㅈㄴ 빠른 카운팅정렬 써야함\n",
    "# 수는 1 <= 수 <= 10,000 \n",
    "\n",
    "import sys \n",
    "INT_NUM = 10000\n",
    "n = int(sys.stdin.readline())\n",
    "\n",
    "num_count = [0] * (INT_NUM + 1)\n",
    "\n",
    "for _ in range(n) :\n",
    "    num_count[int(sys.stdin.readline())] += 1\n",
    "\n",
    "for i in range(1, INT_NUM+1) :\n",
    "    if num_count[i] != 0 :\n",
    "        for _ in range(num_count[i]) :\n",
    "            print(i)"
   ]
  },
  {
   "cell_type": "markdown",
   "id": "42c6f177",
   "metadata": {},
   "source": [
    "# dictionary를 사용한 풀이\n",
    "## 위와 마찬가지로 입력 숫자들을 그때 그때 받아서\n",
    "## 사용하여 메모리 초과를 막아야 한다."
   ]
  },
  {
   "cell_type": "code",
   "execution_count": null,
   "id": "d0ce3e6d",
   "metadata": {},
   "outputs": [],
   "source": [
    "# 수 정렬하기 3\n",
    "# N개의 수가 주어졌을 때 오름차순으로 정렬하시오\n",
    "\n",
    "import sys \n",
    "INT_NUM = 10000\n",
    "n = int(sys.stdin.readline())\n",
    "\n",
    "dic = {}\n",
    "for _ in range(n) :\n",
    "    elem = int(sys.stdin.readline())\n",
    "\n",
    "    if elem not in dic :\n",
    "        dic[elem] = 1\n",
    "    else :\n",
    "        dic[elem] += 1\n",
    "print(dic)\n",
    "\n",
    "sorted_dic = sorted(dic.items())\n",
    "\n",
    "for digit, num in sorted_dic :\n",
    "    \n",
    "    for _ in range(num) :\n",
    "        print(digit)"
   ]
  }
 ],
 "metadata": {
  "kernelspec": {
   "display_name": "Python 3",
   "language": "python",
   "name": "python3"
  },
  "language_info": {
   "codemirror_mode": {
    "name": "ipython",
    "version": 3
   },
   "file_extension": ".py",
   "mimetype": "text/x-python",
   "name": "python",
   "nbconvert_exporter": "python",
   "pygments_lexer": "ipython3",
   "version": "3.8.8"
  }
 },
 "nbformat": 4,
 "nbformat_minor": 5
}
