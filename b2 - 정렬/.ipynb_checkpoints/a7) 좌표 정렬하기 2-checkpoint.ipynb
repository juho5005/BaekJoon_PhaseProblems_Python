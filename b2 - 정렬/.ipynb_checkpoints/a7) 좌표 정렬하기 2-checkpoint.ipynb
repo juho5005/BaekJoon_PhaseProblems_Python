{
 "cells": [
  {
   "cell_type": "markdown",
   "id": "6eb93324",
   "metadata": {},
   "source": [
    "# 좌표 정렬하기 2"
   ]
  },
  {
   "cell_type": "markdown",
   "id": "c8f7202e",
   "metadata": {},
   "source": [
    "점 N개 입력\n",
    "y좌표가 증가하는 순, y좌표가 같으면 x좌표가 증가하는 순으로 정렬\n",
    "위치가 같은 점 X"
   ]
  },
  {
   "cell_type": "markdown",
   "id": "74804365",
   "metadata": {},
   "source": [
    "## 문제 제출시 sys를 사용해야 시간초과에 걸리지 않음"
   ]
  },
  {
   "cell_type": "markdown",
   "id": "07329a11",
   "metadata": {},
   "source": [
    "1) lambda 를 활용한 식"
   ]
  },
  {
   "cell_type": "code",
   "execution_count": 7,
   "id": "eb89fda4",
   "metadata": {},
   "outputs": [
    {
     "name": "stdout",
     "output_type": "stream",
     "text": [
      "5\n",
      "0 4\n",
      "1 2\n",
      "1 -1\n",
      "2 2\n",
      "3 3\n",
      "1 -1\n",
      "1 2\n",
      "2 2\n",
      "3 3\n",
      "0 4\n"
     ]
    }
   ],
   "source": [
    "n = int(input())\n",
    "\n",
    "xy = []\n",
    "for _ in range(n) :\n",
    "    xy.append(list(map(int, input().split())))\n",
    "    \n",
    "xy.sort(key= lambda data : (data[1], data[0]))\n",
    "\n",
    "for i in xy :\n",
    "    print(i[0], i[1])"
   ]
  },
  {
   "cell_type": "markdown",
   "id": "338ee066",
   "metadata": {},
   "source": [
    "2) 정렬할 값을 따로 새로운 리스트에 넣어줘서 정렬하는 방법"
   ]
  },
  {
   "cell_type": "code",
   "execution_count": 11,
   "id": "a756a589",
   "metadata": {},
   "outputs": [
    {
     "name": "stdout",
     "output_type": "stream",
     "text": [
      "5 \n",
      "0 4\n",
      "1 2\n",
      "1 -1\n",
      "2 2\n",
      "3 3\n",
      "1 -1\n",
      "1 2\n",
      "2 2\n",
      "3 3\n",
      "0 4\n"
     ]
    }
   ],
   "source": [
    "n = int(input())\n",
    "\n",
    "xy = []\n",
    "for _ in range(n) :\n",
    "    xy.append(list(map(int, input().split())))\n",
    "    \n",
    "s_xy = []\n",
    "for data in xy :\n",
    "    s_xy.append((data[1], data[0])) # y부터 정렬하기 위해 data[1] 부터 append\n",
    "    \n",
    "s_xy.sort() # 정렬\n",
    "\n",
    "for i in s_xy :\n",
    "    print(i[1], i[0])"
   ]
  }
 ],
 "metadata": {
  "kernelspec": {
   "display_name": "Python 3",
   "language": "python",
   "name": "python3"
  },
  "language_info": {
   "codemirror_mode": {
    "name": "ipython",
    "version": 3
   },
   "file_extension": ".py",
   "mimetype": "text/x-python",
   "name": "python",
   "nbconvert_exporter": "python",
   "pygments_lexer": "ipython3",
   "version": "3.8.8"
  }
 },
 "nbformat": 4,
 "nbformat_minor": 5
}
