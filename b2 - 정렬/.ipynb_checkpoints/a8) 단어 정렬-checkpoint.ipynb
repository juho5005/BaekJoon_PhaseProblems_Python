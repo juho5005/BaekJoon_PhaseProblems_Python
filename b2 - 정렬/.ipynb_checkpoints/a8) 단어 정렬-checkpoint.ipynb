{
 "cells": [
  {
   "cell_type": "markdown",
   "id": "d2770e63",
   "metadata": {},
   "source": [
    "# 단어 정렬"
   ]
  },
  {
   "cell_type": "markdown",
   "id": "ca714c7e",
   "metadata": {},
   "source": [
    "알파벳 소문자로 이루어진 N개의 단어를 정렬\n",
    "1) 길이가 짧은 것부터\n",
    "2) 길이가 같으면, 사전 순으로\n",
    "\n",
    "## 같은 단어가 여러번 입력된 경우) 한번만 출력한다."
   ]
  },
  {
   "cell_type": "code",
   "execution_count": 13,
   "id": "7d229b43",
   "metadata": {},
   "outputs": [
    {
     "name": "stdout",
     "output_type": "stream",
     "text": [
      "13\n",
      "but\n",
      "i\n",
      "wont\n",
      "hesitate\n",
      "no\n",
      "more\n",
      "no\n",
      "more\n",
      "it\n",
      "cannot\n",
      "wait\n",
      "im\n",
      "yours\n",
      "i\n",
      "im\n",
      "it\n",
      "no\n",
      "but\n",
      "more\n",
      "wait\n",
      "wont\n",
      "yours\n",
      "cannot\n",
      "hesitate\n"
     ]
    }
   ],
   "source": [
    "n = int(input()) \n",
    "\n",
    "alps = []\n",
    "for _ in range(n) :\n",
    "    alps.append(input())\n",
    "    \n",
    "alps_set = set(alps) # 집합 함수를 사용하여 중복제거\n",
    "alps = list(alps_set) # 중복 제거 후 다시 원래 리스트 형태로 회귀시켜준다.\n",
    "\n",
    "alps.sort() # (길이가 같으면 사전순으로) 2번 조건을 위해서 설정\n",
    "alps.sort(key = len) # (길이가 짧은 것부터) 1번 조건을 위해서 설정\n",
    "\n",
    "for i in alps :\n",
    "    print(i)"
   ]
  },
  {
   "cell_type": "markdown",
   "id": "495954cd",
   "metadata": {},
   "source": [
    "key = len대신 lambda를 활용한 식"
   ]
  },
  {
   "cell_type": "code",
   "execution_count": null,
   "id": "3431edbb",
   "metadata": {},
   "outputs": [],
   "source": [
    "n = int(input()) \n",
    "\n",
    "alps = []\n",
    "for _ in range(n) :\n",
    "    alps.append(input())\n",
    "    \n",
    "alps_set = set(alps) # 집합 함수를 사용하여 중복제거\n",
    "alps = list(alps_set) # 중복 제거 후 다시 원래 리스트 형태로 회귀시켜준다.\n",
    "\n",
    "alps.sort() # (길이가 같으면 사전순으로) 2번 조건을 위해서 설정\n",
    "alps.sort(key = lambda x : len(x)) # (길이가 짧은 것부터) 1번 조건을 위해서 설정\n",
    "\n",
    "for i in alps :\n",
    "    print(i)"
   ]
  },
  {
   "cell_type": "markdown",
   "id": "787f0e3a",
   "metadata": {},
   "source": [
    "중복제거를 더 간단히 하는법"
   ]
  },
  {
   "cell_type": "code",
   "execution_count": null,
   "id": "377dfcaf",
   "metadata": {},
   "outputs": [],
   "source": [
    "n = int(input()) \n",
    "\n",
    "alps = []\n",
    "for _ in range(n) :\n",
    "    alps.append(input())\n",
    "    \n",
    "######### 중복제거를 한번에 하는 법 #########\n",
    "alps = list(set(alps)) # 굳이 새로운 변수명 생성할 필요없이 한번에 중복제거가 가능하다.\n",
    "\n",
    "alps.sort() # (길이가 같으면 사전순으로) 2번 조건을 위해서 설정\n",
    "alps.sort(key = len) # (길이가 짧은 것부터) 1번 조건을 위해서 설정\n",
    "\n",
    "for i in alps :\n",
    "    print(i)"
   ]
  },
  {
   "cell_type": "markdown",
   "id": "e027b4d0",
   "metadata": {},
   "source": [
    "## sort(key = len)를 사용하지 않고 문자열의 개수를 세서 구하는 방식"
   ]
  },
  {
   "cell_type": "code",
   "execution_count": 15,
   "id": "1a5a63c3",
   "metadata": {},
   "outputs": [
    {
     "name": "stdout",
     "output_type": "stream",
     "text": [
      "3\n",
      "im\n",
      "i\n",
      "it\n",
      "i\n",
      "im\n",
      "it\n"
     ]
    }
   ],
   "source": [
    "n = int(input())\n",
    "\n",
    "alps = []\n",
    "for _ in range(n) :\n",
    "    alps.append(input())\n",
    "    \n",
    "set_alps = list(set(alps))\n",
    "\n",
    "sort_alps = []\n",
    "\n",
    "for i in set_alps :\n",
    "    sort_alps.append((len(i), i)) # 단어의 길이와 단어를 같이 리스트화 시켜 저장\n",
    "    \n",
    "sort_alps.sort() # sort()는 len(i), i에서 앞을 먼저 정렬\n",
    "\n",
    "for len_alp, alp in sort_alps :\n",
    "    print(alp)"
   ]
  },
  {
   "cell_type": "markdown",
   "id": "fa72800c",
   "metadata": {},
   "source": [
    "sys 저장함수를 사용하여 시간단축을 하는 코드"
   ]
  },
  {
   "cell_type": "code",
   "execution_count": null,
   "id": "66691bdc",
   "metadata": {},
   "outputs": [],
   "source": [
    "import sys\n",
    "\n",
    "n = int(sys.stdin.readline())\n",
    "\n",
    "alps =[]\n",
    "for i in range(n) :\n",
    "    alps.append(sys.stdin.readline().strip())\n",
    "    \n",
    "alps = list(set(alps)) \n",
    "\n",
    "sort_alps = []\n",
    "for i in alps :\n",
    "    sort_alps.append((len(i), i)) \n",
    "    \n",
    "sort_alps.sort() \n",
    "\n",
    "for lenj, j in sort_alps :\n",
    "    print(j)"
   ]
  },
  {
   "cell_type": "markdown",
   "id": "3a18dcfd",
   "metadata": {},
   "source": [
    "## 최종 간략한 코드"
   ]
  },
  {
   "cell_type": "code",
   "execution_count": null,
   "id": "90b08660",
   "metadata": {},
   "outputs": [],
   "source": [
    "# 주피터에선 sys실행 X\n",
    "import sys\n",
    "\n",
    "n = int(sys.stdin.readline())\n",
    "\n",
    "alps = [sys.stdin.readline().strip() for _ in range(n)]\n",
    "\n",
    "alps = list(set(alps))\n",
    "\n",
    "alps.sort(key = lambda data : (len(data), data))\n",
    "\n",
    "for i in alps :\n",
    "    print(i)"
   ]
  }
 ],
 "metadata": {
  "kernelspec": {
   "display_name": "Python 3",
   "language": "python",
   "name": "python3"
  },
  "language_info": {
   "codemirror_mode": {
    "name": "ipython",
    "version": 3
   },
   "file_extension": ".py",
   "mimetype": "text/x-python",
   "name": "python",
   "nbconvert_exporter": "python",
   "pygments_lexer": "ipython3",
   "version": "3.8.8"
  }
 },
 "nbformat": 4,
 "nbformat_minor": 5
}
