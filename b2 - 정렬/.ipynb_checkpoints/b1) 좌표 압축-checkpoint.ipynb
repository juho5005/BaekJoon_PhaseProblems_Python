{
 "cells": [
  {
   "cell_type": "markdown",
   "id": "8b42acc5",
   "metadata": {},
   "source": [
    "# 좌표 압축"
   ]
  },
  {
   "cell_type": "markdown",
   "id": "249f7a73",
   "metadata": {},
   "source": [
    "문제는 풀었으나, 시간초과에 걸려서 해결하지 못했다.\n",
    "List의 시간복잡도 보다 Dict의 시간복잡도가 더 적기 때문에, dict을 이해해야 풀 수 있다."
   ]
  },
  {
   "cell_type": "code",
   "execution_count": 26,
   "id": "5559de39",
   "metadata": {},
   "outputs": [
    {
     "name": "stdout",
     "output_type": "stream",
     "text": [
      "5 \n",
      "2 4 -10 4 -9\n",
      "2 3 0 3 1 "
     ]
    }
   ],
   "source": [
    "n = int(input()) # N 입력\n",
    "\n",
    "x_n = list(map(int, input().split())) # x1,x2, ... xn 입력\n",
    "s_x_n = list(set(x_n)) # 중복 제거\n",
    "\n",
    "for i in x_n :\n",
    "    cnt = 0\n",
    "    for j in s_x_n :\n",
    "        if i == j :\n",
    "            pass\n",
    "        else :\n",
    "            if i>j :\n",
    "                cnt += 1\n",
    "            else :\n",
    "                pass\n",
    "    print(cnt, end = ' ')"
   ]
  },
  {
   "cell_type": "markdown",
   "id": "fc43a6ea",
   "metadata": {},
   "source": [
    "index 함수를 이용하여 푸는 방식\n",
    "하지만 이 방식도 시간초과에 걸리게 된다."
   ]
  },
  {
   "cell_type": "code",
   "execution_count": 38,
   "id": "20ba1681",
   "metadata": {},
   "outputs": [
    {
     "name": "stdout",
     "output_type": "stream",
     "text": [
      "6\n",
      "1000 999 1000 999 1000 999\n",
      "1 0 1 0 1 0 "
     ]
    }
   ],
   "source": [
    "n = int(input()) # N 입력\n",
    "\n",
    "x_n = list(map(int, input().split()))\n",
    "\n",
    "count_x_n = sorted(list(set(x_n))) # 중복 제거해서 값들을 오름차순으로 출력\n",
    "\n",
    "for i in x_n :\n",
    "    print(count_x_n.index(i), end = ' ')"
   ]
  },
  {
   "cell_type": "markdown",
   "id": "b7d33138",
   "metadata": {},
   "source": [
    "dictonary 자료형을 사용해줘야 한다. 시간 복잡도 O(1)"
   ]
  },
  {
   "cell_type": "code",
   "execution_count": 39,
   "id": "4c774a0c",
   "metadata": {},
   "outputs": [
    {
     "name": "stdout",
     "output_type": "stream",
     "text": [
      "6\n",
      "1000 999 1000 999 1000 999\n",
      "1 0 1 0 1 0 "
     ]
    }
   ],
   "source": [
    "n = int(input()) # N 입력\n",
    "\n",
    "x_n = list(map(int, input().split()))\n",
    "\n",
    "count_x_n = sorted(list(set(x_n))) # 중복 제거해서 값들을 오름차순으로 출력\n",
    "\n",
    "dic = {count_x_n[i] : i for i in range(len(count_x_n))}\n",
    "\n",
    "for i in x_n :\n",
    "    print(dic[i], end = ' ')"
   ]
  },
  {
   "cell_type": "code",
   "execution_count": 4,
   "id": "e9923a40",
   "metadata": {},
   "outputs": [
    {
     "name": "stdout",
     "output_type": "stream",
     "text": [
      "5\n",
      "2 4 -10 4 -9\n",
      "2 3 0 3 1 "
     ]
    }
   ],
   "source": [
    "n = int(input())\n",
    "\n",
    "xn = list(map(int, input().split())) #    2   4  -10   4   -9\n",
    "\n",
    "sort_xn = sorted(list(set(xn)))      #  -10  -9    2   4\n",
    "\n",
    "dict_xn = {sort_xn[i] : i for i in range(len(sort_xn))} # 딕셔너리 key : value로 매치\n",
    "\n",
    "for i in xn :\n",
    "    print(dict_xn[i], end = ' ')"
   ]
  },
  {
   "cell_type": "code",
   "execution_count": null,
   "id": "90358982",
   "metadata": {},
   "outputs": [],
   "source": []
  }
 ],
 "metadata": {
  "kernelspec": {
   "display_name": "Python 3",
   "language": "python",
   "name": "python3"
  },
  "language_info": {
   "codemirror_mode": {
    "name": "ipython",
    "version": 3
   },
   "file_extension": ".py",
   "mimetype": "text/x-python",
   "name": "python",
   "nbconvert_exporter": "python",
   "pygments_lexer": "ipython3",
   "version": "3.8.8"
  }
 },
 "nbformat": 4,
 "nbformat_minor": 5
}
