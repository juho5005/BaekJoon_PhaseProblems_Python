{
 "cells": [
  {
   "cell_type": "markdown",
   "id": "7dca72d9",
   "metadata": {},
   "source": [
    "# 좌표 정렬하기"
   ]
  },
  {
   "cell_type": "markdown",
   "id": "e44d4254",
   "metadata": {},
   "source": [
    "<x ,y> 점을 정렬\n",
    "1) x좌표가 증가하는 순\n",
    "2) x좌표가 같으면 y좌표가 증가하는 순\n",
    "\n",
    "#### 위치가 같은 두 점은 없다 ( 중복 X )"
   ]
  },
  {
   "cell_type": "markdown",
   "id": "964c6e65",
   "metadata": {},
   "source": [
    "1) sort( key = ~ )를 이용하지 않고 비교대상을 각각 새로운 리스트에 다시 정렬해서 푸는 방식"
   ]
  },
  {
   "cell_type": "code",
   "execution_count": 3,
   "id": "1aa30173",
   "metadata": {},
   "outputs": [
    {
     "name": "stdout",
     "output_type": "stream",
     "text": [
      "5\n",
      "3 4\n",
      "1 1\n",
      "1 -1\n",
      "2 2 \n",
      "3 3\n",
      "1 -1 \n",
      "1 1 \n",
      "2 2 \n",
      "3 3 \n",
      "3 4 \n"
     ]
    }
   ],
   "source": [
    "n = int(input())\n",
    "\n",
    "xy = []\n",
    "\n",
    "for _ in range(n) :\n",
    "    xy.append(list(map(int, input().split())))\n",
    "\n",
    "s_xy = []\n",
    "for i in xy :\n",
    "    s_xy.append((i[0], i[1]))\n",
    "\n",
    "s_xy.sort() # i[0] 정렬 후 i[1] 정렬\n",
    "\n",
    "for i in s_xy :\n",
    "    for j in i :\n",
    "        print(j, end = ' ')\n",
    "    print()"
   ]
  },
  {
   "cell_type": "markdown",
   "id": "8db7ad4a",
   "metadata": {},
   "source": [
    "sys 라이브러리를 이용한 시간단축 코드"
   ]
  },
  {
   "cell_type": "code",
   "execution_count": 4,
   "id": "292921a0",
   "metadata": {},
   "outputs": [
    {
     "ename": "ValueError",
     "evalue": "invalid literal for int() with base 10: ''",
     "output_type": "error",
     "traceback": [
      "\u001b[1;31m---------------------------------------------------------------------------\u001b[0m",
      "\u001b[1;31mValueError\u001b[0m                                Traceback (most recent call last)",
      "\u001b[1;32m<ipython-input-4-836e6802cb9f>\u001b[0m in \u001b[0;36m<module>\u001b[1;34m\u001b[0m\n\u001b[0;32m      1\u001b[0m \u001b[1;32mimport\u001b[0m \u001b[0msys\u001b[0m\u001b[1;33m\u001b[0m\u001b[1;33m\u001b[0m\u001b[0m\n\u001b[1;32m----> 2\u001b[1;33m \u001b[0mn\u001b[0m \u001b[1;33m=\u001b[0m \u001b[0mint\u001b[0m\u001b[1;33m(\u001b[0m\u001b[0msys\u001b[0m\u001b[1;33m.\u001b[0m\u001b[0mstdin\u001b[0m\u001b[1;33m.\u001b[0m\u001b[0mreadline\u001b[0m\u001b[1;33m(\u001b[0m\u001b[1;33m)\u001b[0m\u001b[1;33m)\u001b[0m\u001b[1;33m\u001b[0m\u001b[1;33m\u001b[0m\u001b[0m\n\u001b[0m\u001b[0;32m      3\u001b[0m \u001b[1;33m\u001b[0m\u001b[0m\n\u001b[0;32m      4\u001b[0m \u001b[0mxy\u001b[0m \u001b[1;33m=\u001b[0m \u001b[1;33m[\u001b[0m\u001b[1;33m]\u001b[0m\u001b[1;33m\u001b[0m\u001b[1;33m\u001b[0m\u001b[0m\n\u001b[0;32m      5\u001b[0m \u001b[1;32mfor\u001b[0m \u001b[0m_\u001b[0m \u001b[1;32min\u001b[0m \u001b[0mrange\u001b[0m\u001b[1;33m(\u001b[0m\u001b[0mn\u001b[0m\u001b[1;33m)\u001b[0m \u001b[1;33m:\u001b[0m\u001b[1;33m\u001b[0m\u001b[1;33m\u001b[0m\u001b[0m\n",
      "\u001b[1;31mValueError\u001b[0m: invalid literal for int() with base 10: ''"
     ]
    }
   ],
   "source": [
    "import sys\n",
    "n = int(sys.stdin.readline())\n",
    "\n",
    "xy = []\n",
    "for _ in range(n) :\n",
    "    xy.append(list(map(int, sys.stdin.readline().strip().split())))\n",
    "\n",
    "s_xy = []\n",
    "for i in xy :\n",
    "    s_xy.append((i[0], i[1]))\n",
    "\n",
    "s_xy.sort() # i[0] 정렬 후 i[1] 정렬\n",
    "\n",
    "for i in s_xy :\n",
    "    for j in i :\n",
    "        print(j, end = ' ')\n",
    "    print()"
   ]
  },
  {
   "cell_type": "markdown",
   "id": "bbf4d638",
   "metadata": {},
   "source": [
    "2) sort(key = ) 속성을 활용한 코드 lambda 이용"
   ]
  },
  {
   "cell_type": "code",
   "execution_count": 6,
   "id": "aa31a7f2",
   "metadata": {},
   "outputs": [
    {
     "name": "stdout",
     "output_type": "stream",
     "text": [
      "5\n",
      "3 4\n",
      "1 1\n",
      "1 -1\n",
      "2 2 \n",
      "3 3\n",
      "1 -1 \n",
      "1 1 \n",
      "2 2 \n",
      "3 3 \n",
      "3 4 \n"
     ]
    }
   ],
   "source": [
    "n = int(input())\n",
    "\n",
    "xy = []\n",
    "for _ in range(n) :\n",
    "    xy.append(list(map(int, input().split())))\n",
    "\n",
    "xy.sort(key = lambda x : (x[0], x[1]))\n",
    "\n",
    "for i in xy :\n",
    "    for j in i :\n",
    "        print(j, end = ' ')\n",
    "    print()"
   ]
  },
  {
   "cell_type": "markdown",
   "id": "c78debd1",
   "metadata": {},
   "source": [
    "sys를 사용한 시간단축"
   ]
  },
  {
   "cell_type": "code",
   "execution_count": null,
   "id": "0feb6bac",
   "metadata": {},
   "outputs": [],
   "source": [
    "import sys\n",
    "n = int(sys.stdin.readline())\n",
    "\n",
    "xy = []\n",
    "for _ in range(n) :\n",
    "    xy.append(list(map(int, sys.stdin.readline().strip().split())))\n",
    "\n",
    "xy.sort(key = lambda x : (x[0], x[1]))\n",
    "\n",
    "for i in xy :\n",
    "    for j in i :\n",
    "        print(j, end = ' ')\n",
    "    print()"
   ]
  }
 ],
 "metadata": {
  "kernelspec": {
   "display_name": "Python 3",
   "language": "python",
   "name": "python3"
  },
  "language_info": {
   "codemirror_mode": {
    "name": "ipython",
    "version": 3
   },
   "file_extension": ".py",
   "mimetype": "text/x-python",
   "name": "python",
   "nbconvert_exporter": "python",
   "pygments_lexer": "ipython3",
   "version": "3.8.8"
  }
 },
 "nbformat": 4,
 "nbformat_minor": 5
}
