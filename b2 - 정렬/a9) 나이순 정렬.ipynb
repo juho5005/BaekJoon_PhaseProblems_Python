{
 "cells": [
  {
   "cell_type": "markdown",
   "id": "7eb5fdbc",
   "metadata": {},
   "source": [
    "# 나이순 정렬"
   ]
  },
  {
   "cell_type": "markdown",
   "id": "0edc47ff",
   "metadata": {},
   "source": [
    "사람들의 나이, 이름 순서대로 주어짐\n",
    "\n",
    "1) 나이가 증가하는 순 2) 나이가 같으면 가입 순서가 빠르게 정렬\n",
    "\n",
    "\"공백을 \"기준으로 입력\n",
    "1<= 나이 <= 200\n",
    "이름 : 알파벳 대소문자 (길이 100보다 작음)\n",
    "\n",
    "입력은 가입한 순서대로 주어짐"
   ]
  },
  {
   "cell_type": "code",
   "execution_count": 13,
   "id": "fc468e77",
   "metadata": {},
   "outputs": [
    {
     "name": "stdout",
     "output_type": "stream",
     "text": [
      "3\n",
      "21 Junkyu\n",
      "21 Dohyun\n",
      "20 sunyoung\n",
      "20 sunyoung\n",
      "21 Junkyu\n",
      "21 Dohyun\n"
     ]
    }
   ],
   "source": [
    "n = int(input()) # 회원의 수 N 입력\n",
    "\n",
    "age_name = []\n",
    "for i in range(n) :\n",
    "    age_name.append(list(input().split()))\n",
    "    age_name[i][0] = int(age_name[i][0])\n",
    "    \n",
    "age_name.sort(key = lambda data : data[0])\n",
    "\n",
    "for j in age_name : \n",
    "    print(j[0], j[1])"
   ]
  },
  {
   "cell_type": "markdown",
   "id": "9a09ffd4",
   "metadata": {},
   "source": [
    "시간초과에 걸리지 않기 위한 sys"
   ]
  },
  {
   "cell_type": "code",
   "execution_count": null,
   "id": "fbcd4e29",
   "metadata": {},
   "outputs": [],
   "source": [
    "import sys\n",
    "n = int(sys.stdin.readline()) # 회원의 수 N 입력\n",
    "\n",
    "age_name = []\n",
    "for i in range(n) :\n",
    "    age_name.append(list(sys.stdin.readline().strip().split()))\n",
    "    age_name[i][0] = int(age_name[i][0])\n",
    "    \n",
    "age_name.sort(key = lambda data : data[0])\n",
    "\n",
    "for j in age_name : \n",
    "    print(j[0], j[1])"
   ]
  }
 ],
 "metadata": {
  "kernelspec": {
   "display_name": "Python 3",
   "language": "python",
   "name": "python3"
  },
  "language_info": {
   "codemirror_mode": {
    "name": "ipython",
    "version": 3
   },
   "file_extension": ".py",
   "mimetype": "text/x-python",
   "name": "python",
   "nbconvert_exporter": "python",
   "pygments_lexer": "ipython3",
   "version": "3.8.8"
  }
 },
 "nbformat": 4,
 "nbformat_minor": 5
}
