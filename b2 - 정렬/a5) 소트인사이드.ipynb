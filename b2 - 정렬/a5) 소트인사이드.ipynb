{
 "cells": [
  {
   "cell_type": "markdown",
   "id": "24a0ab87",
   "metadata": {},
   "source": [
    "# 소트인사이드"
   ]
  },
  {
   "cell_type": "markdown",
   "id": "fa119980",
   "metadata": {},
   "source": [
    "수가 주어지면, 그 수의 각 자리수를 내림차순으로 정렬하기"
   ]
  },
  {
   "cell_type": "code",
   "execution_count": 5,
   "id": "8e386413",
   "metadata": {},
   "outputs": [
    {
     "name": "stdout",
     "output_type": "stream",
     "text": [
      "61423\n",
      "64321"
     ]
    }
   ],
   "source": [
    "n = list(input())\n",
    "\n",
    "n.sort(reverse = True)\n",
    "\n",
    "for i in n :\n",
    "    print(i, end='')"
   ]
  },
  {
   "cell_type": "code",
   "execution_count": 8,
   "id": "d751766b",
   "metadata": {},
   "outputs": [
    {
     "name": "stdout",
     "output_type": "stream",
     "text": [
      "61423\n",
      "64321"
     ]
    }
   ],
   "source": [
    "n = int(input())\n",
    "\n",
    "nl = []\n",
    "for i in str(n) :\n",
    "    nl.append(int(i))   # -> nl = list(map(int, str(n))) 이렇게 줄일 수 있다.\n",
    "    \n",
    "nl.sort(reverse = True)\n",
    "\n",
    "for i in nl :\n",
    "    print(i, end = '')"
   ]
  },
  {
   "cell_type": "code",
   "execution_count": null,
   "id": "93338570",
   "metadata": {},
   "outputs": [],
   "source": []
  }
 ],
 "metadata": {
  "kernelspec": {
   "display_name": "Python 3",
   "language": "python",
   "name": "python3"
  },
  "language_info": {
   "codemirror_mode": {
    "name": "ipython",
    "version": 3
   },
   "file_extension": ".py",
   "mimetype": "text/x-python",
   "name": "python",
   "nbconvert_exporter": "python",
   "pygments_lexer": "ipython3",
   "version": "3.8.8"
  }
 },
 "nbformat": 4,
 "nbformat_minor": 5
}
