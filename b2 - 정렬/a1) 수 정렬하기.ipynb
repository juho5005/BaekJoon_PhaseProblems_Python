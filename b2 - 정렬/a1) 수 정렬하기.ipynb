{
 "cells": [
  {
   "cell_type": "markdown",
   "id": "bef52a23",
   "metadata": {},
   "source": [
    "# 수 정렬하기"
   ]
  },
  {
   "cell_type": "markdown",
   "id": "3bd0c502",
   "metadata": {},
   "source": [
    "### sort( ), sorted( ) 사용"
   ]
  },
  {
   "cell_type": "code",
   "execution_count": 4,
   "id": "a75c132d",
   "metadata": {},
   "outputs": [
    {
     "name": "stdout",
     "output_type": "stream",
     "text": [
      "5\n",
      "5\n",
      "2\n",
      "3\n",
      "4\n",
      "1\n",
      "5\n",
      "4\n",
      "3\n",
      "2\n",
      "1\n"
     ]
    }
   ],
   "source": [
    "n = int(input()) # n개의 수 입력\n",
    "\n",
    "n_list = []\n",
    "for _ in range(n) :\n",
    "    n_list.append(int(input()))\n",
    "\n",
    "n_list.sort(reverse = True)\n",
    "\n",
    "for j in range(len(n_list)) :\n",
    "    print(n_list[j])"
   ]
  },
  {
   "cell_type": "markdown",
   "id": "e236a99a",
   "metadata": {},
   "source": [
    "### 버블 정렬"
   ]
  },
  {
   "cell_type": "code",
   "execution_count": 7,
   "id": "415c288b",
   "metadata": {},
   "outputs": [
    {
     "name": "stdout",
     "output_type": "stream",
     "text": [
      "5\n",
      "5\n",
      "2\n",
      "3\n",
      "4\n",
      "1\n",
      "1\n",
      "2\n",
      "3\n",
      "4\n",
      "5\n"
     ]
    }
   ],
   "source": [
    "n = int(input()) # N의 개수 입력\n",
    "\n",
    "numbers = []\n",
    "for _ in range(n) :\n",
    "    numbers.append(int(input()))\n",
    "    \n",
    "l = len(numbers)\n",
    "\n",
    "for i in range(l-1) : # 어차피 2개씩 비교하므로 5개면 4번의 경우가 필요 즉) l-1개의 경우\n",
    "    for j in range(l-i-1) : # 버블정렬이라는게 양 옆의 숫자를 각각 비교해주는 것이다.\n",
    "        if numbers[j] > numbers[j+1] :\n",
    "            numbers[j], numbers[j+1] = numbers[j+1], numbers[j]\n",
    "\n",
    "for k in range(l) :\n",
    "    print(numbers[k])"
   ]
  },
  {
   "cell_type": "markdown",
   "id": "26485712",
   "metadata": {},
   "source": [
    "# 버블정렬을 파이썬으로 do-while 문 처럼 생성했을 때"
   ]
  },
  {
   "cell_type": "code",
   "execution_count": null,
   "id": "4de9de03",
   "metadata": {},
   "outputs": [],
   "source": [
    "# 1 <= N <= 1,000\n",
    "# O(N^2), O(N^2 log N)\n",
    "\n",
    "# O(N^2)인 정렬 방법\n",
    "import sys \n",
    "n = int(sys.stdin.readline())\n",
    "l = n\n",
    "\n",
    "nums = [\n",
    "    int(sys.stdin.readline())\n",
    "    for _ in range(n)\n",
    "]\n",
    "\n",
    "def sorting() :\n",
    "    global sorted # boolean 형식도 함수안에서 변경하려면 Global 선언\n",
    "    sorted = True \n",
    "    for i in range(l-1) :\n",
    "        if nums[i] > nums[i+1] :\n",
    "            nums[i], nums[i+1] = nums[i+1], nums[i]\n",
    "            sorted = False \n",
    "\n",
    "# 버블 정렬 \n",
    "sorted = True \n",
    "while 1 :\n",
    "    sorting()\n",
    "    if not sorted : \n",
    "        continue \n",
    "    break\n",
    "    \n",
    "for elem in nums :\n",
    "    print(elem, end = ' ')"
   ]
  },
  {
   "cell_type": "markdown",
   "id": "8dd123c2",
   "metadata": {},
   "source": [
    "### 버블정렬 함수 사용 했을 때"
   ]
  },
  {
   "cell_type": "code",
   "execution_count": 16,
   "id": "77560979",
   "metadata": {},
   "outputs": [
    {
     "name": "stdout",
     "output_type": "stream",
     "text": [
      "5\n",
      "5\n",
      "2\n",
      "3\n",
      "4\n",
      "1\n",
      "1\n",
      "2\n",
      "3\n",
      "4\n",
      "5\n"
     ]
    }
   ],
   "source": [
    "n = int(input())\n",
    "\n",
    "nums = []\n",
    "for _ in range(n) :\n",
    "    nums.append(int(input()))\n",
    "    \n",
    "def bubble_sort(n) :\n",
    "    l = len(n) # 리스트 nums의 개수 \n",
    "    \n",
    "    for i in range(l-1) :\n",
    "        for j in range(l-i-1) :\n",
    "            if n[j] > n[j+1] :\n",
    "                n[j], n[j+1] = n[j+1], n[j]\n",
    "    return n\n",
    "\n",
    "new_nums = bubble_sort(nums)\n",
    "\n",
    "for k in new_nums :\n",
    "    print(k)"
   ]
  },
  {
   "cell_type": "markdown",
   "id": "40d78a0a",
   "metadata": {},
   "source": [
    "### 삽입 정렬"
   ]
  },
  {
   "cell_type": "code",
   "execution_count": 19,
   "id": "841f5ed0",
   "metadata": {},
   "outputs": [
    {
     "name": "stdout",
     "output_type": "stream",
     "text": [
      "5\n",
      "5\n",
      "2\n",
      "3\n",
      "4\n",
      "1\n",
      "1\n",
      "2\n",
      "3\n",
      "4\n",
      "5\n"
     ]
    }
   ],
   "source": [
    "n = int(input())\n",
    "\n",
    "nums = []\n",
    "for _ in range(n) :\n",
    "    nums.append(int(input()))\n",
    "    \n",
    "l = len(nums)\n",
    "                       # 삽입정렬은 인덱스 1부터 시작한다.\n",
    "for i in range(1, l) : # 인덱스 0의 숫자는 왼쪽에 비교할 수가 없다.\n",
    "    for j in range(i, 0, -1) : # nums[j-1]가 있으므로 최소 끝나는 인덱스가 1이 되야함\n",
    "        if nums[j-1] > nums[j] : # 0 - (-1) = 1이 된다 (range안에서)\n",
    "            nums[j-1],nums[j] = nums[j], nums[j-1]\n",
    "\n",
    "for j in nums :\n",
    "    print(j)"
   ]
  },
  {
   "cell_type": "markdown",
   "id": "5c6d6b23",
   "metadata": {},
   "source": [
    "### 삽입정렬 함수 사용 했을 때"
   ]
  },
  {
   "cell_type": "code",
   "execution_count": 20,
   "id": "d91d618c",
   "metadata": {},
   "outputs": [
    {
     "name": "stdout",
     "output_type": "stream",
     "text": [
      "5\n",
      "2\n",
      "3\n",
      "4\n",
      "5\n",
      "1\n",
      "1\n",
      "2\n",
      "3\n",
      "4\n",
      "5\n"
     ]
    }
   ],
   "source": [
    "n = int(input())\n",
    "\n",
    "nums = []\n",
    "for _ in range(n) :\n",
    "    nums.append(int(input()))\n",
    "\n",
    "l = len(nums) # 리스트의 nums의 길이\n",
    "def insert_sort(nums):\n",
    "    for i in range(1, l) :\n",
    "        for j in range(i, 0, -1) :\n",
    "            if nums[j-1] > nums[j] :\n",
    "                nums[j-1],nums[j] = nums[j], nums[j-1]\n",
    "                \n",
    "insert_sort(nums)\n",
    "\n",
    "for i in nums :\n",
    "    print(i)"
   ]
  },
  {
   "cell_type": "markdown",
   "id": "7028373a",
   "metadata": {},
   "source": [
    "### 선택정렬"
   ]
  },
  {
   "cell_type": "code",
   "execution_count": 5,
   "id": "db1b47ee",
   "metadata": {},
   "outputs": [
    {
     "name": "stdout",
     "output_type": "stream",
     "text": [
      "5\n",
      "5\n",
      "2\n",
      "3\n",
      "4\n",
      "1\n",
      "1\n",
      "2\n",
      "3\n",
      "4\n",
      "5\n"
     ]
    }
   ],
   "source": [
    "n = int(input())\n",
    "\n",
    "nums = []\n",
    "for _ in range(n) :\n",
    "    nums.append(int(input()))\n",
    "    \n",
    "l = len(nums) \n",
    "\n",
    "for i in range(l-1) :\n",
    "    idx = i\n",
    "    for j in range(i+1, l) :\n",
    "        if nums[j] < nums[idx] :\n",
    "            idx = j\n",
    "    nums[idx], nums[i] = nums[i], nums[idx]\n",
    "\n",
    "for k in nums :\n",
    "    print(k)"
   ]
  },
  {
   "cell_type": "markdown",
   "id": "527fa329",
   "metadata": {},
   "source": [
    "### 선택정렬 함수 사용했을 때"
   ]
  },
  {
   "cell_type": "code",
   "execution_count": 7,
   "id": "d9dfb0fd",
   "metadata": {},
   "outputs": [
    {
     "name": "stdout",
     "output_type": "stream",
     "text": [
      "5\n",
      "5\n",
      "2\n",
      "3\n",
      "4\n",
      "1\n",
      "1\n",
      "2\n",
      "3\n",
      "4\n",
      "5\n"
     ]
    }
   ],
   "source": [
    "n = int(input())\n",
    "\n",
    "nums = []\n",
    "for _ in range(n) :\n",
    "    nums.append(int(input()))\n",
    "    \n",
    "def Selection_Sort(nums1) :\n",
    "    l = len(nums1)\n",
    "    \n",
    "    for i in range(l-1) :\n",
    "        idx = i\n",
    "        for j in range(i+1, l) :\n",
    "            if nums1[idx] > nums1[j] :\n",
    "                idx = j\n",
    "        nums1[idx], nums1[i] = nums1[i], nums[idx]\n",
    "\n",
    "Selection_Sort(nums)\n",
    "\n",
    "for k in nums :\n",
    "    print(k)\n",
    "        "
   ]
  }
 ],
 "metadata": {
  "kernelspec": {
   "display_name": "Python 3",
   "language": "python",
   "name": "python3"
  },
  "language_info": {
   "codemirror_mode": {
    "name": "ipython",
    "version": 3
   },
   "file_extension": ".py",
   "mimetype": "text/x-python",
   "name": "python",
   "nbconvert_exporter": "python",
   "pygments_lexer": "ipython3",
   "version": "3.8.8"
  }
 },
 "nbformat": 4,
 "nbformat_minor": 5
}
