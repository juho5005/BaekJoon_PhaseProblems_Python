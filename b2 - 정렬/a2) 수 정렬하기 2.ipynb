{
 "cells": [
  {
   "cell_type": "markdown",
   "id": "0805e810",
   "metadata": {},
   "source": [
    "# 수 정렬하기 2\n",
    "문제 풀이 : https://www.notion.so/2751-2-25c247529e124159a63ca2d5488ea603"
   ]
  },
  {
   "cell_type": "markdown",
   "id": "ce9cda8e",
   "metadata": {},
   "source": [
    "리스트의 sort함수를 이용하여 O(N logN)으로 계산한 방법"
   ]
  },
  {
   "cell_type": "code",
   "execution_count": 1,
   "id": "031fe613",
   "metadata": {},
   "outputs": [
    {
     "name": "stdout",
     "output_type": "stream",
     "text": [
      "5\n",
      "5\n",
      "4\n",
      "3\n",
      "2\n",
      "1\n",
      "1\n",
      "2\n",
      "3\n",
      "4\n",
      "5\n"
     ]
    }
   ],
   "source": [
    "n = int(input())\n",
    "\n",
    "nums = []\n",
    "for _ in range(n) :\n",
    "    nums.append(int(input()))\n",
    "nums.sort()\n",
    "\n",
    "for i in nums :\n",
    "    print(i)"
   ]
  },
  {
   "cell_type": "markdown",
   "id": "f65e1238",
   "metadata": {},
   "source": [
    "# 병합 정렬 "
   ]
  },
  {
   "cell_type": "code",
   "execution_count": null,
   "id": "aab520e5",
   "metadata": {},
   "outputs": [],
   "source": [
    "import sys \n",
    "\n",
    "n = int(sys.stdin.readline())\n",
    "nums = [\n",
    "    int(sys.stdin.readline())\n",
    "    for _ in range(n)\n",
    "]\n",
    "\n",
    "# 1 <= N <=1,00,000 O(N), O(N logN), O(logN), O(1) 인데, \n",
    "# 1 <= N <= 1,000,000이므로 좀 더 빡새다 pypy3 로 제출해보기\n",
    "\n",
    "def merge_sort(nums, low, high) :\n",
    "    if low < high :\n",
    "        mid = (low+high) // 2\n",
    "        merge_sort(nums, low, mid)\n",
    "        merge_sort(nums, mid+1, high)\n",
    "        merge(nums, low, mid, high)\n",
    "\n",
    "def merge(nums, low, mid, high) :\n",
    "    merged_sort = []\n",
    "\n",
    "    i = low \n",
    "    j = mid + 1\n",
    "\n",
    "    while i <= mid and j <= high : \n",
    "        if nums[i] <= nums[j] :\n",
    "            merged_sort.append(nums[i])\n",
    "            i += 1\n",
    "        else :\n",
    "            merged_sort.append(nums[j])\n",
    "            j += 1\n",
    "    \n",
    "    while i <= mid :\n",
    "        merged_sort.append(nums[i])\n",
    "        i += 1\n",
    "    \n",
    "    while j <= high :\n",
    "        merged_sort.append(nums[j])\n",
    "        j += 1\n",
    "    \n",
    "    for l in range(low, high+1) :\n",
    "        nums[l] = merged_sort[l-low]\n",
    "\n",
    "    return nums  \n",
    "\n",
    "\n",
    "\n",
    "merge_sort(nums, 0, len(nums) - 1)\n",
    "for elem in nums :\n",
    "    print(elem)"
   ]
  },
  {
   "cell_type": "markdown",
   "id": "9bcb9cb6",
   "metadata": {},
   "source": [
    "# 힙 정렬"
   ]
  },
  {
   "cell_type": "code",
   "execution_count": null,
   "id": "84ed036e",
   "metadata": {},
   "outputs": [],
   "source": [
    "# 힙 정렬 \n",
    "# O(N logN) \n",
    "\n",
    "import sys \n",
    "n = int(sys.stdin.readline())\n",
    "nums = [\n",
    "    int(sys.stdin.readline())\n",
    "    for _ in range(n)\n",
    "]\n",
    "\n",
    "def heapify(nums, n, i) :\n",
    "    largest = i\n",
    "\n",
    "    # idx를 0을 기준으로 하면 조건이 바뀐다.\n",
    "    l = 2 * i + 1\n",
    "    r = 2 * i + 2\n",
    "\n",
    "    if l < n and nums[l] > nums[largest] :\n",
    "        largest = l\n",
    "    if r < n and nums[r] > nums[largest] :\n",
    "        largest = r\n",
    "    \n",
    "    if largest != i :\n",
    "        nums[i], nums[largest] = nums[largest], nums[i]\n",
    "        heapify(nums, n, largest)\n",
    "\n",
    "\n",
    "\n",
    "def heap_sort(nums, n) :\n",
    "    for i in range(n//2-1, -1, -1) :\n",
    "        heapify(nums, n, i)\n",
    "    \n",
    "    for i in range(n-1, 0, -1) :\n",
    "        nums[0], nums[i] = nums[i], nums[0]\n",
    "        heapify(nums, i, 0)\n",
    "\n",
    "heap_sort(nums, n)\n",
    "\n",
    "for elem in nums :\n",
    "    print(elem)"
   ]
  },
  {
   "cell_type": "markdown",
   "id": "6d4f45df",
   "metadata": {},
   "source": [
    "# 퀵 정렬  : 위 문제에서는 통과되지 않는다\n",
    "## 노션 문제풀이에 모두 설명해놓았다."
   ]
  },
  {
   "cell_type": "code",
   "execution_count": null,
   "id": "130ee7ff",
   "metadata": {},
   "outputs": [],
   "source": [
    "# 보통 시간 복잡도가 O(N logN)이나 최악의 경우 O(N^2)이 될 수 있다.\n",
    "# 그래도 장점은 O(N logN)의 시간복잡도를 갖는 병합정렬, 힙 정렬보다 절대적으로\n",
    "# 빠르다는 장점을 가지고 있다.\n",
    "\n",
    "import sys \n",
    "n = int(sys.stdin.readline())\n",
    "nums = [\n",
    "    int(sys.stdin.readline())\n",
    "    for _ in range(n)\n",
    "]\n",
    "\n",
    "def quick_sort(nums, low, high) :\n",
    "    if low < high :\n",
    "        pos = partition(nums, low, high)\n",
    "\n",
    "        quick_sort(nums, low, pos-1)\n",
    "        quick_sort(nums, pos+1, high)\n",
    "\n",
    "def partition(nums, low, high) :\n",
    "    pivot = nums[high]\n",
    "\n",
    "    i = low-1\n",
    "\n",
    "    for j in range(low, high) :\n",
    "        if nums[j] < pivot :\n",
    "            i += 1\n",
    "            nums[i], nums[j] = nums[j], nums[i]\n",
    "    \n",
    "    nums[i+1], nums[high] = nums[high], nums[i+1]\n",
    "\n",
    "    return i+1\n",
    "\n",
    "\n",
    "quick_sort(nums, 0, len(nums) - 1)\n",
    "\n",
    "for elem in nums :\n",
    "    print(elem)"
   ]
  }
 ],
 "metadata": {
  "kernelspec": {
   "display_name": "Python 3",
   "language": "python",
   "name": "python3"
  },
  "language_info": {
   "codemirror_mode": {
    "name": "ipython",
    "version": 3
   },
   "file_extension": ".py",
   "mimetype": "text/x-python",
   "name": "python",
   "nbconvert_exporter": "python",
   "pygments_lexer": "ipython3",
   "version": "3.8.8"
  }
 },
 "nbformat": 4,
 "nbformat_minor": 5
}
