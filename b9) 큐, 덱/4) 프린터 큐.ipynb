{
 "cells": [
  {
   "cell_type": "code",
   "execution_count": null,
   "id": "2fd1bff7",
   "metadata": {},
   "outputs": [],
   "source": [
    "# 프린터 큐\n",
    "# 문서의 수와 중요도가 주어졌을 때\n",
    "# 어떤 한 문서가 몇 번째로 인쇄되는지 알아내는 것이다.\n",
    "\n",
    "from collections import deque\n",
    "import sys\n",
    "t = int(sys.stdin.readline())  # 테스트 케이스의 개수\n",
    "# 1 <= N <= 100\n",
    "\n",
    "for _ in range(t):\n",
    "    # 문서의 개수, 몇 번째 문서가 궁굼한지\n",
    "    n, m = tuple(map(int, sys.stdin.readline().split()))\n",
    "    # 1 <= N <= 100\n",
    "\n",
    "    # 중요도\n",
    "    importance = list(map(int, sys.stdin.readline().split()))\n",
    "\n",
    "    q = deque()\n",
    "    # 큐에 넣어준다\n",
    "    for idx, elem in enumerate(importance):\n",
    "        q.append((idx, elem))\n",
    "\n",
    "    std_i = 0\n",
    "    cnt = 1\n",
    "    check_num = (-1, -1)\n",
    "    start = 0\n",
    "\n",
    "    while check_num[0] != m:\n",
    "\n",
    "        checking = True\n",
    "        for i in range(1, len(q)):\n",
    "            if q[std_i][1] < q[i][1]:\n",
    "                checking = False\n",
    "                break\n",
    "\n",
    "        if not checking:\n",
    "            q.append(q.popleft())\n",
    "        else:\n",
    "            check_num = q.popleft()\n",
    "            start += 1\n",
    "\n",
    "    print(start)"
   ]
  }
 ],
 "metadata": {
  "kernelspec": {
   "display_name": "Python 3",
   "language": "python",
   "name": "python3"
  },
  "language_info": {
   "codemirror_mode": {
    "name": "ipython",
    "version": 3
   },
   "file_extension": ".py",
   "mimetype": "text/x-python",
   "name": "python",
   "nbconvert_exporter": "python",
   "pygments_lexer": "ipython3",
   "version": "3.8.8"
  }
 },
 "nbformat": 4,
 "nbformat_minor": 5
}
