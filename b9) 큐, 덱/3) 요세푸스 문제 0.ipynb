{
 "cells": [
  {
   "cell_type": "code",
   "execution_count": null,
   "id": "dcda27db",
   "metadata": {},
   "outputs": [],
   "source": [
    "# 요세푸스 문제 0\n",
    "\n",
    "# 1번 ~ N번까지 N명의 사람이 원을 이루면서 앉아있다.\n",
    "# 양의 정수 K(<=N)\n",
    "# 순서대로 K번째 사람을 제거\n",
    "# N과 K가 주어졌을 때 (N, K)-요세푸스 순열을 구하시오\n",
    "\n",
    "from collections import deque\n",
    "import sys\n",
    "n, k = tuple(map(int, sys.stdin.readline().split()))\n",
    "# 1 <= K<=N <= 1,000\n",
    "q = deque()\n",
    "\n",
    "for i in range(1, n+1):\n",
    "    q.append(i)\n",
    "\n",
    "result = []\n",
    "while q:\n",
    "    for _ in range(k-1):\n",
    "        q.append(q.popleft())\n",
    "    result.append(q.popleft())\n",
    "\n",
    "print(\"<\", end='')\n",
    "print(\", \".join(str(elem) for elem in result), end='')\n",
    "print(\">\")"
   ]
  }
 ],
 "metadata": {
  "kernelspec": {
   "display_name": "Python 3",
   "language": "python",
   "name": "python3"
  },
  "language_info": {
   "codemirror_mode": {
    "name": "ipython",
    "version": 3
   },
   "file_extension": ".py",
   "mimetype": "text/x-python",
   "name": "python",
   "nbconvert_exporter": "python",
   "pygments_lexer": "ipython3",
   "version": "3.8.8"
  }
 },
 "nbformat": 4,
 "nbformat_minor": 5
}
