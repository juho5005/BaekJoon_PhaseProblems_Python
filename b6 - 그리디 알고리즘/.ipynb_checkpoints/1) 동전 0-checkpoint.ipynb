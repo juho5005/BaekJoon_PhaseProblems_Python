{
 "cells": [
  {
   "cell_type": "markdown",
   "id": "00b1ba31",
   "metadata": {},
   "source": [
    "# 동전 0"
   ]
  },
  {
   "cell_type": "markdown",
   "id": "bbb57468",
   "metadata": {},
   "source": [
    "준규가 가지고 있는 동전은 총 N종류, 각각의 동전은 매우 많이 가지고 있다.\n",
    "동전을 적절히 사용해서, 그 가치의 합을 K로 만들려고 한다.\n",
    "-> 이때 필요한 동전 개수의 최솟값은?"
   ]
  },
  {
   "cell_type": "code",
   "execution_count": 11,
   "id": "a1206c5b",
   "metadata": {},
   "outputs": [
    {
     "name": "stdout",
     "output_type": "stream",
     "text": [
      "10 4790\n",
      "1\n",
      "5\n",
      "10\n",
      "50\n",
      "100\n",
      "500\n",
      "1000\n",
      "5000\n",
      "10000\n",
      "50000\n",
      "12\n"
     ]
    }
   ],
   "source": [
    "n,k = map(int,input().split()) # n:동전의 종류, k:가치의 합 \n",
    "\n",
    "values = [] # 동전의 가치들\n",
    "for _ in range(n) :\n",
    "    values.append(int(input()))\n",
    "\n",
    "seq = 0\n",
    "for i in range(n-1, -1, -1) :\n",
    "    if values[i] <= k :\n",
    "        seq = i # seq인덱스부터 인덱스를 낮춰가면서 확인해준다.\n",
    "        break\n",
    "    \n",
    "cnt = 0\n",
    "while k > 0 :\n",
    "    if values[seq] > k :\n",
    "        seq -= 1\n",
    "    else :\n",
    "        cnt = cnt + (k // values[seq])\n",
    "        k = k % values[seq]\n",
    "        seq -= 1\n",
    "\n",
    "print(cnt)"
   ]
  },
  {
   "cell_type": "markdown",
   "id": "63019bea",
   "metadata": {},
   "source": [
    "굳이 seq를 찾지않고, 조건을 나누지 않아도 구할 수 있다.\n",
    "어느 인덱스 부터 k값보다 작아지는 조건문을 돌리는 시간을 쓰느리 걍\n",
    "모든 경우를 계산해도 똑같은 시간이 나온다. 빠르게 이 방식으로 풀기"
   ]
  },
  {
   "cell_type": "code",
   "execution_count": 14,
   "id": "a37e8932",
   "metadata": {},
   "outputs": [
    {
     "name": "stdout",
     "output_type": "stream",
     "text": [
      "10 4790\n",
      "1\n",
      "5\n",
      "10\n",
      "50\n",
      "100\n",
      "500\n",
      "1000\n",
      "5000\n",
      "10000\n",
      "50000\n",
      "12\n"
     ]
    }
   ],
   "source": [
    "n,k = map(int,input().split()) # n:동전의 종류, k:가치의 합 \n",
    "\n",
    "values = [] # 동전의 가치들\n",
    "for _ in range(n) :\n",
    "    values.append(int(input()))\n",
    "    \n",
    "cnt = 0\n",
    "for i in range(n-1, -1, -1) :\n",
    "    cnt += (k//values[i])\n",
    "    k %= values[i]\n",
    "print(cnt)"
   ]
  },
  {
   "cell_type": "code",
   "execution_count": null,
   "id": "f5c5b1a1",
   "metadata": {},
   "outputs": [],
   "source": []
  }
 ],
 "metadata": {
  "kernelspec": {
   "display_name": "Python 3",
   "language": "python",
   "name": "python3"
  },
  "language_info": {
   "codemirror_mode": {
    "name": "ipython",
    "version": 3
   },
   "file_extension": ".py",
   "mimetype": "text/x-python",
   "name": "python",
   "nbconvert_exporter": "python",
   "pygments_lexer": "ipython3",
   "version": "3.8.8"
  }
 },
 "nbformat": 4,
 "nbformat_minor": 5
}
