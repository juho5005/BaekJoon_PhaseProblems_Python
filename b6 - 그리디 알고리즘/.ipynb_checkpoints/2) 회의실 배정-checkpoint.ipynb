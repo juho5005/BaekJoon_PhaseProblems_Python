{
 "cells": [
  {
   "cell_type": "markdown",
   "id": "f9361b78",
   "metadata": {},
   "source": [
    "# 회의실 배정\n",
    "문제 풀이 : https://www.notion.so/1931-8b863060364d47d08b16911e32b1c2ac"
   ]
  },
  {
   "cell_type": "markdown",
   "id": "87d030c8",
   "metadata": {},
   "source": [
    "한 개의 회의실이 존재할 때, N개의 회의에 대하여 회의실 사용표를 만듬\n",
    "\n",
    "각 회의 I에 대해 시작시간, 끝나는 시간이 주어져있고, 회의는 겹치지 않으면서, 회의의 최대 개수는?\n",
    "\n",
    "단) 회의가 끝나는 것과 동시에 다음 회의가 시작될 수 있다."
   ]
  },
  {
   "cell_type": "code",
   "execution_count": 9,
   "id": "ce41d3cb",
   "metadata": {},
   "outputs": [
    {
     "name": "stdout",
     "output_type": "stream",
     "text": [
      "11\n",
      "1 4\n",
      "3 5\n",
      "0 6\n",
      "5 7\n",
      "3 8\n",
      "5 9\n",
      "6 10\n",
      "8 11\n",
      "8 12\n",
      "2 13\n",
      "12 14\n",
      "4\n"
     ]
    }
   ],
   "source": [
    "n = int(input()) # 회의의 수\n",
    "\n",
    "conf = [] # 각 회의의 정보를 2차원 리스트로 입력 (start, end)\n",
    "for _ in range(n) :\n",
    "    start,end = list(map(int, input().split()))\n",
    "    conf.append((start, end))\n",
    "\n",
    "s = sorted(conf, key = lambda data : (data[1], data[0]))\n",
    "\n",
    "cnt = 0\n",
    "start_point = 0\n",
    "for i in s :\n",
    "    if i[0] >= start_point :\n",
    "        cnt += 1\n",
    "        start_point = i[1]\n",
    "print(cnt)"
   ]
  },
  {
   "cell_type": "markdown",
   "id": "eaa8e10c",
   "metadata": {},
   "source": [
    "시간 고려를 위해서 sys로 바꿔준다."
   ]
  },
  {
   "cell_type": "code",
   "execution_count": null,
   "id": "c9fe24ee",
   "metadata": {},
   "outputs": [],
   "source": [
    "import sys\n",
    "n = int(input()) # 회의의 수\n",
    "\n",
    "conf = [] # 각 회의의 정보를 2차원 리스트로 입력 (start, end)\n",
    "for _ in range(n) :\n",
    "    start,end = list(map(int, sys.stdin.readline().split()))\n",
    "    conf.append((start, end))\n",
    "\n",
    "s = sorted(conf, key = lambda data : (data[1], data[0]))\n",
    "\n",
    "cnt = 0\n",
    "start_point = 0\n",
    "for i in s :\n",
    "    if i[0] >= start_point : # \n",
    "        cnt += 1\n",
    "        start_point = i[1]\n",
    "print(cnt)"
   ]
  }
 ],
 "metadata": {
  "kernelspec": {
   "display_name": "Python 3",
   "language": "python",
   "name": "python3"
  },
  "language_info": {
   "codemirror_mode": {
    "name": "ipython",
    "version": 3
   },
   "file_extension": ".py",
   "mimetype": "text/x-python",
   "name": "python",
   "nbconvert_exporter": "python",
   "pygments_lexer": "ipython3",
   "version": "3.8.8"
  }
 },
 "nbformat": 4,
 "nbformat_minor": 5
}
