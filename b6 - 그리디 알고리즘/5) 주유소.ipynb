{
 "cells": [
  {
   "cell_type": "markdown",
   "id": "f0f0133d",
   "metadata": {},
   "source": [
    "# 주유소"
   ]
  },
  {
   "cell_type": "markdown",
   "id": "5f68b8ca",
   "metadata": {},
   "source": [
    "최소 비용으로 주유하여 일직선 도로를 달리는 문제"
   ]
  },
  {
   "cell_type": "code",
   "execution_count": 4,
   "id": "85050d6a",
   "metadata": {},
   "outputs": [
    {
     "name": "stdout",
     "output_type": "stream",
     "text": [
      "4 \n",
      "3 3 4\n",
      "1 1 1 1\n",
      "10\n"
     ]
    }
   ],
   "source": [
    "n = int(input()) # 도시의 개수를 나타내는 정수 N\n",
    "\n",
    "roads = list(map(int, input().split())) # 두 도시를 연결하는 도로의 길이 N-1개\n",
    "costs = list(map(int, input().split())) # 각 도시의 리터당 가격 N개 입력\n",
    "\n",
    "# 결괏값 : 첫 번째 도시와 두 번째 도시의 거리와 첫번째 도시의 리터 가격은 반드시 반영됨\n",
    "result = roads[0] * costs[0] \n",
    "\n",
    "m = costs[0] # 최솟값을 costs[0]으로 가정\n",
    "\n",
    "for i in range(1,n-1) :\n",
    "    if m > costs[i] :\n",
    "        m = costs[i]\n",
    "    result += m * roads[i]\n",
    "print(result)\n"
   ]
  }
 ],
 "metadata": {
  "kernelspec": {
   "display_name": "Python 3",
   "language": "python",
   "name": "python3"
  },
  "language_info": {
   "codemirror_mode": {
    "name": "ipython",
    "version": 3
   },
   "file_extension": ".py",
   "mimetype": "text/x-python",
   "name": "python",
   "nbconvert_exporter": "python",
   "pygments_lexer": "ipython3",
   "version": "3.8.8"
  }
 },
 "nbformat": 4,
 "nbformat_minor": 5
}
