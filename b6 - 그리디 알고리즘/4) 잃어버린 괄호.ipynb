{
 "cells": [
  {
   "cell_type": "markdown",
   "id": "24f69014",
   "metadata": {},
   "source": [
    "# 잃어버린 괄호\n",
    "문제 풀이 : https://www.notion.so/1541-0314e0e6b23d49878354a16c6c01d9c6"
   ]
  },
  {
   "cell_type": "markdown",
   "id": "78229a3b",
   "metadata": {},
   "source": [
    "'양수', '+', '-', '()\"를 가지고 식을 만들었다. -> 그리고 괄호를 모두 지웠다.\n",
    "괄호를 적절히 쳐서 이 식의 값을 최소로 만들려고 한다.\n",
    "괄호를 적절히 쳐서 이 식의 값을 최소로 만드는 프로그램을 작성하시오."
   ]
  },
  {
   "cell_type": "code",
   "execution_count": 12,
   "id": "5578040f",
   "metadata": {},
   "outputs": [
    {
     "name": "stdout",
     "output_type": "stream",
     "text": [
      "55-50+40\n",
      "-35\n"
     ]
    }
   ],
   "source": [
    "formula = input().split('-')\n",
    "\n",
    "result = 0\n",
    "for i in formula[0].split('+') :\n",
    "    result += int(i)\n",
    "for i in formula[1:] :\n",
    "    for j in i.split('+') :\n",
    "        result -= int(j)\n",
    "print(result)"
   ]
  },
  {
   "cell_type": "code",
   "execution_count": null,
   "id": "ff119662",
   "metadata": {},
   "outputs": [],
   "source": []
  }
 ],
 "metadata": {
  "kernelspec": {
   "display_name": "Python 3",
   "language": "python",
   "name": "python3"
  },
  "language_info": {
   "codemirror_mode": {
    "name": "ipython",
    "version": 3
   },
   "file_extension": ".py",
   "mimetype": "text/x-python",
   "name": "python",
   "nbconvert_exporter": "python",
   "pygments_lexer": "ipython3",
   "version": "3.8.8"
  }
 },
 "nbformat": 4,
 "nbformat_minor": 5
}
