{
 "cells": [
  {
   "cell_type": "markdown",
   "id": "acc9252e",
   "metadata": {},
   "source": [
    "# ATM"
   ]
  },
  {
   "cell_type": "markdown",
   "id": "05095f9f",
   "metadata": {},
   "source": [
    "줄을 서 있는 사람의 수 : N\n",
    "각 사람이 돈을 인출하는데 걸리는 시간 : Pi 가 주어졌을 때,\n",
    "각 사람이 돈을 인출하는데 필요한 시간의 합의 최솟값을 구하라"
   ]
  },
  {
   "cell_type": "code",
   "execution_count": 1,
   "id": "22ea2806",
   "metadata": {},
   "outputs": [
    {
     "name": "stdout",
     "output_type": "stream",
     "text": [
      "5\n",
      "3 1 4 3 2\n",
      "32\n"
     ]
    }
   ],
   "source": [
    "n = int(input()) # 사람의 수\n",
    "\n",
    "times = list(map(int, input().split()))\n",
    "times.sort()\n",
    "\n",
    "result = 0\n",
    "interval = 0\n",
    "for i in times : \n",
    "    interval += i \n",
    "    result += interval\n",
    "print(result)\n",
    "    "
   ]
  },
  {
   "cell_type": "code",
   "execution_count": null,
   "id": "5ea5ce6b",
   "metadata": {},
   "outputs": [],
   "source": []
  }
 ],
 "metadata": {
  "kernelspec": {
   "display_name": "Python 3",
   "language": "python",
   "name": "python3"
  },
  "language_info": {
   "codemirror_mode": {
    "name": "ipython",
    "version": 3
   },
   "file_extension": ".py",
   "mimetype": "text/x-python",
   "name": "python",
   "nbconvert_exporter": "python",
   "pygments_lexer": "ipython3",
   "version": "3.8.8"
  }
 },
 "nbformat": 4,
 "nbformat_minor": 5
}
