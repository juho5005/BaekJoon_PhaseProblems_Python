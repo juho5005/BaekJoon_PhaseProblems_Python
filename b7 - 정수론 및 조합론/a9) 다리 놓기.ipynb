{
 "cells": [
  {
   "cell_type": "markdown",
   "id": "def3c6a6",
   "metadata": {},
   "source": [
    "### mCn이 문제의 답임을 알고 일일이 구현한 풀이"
   ]
  },
  {
   "cell_type": "code",
   "execution_count": null,
   "id": "7852033c",
   "metadata": {},
   "outputs": [],
   "source": [
    "import sys\n",
    "t = int(sys.stdin.readline())\n",
    "# mCn 을 구하면 정답이 도출된다.\n",
    "\n",
    "for _ in range(t):\n",
    "    n, m = tuple(map(int, sys.stdin.readline().split()))\n",
    "    # 0< N<=M < 30\n",
    "\n",
    "    # 분자 구하기\n",
    "    a = 1\n",
    "    p = m\n",
    "    for _ in range(n):\n",
    "        a *= p\n",
    "        p -= 1\n",
    "\n",
    "    # 분모 구하기\n",
    "    b = 1\n",
    "    q = n\n",
    "    for _ in range(n):\n",
    "        b *= n\n",
    "        n -= 1\n",
    "\n",
    "    print(a//b)"
   ]
  },
  {
   "cell_type": "markdown",
   "id": "2e62df40",
   "metadata": {},
   "source": [
    "### mCn = m! // n! * (m-n)! 임을 이용한 풀이"
   ]
  },
  {
   "cell_type": "code",
   "execution_count": null,
   "id": "d7cd6f66",
   "metadata": {},
   "outputs": [],
   "source": [
    "# 다리 놓기\n",
    "# 강의 서쪽에는 N개 동쪽에는 M개의 사이트가 존재\n",
    "# (N <= M)\n",
    "\n",
    "# 한 사이트에서는 최대 한 개의 다리만 연결 가능하다\n",
    "# 다리를 최대한 많이 지으려고 하기 때문에 서쪽의 사이트 개수만큼(N개) 다리를 지으려고 한다.\n",
    "# 다리를 지을 수 있는 경우의 수를 구하시오.\n",
    "\n",
    "import sys\n",
    "import math\n",
    "t = int(sys.stdin.readline())\n",
    "# mCn 을 구하면 정답이 도출된다.\n",
    "# m! // n!(m-n)!\n",
    "\n",
    "for _ in range(t):\n",
    "    n, m = tuple(map(int, sys.stdin.readline().split()))\n",
    "    # 0< N<=M < 30\n",
    "\n",
    "    print(math.factorial(m) // (math.factorial(n) * math.factorial(m-n)))"
   ]
  },
  {
   "cell_type": "markdown",
   "id": "66121d6a",
   "metadata": {},
   "source": [
    "### math 모듈의 comb함수를 이용한 풀이"
   ]
  },
  {
   "cell_type": "code",
   "execution_count": null,
   "id": "e3147172",
   "metadata": {},
   "outputs": [],
   "source": [
    "# 다리 놓기\n",
    "# 강의 서쪽에는 N개 동쪽에는 M개의 사이트가 존재\n",
    "# (N <= M)\n",
    "\n",
    "# 한 사이트에서는 최대 한 개의 다리만 연결 가능하다\n",
    "# 다리를 최대한 많이 지으려고 하기 때문에 서쪽의 사이트 개수만큼(N개) 다리를 지으려고 한다.\n",
    "# 다리를 지을 수 있는 경우의 수를 구하시오.\n",
    "\n",
    "import sys\n",
    "import math\n",
    "t = int(sys.stdin.readline())\n",
    "# mCn 을 구하면 정답이 도출된다.\n",
    "# m! // n!(m-n)!\n",
    "\n",
    "for _ in range(t):\n",
    "    n, m = tuple(map(int, sys.stdin.readline().split()))\n",
    "    # 0< N<=M < 30\n",
    "\n",
    "    print(math.comb(m, n))"
   ]
  }
 ],
 "metadata": {
  "kernelspec": {
   "display_name": "Python 3",
   "language": "python",
   "name": "python3"
  },
  "language_info": {
   "codemirror_mode": {
    "name": "ipython",
    "version": 3
   },
   "file_extension": ".py",
   "mimetype": "text/x-python",
   "name": "python",
   "nbconvert_exporter": "python",
   "pygments_lexer": "ipython3",
   "version": "3.8.8"
  }
 },
 "nbformat": 4,
 "nbformat_minor": 5
}
