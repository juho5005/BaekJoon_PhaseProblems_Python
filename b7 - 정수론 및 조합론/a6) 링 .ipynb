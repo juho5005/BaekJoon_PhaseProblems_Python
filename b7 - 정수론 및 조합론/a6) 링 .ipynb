{
 "cells": [
  {
   "cell_type": "markdown",
   "id": "1fa45f7e",
   "metadata": {},
   "source": [
    "### gcd 구현 후 해결한 풀이 "
   ]
  },
  {
   "cell_type": "code",
   "execution_count": null,
   "id": "dd678e69",
   "metadata": {},
   "outputs": [],
   "source": [
    "# 첫 번째 링을 한 바퀴 돌리면, 나머지 링은 몇 바퀴 돌아가는지 구하시오.\n",
    "\n",
    "import sys\n",
    "n = int(sys.stdin.readline())  # 3 <= N <= 100\n",
    "radius = list(map(int, sys.stdin.readline().split()))  # 1<= r <= 1000\n",
    "\n",
    "std_r = radius[0]\n",
    "\n",
    "\n",
    "def gcd(num1, num2):\n",
    "    if num1 > num2:\n",
    "        while num2 > 0:\n",
    "            num1, num2 = num2, num1 % num2\n",
    "        return num1\n",
    "    else:\n",
    "        while num1 > 0:\n",
    "            num2, num1 = num1, num2 % num1\n",
    "        return num2\n",
    "\n",
    "for i in range(1, len(radius)):\n",
    "    print(f'{std_r//gcd(std_r, radius[i])}/{radius[i]//gcd(std_r, radius[i])}')"
   ]
  },
  {
   "cell_type": "markdown",
   "id": "3d7ece41",
   "metadata": {},
   "source": [
    "### math 함수의 gcd 모듈 사용"
   ]
  },
  {
   "cell_type": "code",
   "execution_count": null,
   "id": "d9683ddb",
   "metadata": {},
   "outputs": [],
   "source": [
    "# 첫 번째 링을 한 바퀴 돌리면, 나머지 링은 몇 바퀴 돌아가는지 구하시오.\n",
    "\n",
    "import math\n",
    "import sys\n",
    "n = int(sys.stdin.readline())  # 3 <= N <= 100\n",
    "radius = list(map(int, sys.stdin.readline().split()))  # 1<= r <= 1000\n",
    "\n",
    "std_r = radius[0]\n",
    "\n",
    "for i in range(1, len(radius)):\n",
    "    print(\n",
    "        f'{std_r//math.gcd(std_r, radius[i])}/{radius[i]//math.gcd(std_r, radius[i])}')"
   ]
  }
 ],
 "metadata": {
  "kernelspec": {
   "display_name": "Python 3",
   "language": "python",
   "name": "python3"
  },
  "language_info": {
   "codemirror_mode": {
    "name": "ipython",
    "version": 3
   },
   "file_extension": ".py",
   "mimetype": "text/x-python",
   "name": "python",
   "nbconvert_exporter": "python",
   "pygments_lexer": "ipython3",
   "version": "3.8.8"
  }
 },
 "nbformat": 4,
 "nbformat_minor": 5
}
