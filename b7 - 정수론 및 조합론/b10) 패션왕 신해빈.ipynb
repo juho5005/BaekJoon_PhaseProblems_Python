{
 "cells": [
  {
   "cell_type": "markdown",
   "id": "24cfbb3f",
   "metadata": {},
   "source": [
    "문제 풀이 : https://raspy-turnip-f8d.notion.site/9375-0aa383ccdb7f42f8b36c8575b21a1605"
   ]
  },
  {
   "cell_type": "markdown",
   "id": "bae34601",
   "metadata": {},
   "source": [
    "### Dictionary를 사용한 코드 "
   ]
  },
  {
   "cell_type": "code",
   "execution_count": null,
   "id": "740bbbde",
   "metadata": {},
   "outputs": [],
   "source": [
    "import sys\n",
    "t = int(sys.stdin.readline())\n",
    "\n",
    "for _ in range(t):\n",
    "    n = int(sys.stdin.readline())\n",
    "\n",
    "    kind_wear = {}\n",
    "    for _ in range(n):\n",
    "        wears = sys.stdin.readline().rstrip().split()\n",
    "\n",
    "        if wears[1] not in kind_wear:\n",
    "            kind_wear[wears[1]] = 1\n",
    "        else:\n",
    "            kind_wear[wears[1]] += 1\n",
    "\n",
    "    result = 1\n",
    "\n",
    "    for elem in kind_wear.keys():\n",
    "        result *= (kind_wear[elem] + 1)\n",
    "\n",
    "    print(result-1)"
   ]
  },
  {
   "cell_type": "markdown",
   "id": "41d7b7ed",
   "metadata": {},
   "source": [
    "### Counter 모듈을 사용한 코드 "
   ]
  },
  {
   "cell_type": "code",
   "execution_count": null,
   "id": "afdec513",
   "metadata": {},
   "outputs": [],
   "source": [
    "import sys\n",
    "from collections import Counter\n",
    "t = int(sys.stdin.readline())\n",
    "\n",
    "for _ in range(t):\n",
    "    n = int(sys.stdin.readline())\n",
    "\n",
    "    kind_wear = []\n",
    "    for _ in range(n):\n",
    "        wears = sys.stdin.readline().rstrip().split()\n",
    "        kind_wear.append(wears[1])\n",
    "\n",
    "    cnt_wear = Counter(kind_wear)\n",
    "\n",
    "    result = 1\n",
    "    for v in cnt_wear.values():\n",
    "        result *= (v+1)\n",
    "    print(result-1)"
   ]
  }
 ],
 "metadata": {
  "kernelspec": {
   "display_name": "Python 3",
   "language": "python",
   "name": "python3"
  },
  "language_info": {
   "codemirror_mode": {
    "name": "ipython",
    "version": 3
   },
   "file_extension": ".py",
   "mimetype": "text/x-python",
   "name": "python",
   "nbconvert_exporter": "python",
   "pygments_lexer": "ipython3",
   "version": "3.8.8"
  }
 },
 "nbformat": 4,
 "nbformat_minor": 5
}
