{
 "cells": [
  {
   "cell_type": "code",
   "execution_count": null,
   "id": "e264d6dd",
   "metadata": {},
   "outputs": [],
   "source": [
    "import sys\n",
    "while 1:\n",
    "    a, b = tuple(map(int, sys.stdin.readline().split()))\n",
    "\n",
    "    if a == 0 and b == 0:\n",
    "        break\n",
    "\n",
    "    if b % a == 0:\n",
    "        print(\"factor\")\n",
    "    elif a % b == 0:\n",
    "        print(\"multiple\")\n",
    "    else:\n",
    "        print(\"neither\")"
   ]
  }
 ],
 "metadata": {
  "kernelspec": {
   "display_name": "Python 3",
   "language": "python",
   "name": "python3"
  },
  "language_info": {
   "codemirror_mode": {
    "name": "ipython",
    "version": 3
   },
   "file_extension": ".py",
   "mimetype": "text/x-python",
   "name": "python",
   "nbconvert_exporter": "python",
   "pygments_lexer": "ipython3",
   "version": "3.8.8"
  }
 },
 "nbformat": 4,
 "nbformat_minor": 5
}
