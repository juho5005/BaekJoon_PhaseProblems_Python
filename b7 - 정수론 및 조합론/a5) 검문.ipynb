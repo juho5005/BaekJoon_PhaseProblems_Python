{
 "cells": [
  {
   "cell_type": "markdown",
   "id": "00263d7d",
   "metadata": {},
   "source": [
    "문제 풀이 : https://raspy-turnip-f8d.notion.site/2981-345ab94a195c43af958c66618b203df3"
   ]
  },
  {
   "cell_type": "code",
   "execution_count": null,
   "id": "6063f703",
   "metadata": {},
   "outputs": [],
   "source": [
    "# 검문\n",
    "# 근처에 보이는 숫자 N개를 종이에 적는다\n",
    "# 종이에 적은 수를 M으로 나누었을 때 나머지가 모두 같게 되는 M을 모두 찾으려고한다.\n",
    "# 단) M은 1보다 커야 한다.\n",
    "\n",
    "# N개의 수가 주어졌을 때 가능한 M을 모두 찾는 프로그램을 작성\n",
    "# 항상 m이 하나 이상은 존재한다.\n",
    "\n",
    "import sys\n",
    "import math\n",
    "n = int(sys.stdin.readline())\n",
    "# 2 <= N <= 100\n",
    "\n",
    "nums = [\n",
    "    int(sys.stdin.readline())\n",
    "    for _ in range(n)\n",
    "]  # 1 <= num <= 1,000,000,000 (자연수)\n",
    "\n",
    "nums.sort()  # 주어진 수들을 오름차순 정렬\n",
    "nums_diff = []\n",
    "for i in range(n-1):\n",
    "    nums_diff.append(nums[i+1] - nums[i])\n",
    "\n",
    "gcd_num = nums_diff[0]\n",
    "for i in range(1, n-1):\n",
    "    gcd_num = math.gcd(gcd_num, nums_diff[i])\n",
    "\n",
    "ans = []\n",
    "for i in range(2, int(math.sqrt(gcd_num)) + 1):  # 제곱근까지만 탐색한다.\n",
    "    if gcd_num % i == 0:\n",
    "        ans.append(i)\n",
    "        ans.append(gcd_num//i)\n",
    "\n",
    "# 자기 자신도 빼먹지 말고 넣어준다.\n",
    "ans.append(gcd_num)\n",
    "\n",
    "# 중복이 존재할 수도 있으니 제거한다.\n",
    "ans = list(set(ans))\n",
    "\n",
    "# 오름차순으로 정렬해야 하므로 정렬해준다.\n",
    "ans.sort()\n",
    "\n",
    "print(*ans)"
   ]
  }
 ],
 "metadata": {
  "kernelspec": {
   "display_name": "Python 3",
   "language": "python",
   "name": "python3"
  },
  "language_info": {
   "codemirror_mode": {
    "name": "ipython",
    "version": 3
   },
   "file_extension": ".py",
   "mimetype": "text/x-python",
   "name": "python",
   "nbconvert_exporter": "python",
   "pygments_lexer": "ipython3",
   "version": "3.8.8"
  }
 },
 "nbformat": 4,
 "nbformat_minor": 5
}
