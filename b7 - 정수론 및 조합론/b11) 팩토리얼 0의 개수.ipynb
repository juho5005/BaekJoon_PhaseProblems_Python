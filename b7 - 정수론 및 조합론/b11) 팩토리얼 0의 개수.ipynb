{
 "cells": [
  {
   "cell_type": "markdown",
   "id": "611c0232",
   "metadata": {},
   "source": [
    "문제 풀이 : https://raspy-turnip-f8d.notion.site/1676-0-b0ede2f0d68d4f1a89322e773047f90d"
   ]
  },
  {
   "cell_type": "code",
   "execution_count": null,
   "id": "769ef2d8",
   "metadata": {},
   "outputs": [],
   "source": [
    "# 팩토리얼 0의 개수\n",
    "\n",
    "# N!에서 뒤에서부터 처음 0이 아닌 숫자가 나올 때까지 0의 개수를 구하시오\n",
    "\n",
    "import math\n",
    "import sys\n",
    "n = int(sys.stdin.readline())\n",
    "# 0 <= N <= 500\n",
    "\n",
    "cnt = 0\n",
    "while n > 0:\n",
    "    cnt += n // 5\n",
    "    n //= 5\n",
    "\n",
    "print(cnt)\n"
   ]
  }
 ],
 "metadata": {
  "kernelspec": {
   "display_name": "Python 3",
   "language": "python",
   "name": "python3"
  },
  "language_info": {
   "codemirror_mode": {
    "name": "ipython",
    "version": 3
   },
   "file_extension": ".py",
   "mimetype": "text/x-python",
   "name": "python",
   "nbconvert_exporter": "python",
   "pygments_lexer": "ipython3",
   "version": "3.8.8"
  }
 },
 "nbformat": 4,
 "nbformat_minor": 5
}
