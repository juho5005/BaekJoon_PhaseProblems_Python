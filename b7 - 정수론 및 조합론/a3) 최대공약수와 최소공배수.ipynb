{
 "cells": [
  {
   "cell_type": "markdown",
   "id": "3f3b36cd",
   "metadata": {},
   "source": [
    "### gcd, lcm 구현 "
   ]
  },
  {
   "cell_type": "code",
   "execution_count": null,
   "id": "73bd817a",
   "metadata": {},
   "outputs": [],
   "source": [
    "import sys\n",
    "a, b = tuple(map(int, sys.stdin.readline().split()))\n",
    "\n",
    "def gcd(a, b):\n",
    "    while b > 0:\n",
    "        a, b = b, a % b\n",
    "    return a\n",
    "\n",
    "# 최대공약수\n",
    "print(gcd(a, b))\n",
    "\n",
    "# 최소공배수\n",
    "print(a*b // gcd(a, b))"
   ]
  },
  {
   "cell_type": "markdown",
   "id": "3cabeeda",
   "metadata": {},
   "source": [
    "### math 모듈의 gcd, lcm을 이용하는 방법 "
   ]
  },
  {
   "cell_type": "code",
   "execution_count": null,
   "id": "1815986b",
   "metadata": {},
   "outputs": [],
   "source": [
    "import sys\n",
    "import math\n",
    "\n",
    "a, b = tuple(map(int, sys.stdin.readline().split()))\n",
    "\n",
    "# 최대공약수\n",
    "print(math.gcd(a, b))\n",
    "# 최소공배수\n",
    "print(math.lcm(a, b))"
   ]
  }
 ],
 "metadata": {
  "kernelspec": {
   "display_name": "Python 3",
   "language": "python",
   "name": "python3"
  },
  "language_info": {
   "codemirror_mode": {
    "name": "ipython",
    "version": 3
   },
   "file_extension": ".py",
   "mimetype": "text/x-python",
   "name": "python",
   "nbconvert_exporter": "python",
   "pygments_lexer": "ipython3",
   "version": "3.8.8"
  }
 },
 "nbformat": 4,
 "nbformat_minor": 5
}
