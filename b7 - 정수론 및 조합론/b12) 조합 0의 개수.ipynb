{
 "cells": [
  {
   "cell_type": "markdown",
   "id": "d85de904",
   "metadata": {},
   "source": [
    "문제 풀이 : https://raspy-turnip-f8d.notion.site/2004-0-8612cdf441c542d1958347db99756819"
   ]
  },
  {
   "cell_type": "code",
   "execution_count": null,
   "id": "eb134287",
   "metadata": {},
   "outputs": [],
   "source": [
    "# 조합 0의 개수\n",
    "# nCm의 끝자리 0의 개수를 출력하는 프로그램을 작성하시오.\n",
    "import sys\n",
    "import math\n",
    "\n",
    "n, m = tuple(map(int, sys.stdin.readline().split()))\n",
    "# 0 <= m <= n <= 2,000,000,000\n",
    "\n",
    "# nCm = (n)! // (n-m)! * (m)!\n",
    "\n",
    "\n",
    "def five(num):\n",
    "    ans = 0\n",
    "    while num >= 5:\n",
    "        ans += num//5\n",
    "        num //= 5\n",
    "    return ans\n",
    "\n",
    "\n",
    "def two(num):\n",
    "    ans = 0\n",
    "    while num >= 2:\n",
    "        ans += num//2\n",
    "        num //= 2\n",
    "    return ans\n",
    "\n",
    "\n",
    "print(min((five(n) - five(m) - five(n-m)), (two(n) - two(m) - two(n-m))))"
   ]
  }
 ],
 "metadata": {
  "kernelspec": {
   "display_name": "Python 3",
   "language": "python",
   "name": "python3"
  },
  "language_info": {
   "codemirror_mode": {
    "name": "ipython",
    "version": 3
   },
   "file_extension": ".py",
   "mimetype": "text/x-python",
   "name": "python",
   "nbconvert_exporter": "python",
   "pygments_lexer": "ipython3",
   "version": "3.8.8"
  }
 },
 "nbformat": 4,
 "nbformat_minor": 5
}
