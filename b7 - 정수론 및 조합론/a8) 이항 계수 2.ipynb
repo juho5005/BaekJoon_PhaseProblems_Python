{
 "cells": [
  {
   "cell_type": "code",
   "execution_count": null,
   "id": "bfd671cc",
   "metadata": {},
   "outputs": [],
   "source": [
    "# 이항 계수 1\n",
    "# 자연수 N과 정수 K가 주어질 때 이항 계수 (N, K)를 구하시오.\n",
    "\n",
    "import sys\n",
    "n, k = tuple(map(int, sys.stdin.readline().split()))\n",
    "\n",
    "a = 1\n",
    "x = n\n",
    "for _ in range(k):\n",
    "    a *= x\n",
    "    x -= 1\n",
    "\n",
    "b = 1\n",
    "y = k\n",
    "for _ in range(k):\n",
    "    b *= y\n",
    "    y -= 1\n",
    "\n",
    "print((a//b) % 10007)"
   ]
  }
 ],
 "metadata": {
  "kernelspec": {
   "display_name": "Python 3",
   "language": "python",
   "name": "python3"
  },
  "language_info": {
   "codemirror_mode": {
    "name": "ipython",
    "version": 3
   },
   "file_extension": ".py",
   "mimetype": "text/x-python",
   "name": "python",
   "nbconvert_exporter": "python",
   "pygments_lexer": "ipython3",
   "version": "3.8.8"
  }
 },
 "nbformat": 4,
 "nbformat_minor": 5
}
