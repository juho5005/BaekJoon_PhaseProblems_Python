{
 "cells": [
  {
   "cell_type": "code",
   "execution_count": null,
   "id": "a00bb295",
   "metadata": {},
   "outputs": [],
   "source": [
    "import sys\n",
    "cnt = int(sys.stdin.readline())\n",
    "# 1 <= cnt <= 50\n",
    "\n",
    "submultiples = list(map(int, sys.stdin.readline().split()))\n",
    "\n",
    "if len(submultiples) == 1:\n",
    "    print(submultiples[0] * submultiples[0])\n",
    "else:\n",
    "    submultiples.sort()\n",
    "    print(submultiples[0] * submultiples[-1])"
   ]
  }
 ],
 "metadata": {
  "kernelspec": {
   "display_name": "Python 3",
   "language": "python",
   "name": "python3"
  },
  "language_info": {
   "codemirror_mode": {
    "name": "ipython",
    "version": 3
   },
   "file_extension": ".py",
   "mimetype": "text/x-python",
   "name": "python",
   "nbconvert_exporter": "python",
   "pygments_lexer": "ipython3",
   "version": "3.8.8"
  }
 },
 "nbformat": 4,
 "nbformat_minor": 5
}
